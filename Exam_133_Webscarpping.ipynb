{
  "nbformat": 4,
  "nbformat_minor": 0,
  "metadata": {
    "colab": {
      "provenance": [],
      "authorship_tag": "ABX9TyPV4jKlu1FsmvTmtdTwn+aF",
      "include_colab_link": true
    },
    "kernelspec": {
      "name": "python3",
      "display_name": "Python 3"
    },
    "language_info": {
      "name": "python"
    }
  },
  "cells": [
    {
      "cell_type": "markdown",
      "metadata": {
        "id": "view-in-github",
        "colab_type": "text"
      },
      "source": [
        "<a href=\"https://colab.research.google.com/github/Doryane/Doryane/blob/main/Exam_133_Webscarpping.ipynb\" target=\"_parent\"><img src=\"https://colab.research.google.com/assets/colab-badge.svg\" alt=\"Open In Colab\"/></a>"
      ]
    },
    {
      "cell_type": "markdown",
      "source": [
        "1. **Premier site: IMDB**"
      ],
      "metadata": {
        "id": "8DTGvJdWoHCF"
      }
    },
    {
      "cell_type": "code",
      "execution_count": 1,
      "metadata": {
        "id": "QxIZAlwY_ITK"
      },
      "outputs": [],
      "source": [
        "from bs4 import BeautifulSoup as bs\n",
        "import requests"
      ]
    },
    {
      "cell_type": "code",
      "source": [
        "url_imdb = 'https://assets-datascientest.s3.eu-west-1.amazonaws.com/IMDb.html'\n",
        "page_imdb = requests.get(url_imdb)\n",
        "bs_imdb = bs(page_imdb.content,\"lxml\")\n",
        "print(bs_imdb.prettify().splitlines()[0:30])\n"
      ],
      "metadata": {
        "colab": {
          "base_uri": "https://localhost:8080/"
        },
        "id": "D2zBDw59_Xhs",
        "outputId": "3c381312-078f-44e8-8edf-3ec0acb3ec0d"
      },
      "execution_count": 2,
      "outputs": [
        {
          "output_type": "stream",
          "name": "stdout",
          "text": [
            "['<!DOCTYPE html>', '<html xmlns:fb=\"http://www.facebook.com/2008/fbml\" xmlns:og=\"http://ogp.me/ns#\">', ' <head>', '  <script type=\"text/javascript\">', '   var ue_t0=ue_t0||+new Date();', '  </script>', '  <script type=\"text/javascript\">', '   window.ue_ihb = (window.ue_ihb || window.ueinit || 0) + 1;', 'if (window.ue_ihb === 1) {', '', 'var ue_csm = window,', '    ue_hob = +new Date();', '(function(d){var e=d.ue=d.ue||{},f=Date.now||function(){return+new Date};e.d=function(b){return f()-(b?0:d.ue_t0)};e.stub=function(b,a){if(!b[a]){var c=[];b[a]=function(){c.push([c.slice.call(arguments),e.d(),d.ue_id])};b[a].replay=function(b){for(var a;a=c.shift();)b(a[0],a[1],a[2])};b[a].isStub=1}};e.exec=function(b,a){return function(){try{return b.apply(this,arguments)}catch(c){ueLogError(c,{attribution:a||\"undefined\",logLevel:\"WARN\"})}}}})(ue_csm);', '', '', \"    var ue_err_chan = 'jserr';\", '(function(d,e){function h(f,b){if(!(a.ec>a.mxe)&&f){a.ter.push(f);b=b||{};var c=f.logLevel||b.logLevel;c&&c!==k&&c!==m&&c!==n&&c!==p||a.ec++;c&&c!=k||a.ecf++;b.pageURL=\"\"+(e.location?e.location.href:\"\");b.logLevel=c;b.attribution=f.attribution||b.attribution;a.erl.push({ex:f,info:b})}}function l(a,b,c,e,g){d.ueLogError({m:a,f:b,l:c,c:\"\"+e,err:g,fromOnError:1,args:arguments},g?{attribution:g.attribution,logLevel:g.logLevel}:void 0);return!1}var k=\"FATAL\",m=\"ERROR\",n=\"WARN\",p=\"DOWNGRADED\",a={ec:0,ecf:0,', 'pec:0,ts:0,erl:[],ter:[],buffer:[],mxe:50,startTimer:function(){a.ts++;setInterval(function(){d.ue&&a.pec<a.ec&&d.uex(\"at\");a.pec=a.ec},1E4)}};l.skipTrace=1;h.skipTrace=1;h.isStub=1;d.ueLogError=h;d.ue_err=a;e.onerror=l})(ue_csm,window);', '', '', \"var ue_id = '8G01TZAYK73D0K148WDQ',\", '    ue_url,', '    ue_navtiming = 1,', \"    ue_mid = 'A1EVAM02EL8SFB',\", \"    ue_sid = '139-4771682-8444857',\", \"    ue_sn = 'www.imdb.com',\", \"    ue_furl = 'fls-na.amazon.com',\", \"    ue_surl = 'https://unagi-na.amazon.com/1/events/com.amazon.csm.nexusclient.prod',\", '    ue_int = 0,', '    ue_fcsn = 1,']\n"
          ]
        }
      ]
    },
    {
      "cell_type": "code",
      "source": [
        "titles = bs_imdb.find_all(\"h1\")\n",
        "for title in titles:\n",
        "    print(title.text)"
      ],
      "metadata": {
        "colab": {
          "base_uri": "https://localhost:8080/"
        },
        "id": "-mM2hdhi_ilB",
        "outputId": "f648bf3e-5c13-4f62-e2c8-6812d18b6e18"
      },
      "execution_count": 3,
      "outputs": [
        {
          "output_type": "stream",
          "name": "stdout",
          "text": [
            "IMDb Top 250 Movies\n"
          ]
        }
      ]
    },
    {
      "cell_type": "code",
      "source": [
        "print(bs_imdb.p.contents)"
      ],
      "metadata": {
        "colab": {
          "base_uri": "https://localhost:8080/"
        },
        "id": "cjLwB8dG_klA",
        "outputId": "7f68bd7a-4d1f-43d8-c42c-dfacca2b89ba"
      },
      "execution_count": 4,
      "outputs": [
        {
          "output_type": "stream",
          "name": "stdout",
          "text": [
            "['The Top Rated Movie list only includes feature films.']\n"
          ]
        }
      ]
    },
    {
      "cell_type": "code",
      "source": [
        "print(bs_imdb.p.parent.name)"
      ],
      "metadata": {
        "colab": {
          "base_uri": "https://localhost:8080/"
        },
        "id": "7BZVcu40_m8E",
        "outputId": "d55abd4e-865d-4a74-ea6d-3c9b9acb1895"
      },
      "execution_count": 5,
      "outputs": [
        {
          "output_type": "stream",
          "name": "stdout",
          "text": [
            "div\n"
          ]
        }
      ]
    },
    {
      "cell_type": "code",
      "source": [
        "for link in bs_imdb.find_all('a'):\n",
        "    print(link.get('href'))"
      ],
      "metadata": {
        "id": "mMRTTpng_oq0",
        "colab": {
          "base_uri": "https://localhost:8080/"
        },
        "outputId": "0033bbf0-51dc-4e2f-98d3-94dc560134df"
      },
      "execution_count": 6,
      "outputs": [
        {
          "output_type": "stream",
          "name": "stdout",
          "text": [
            "/?ref_=nv_home\n",
            "/chart/top/?ref_=nv_mv_250\n",
            "/chart/moviemeter/?ref_=nv_mv_mpm\n",
            "/chart/toptv/?ref_=nv_tvv_250\n",
            "/chart/tvmeter/?ref_=nv_tvv_mptv\n",
            "/search/title/?title_type=video_game&ref_=nv_tvv_mpvg\n",
            "/search/title/?title_type=music_video&ref_=nv_td_mpvg\n",
            "/search/title/?title_type=podcast_series&ref_=nv_td_mppp\n",
            "https://www.imdb.com/calendar/?ref_=nv_mv_cal\n",
            "/feature/genre/?ref_=nv_ch_gr\n",
            "/chart/boxoffice/?ref_=nv_ch_cht\n",
            "/showtimes/?ref_=nv_mv_sh\n",
            "/news/movie/?ref_=nv_nw_mv\n",
            "/india/toprated/?ref_=nv_mv_in\n",
            "/whats-on-tv/?ref_=nv_tv_ontv\n",
            "/feature/genre/\n",
            "/news/tv/?ref_=nv_nw_tv\n",
            "/india/tv?ref_=nv_tv_in\n",
            "/what-to-watch/?ref_=nv_watch\n",
            "/trailers/?ref_=nv_mv_tr\n",
            "/originals/?ref_=nv_sf_ori\n",
            "/imdbpicks/?ref_=nv_pi\n",
            "/podcasts/?ref_=nv_pod\n",
            "/oscars/?ref_=nv_ev_acd\n",
            "https://m.imdb.com/feature/bestpicture/?ref_=nv_ch_osc\n",
            "https://www.imdb.com/search/title/?count=100&groups=oscar_best_picture_winners&sort=year%2Cdesc&ref_=nv_ch_osc\n",
            "/emmys/?ref_=nv_ev_rte\n",
            "/starmeterawards/?ref_=nv_ev_sma\n",
            "/comic-con/?ref_=nv_ev_comic\n",
            "/nycc/?ref_=nv_ev_nycc\n",
            "/sundance/?ref_=nv_ev_sun\n",
            "/toronto/?ref_=nv_ev_tor\n",
            "/awards-central/?ref_=nv_ev_awrd\n",
            "/festival-central/?ref_=nv_ev_fc\n",
            "/event/all/?ref_=nv_ev_all\n",
            "/feature/bornondate/?ref_=nv_cel_brn\n",
            "https://m.imdb.com/chart/starmeter/?ref_=nv_cel_brn\n",
            "https://www.imdb.com/search/name/?match_all=true&ref_=nv_cel_m\n",
            "/news/celebrity/?ref_=nv_cel_nw\n",
            "https://help.imdb.com/imdb?ref_=cons_nb_hlp\n",
            "https://contribute.imdb.com/czone?ref_=nv_cm_cz\n",
            "/poll/?ref_=nv_cm_pl\n",
            "https://pro.imdb.com?ref_=cons_nb_hm&rf=cons_nb_hm\n",
            "/?ref_=nv_home\n",
            "https://www.imdb.com/search/\n",
            "https://pro.imdb.com/login/ap?u=/login/lwa&imdbPageAction=signUp&rf=cons_nb_hm&ref_=cons_nb_hm\n",
            "/list/watchlist?ref_=nv_usr_wl_all_0\n",
            "/registration/signin?ref=nv_generic_lgin&u=\n",
            "https://help.imdb.com/article/issues/GM7RXFVEA64VLJFV?ref_=loc_nav_sel_hlp\n",
            "None\n",
            "/title/tt0111161/?pf_rd_m=A2FGELUUNOQJNL&pf_rd_p=1a264172-ae11-42e4-8ef7-7fed1973bb8f&pf_rd_r=8G01TZAYK73D0K148WDQ&pf_rd_s=center-1&pf_rd_t=15506&pf_rd_i=top&ref_=chttp_tt_1\n",
            "/title/tt0111161/?pf_rd_m=A2FGELUUNOQJNL&pf_rd_p=1a264172-ae11-42e4-8ef7-7fed1973bb8f&pf_rd_r=8G01TZAYK73D0K148WDQ&pf_rd_s=center-1&pf_rd_t=15506&pf_rd_i=top&ref_=chttp_tt_1\n",
            "/title/tt0068646/?pf_rd_m=A2FGELUUNOQJNL&pf_rd_p=1a264172-ae11-42e4-8ef7-7fed1973bb8f&pf_rd_r=8G01TZAYK73D0K148WDQ&pf_rd_s=center-1&pf_rd_t=15506&pf_rd_i=top&ref_=chttp_tt_2\n",
            "/title/tt0068646/?pf_rd_m=A2FGELUUNOQJNL&pf_rd_p=1a264172-ae11-42e4-8ef7-7fed1973bb8f&pf_rd_r=8G01TZAYK73D0K148WDQ&pf_rd_s=center-1&pf_rd_t=15506&pf_rd_i=top&ref_=chttp_tt_2\n",
            "/title/tt0468569/?pf_rd_m=A2FGELUUNOQJNL&pf_rd_p=1a264172-ae11-42e4-8ef7-7fed1973bb8f&pf_rd_r=8G01TZAYK73D0K148WDQ&pf_rd_s=center-1&pf_rd_t=15506&pf_rd_i=top&ref_=chttp_tt_3\n",
            "/title/tt0468569/?pf_rd_m=A2FGELUUNOQJNL&pf_rd_p=1a264172-ae11-42e4-8ef7-7fed1973bb8f&pf_rd_r=8G01TZAYK73D0K148WDQ&pf_rd_s=center-1&pf_rd_t=15506&pf_rd_i=top&ref_=chttp_tt_3\n",
            "/title/tt0071562/?pf_rd_m=A2FGELUUNOQJNL&pf_rd_p=1a264172-ae11-42e4-8ef7-7fed1973bb8f&pf_rd_r=8G01TZAYK73D0K148WDQ&pf_rd_s=center-1&pf_rd_t=15506&pf_rd_i=top&ref_=chttp_tt_4\n",
            "/title/tt0071562/?pf_rd_m=A2FGELUUNOQJNL&pf_rd_p=1a264172-ae11-42e4-8ef7-7fed1973bb8f&pf_rd_r=8G01TZAYK73D0K148WDQ&pf_rd_s=center-1&pf_rd_t=15506&pf_rd_i=top&ref_=chttp_tt_4\n",
            "/title/tt0050083/?pf_rd_m=A2FGELUUNOQJNL&pf_rd_p=1a264172-ae11-42e4-8ef7-7fed1973bb8f&pf_rd_r=8G01TZAYK73D0K148WDQ&pf_rd_s=center-1&pf_rd_t=15506&pf_rd_i=top&ref_=chttp_tt_5\n",
            "/title/tt0050083/?pf_rd_m=A2FGELUUNOQJNL&pf_rd_p=1a264172-ae11-42e4-8ef7-7fed1973bb8f&pf_rd_r=8G01TZAYK73D0K148WDQ&pf_rd_s=center-1&pf_rd_t=15506&pf_rd_i=top&ref_=chttp_tt_5\n",
            "/title/tt0108052/?pf_rd_m=A2FGELUUNOQJNL&pf_rd_p=1a264172-ae11-42e4-8ef7-7fed1973bb8f&pf_rd_r=8G01TZAYK73D0K148WDQ&pf_rd_s=center-1&pf_rd_t=15506&pf_rd_i=top&ref_=chttp_tt_6\n",
            "/title/tt0108052/?pf_rd_m=A2FGELUUNOQJNL&pf_rd_p=1a264172-ae11-42e4-8ef7-7fed1973bb8f&pf_rd_r=8G01TZAYK73D0K148WDQ&pf_rd_s=center-1&pf_rd_t=15506&pf_rd_i=top&ref_=chttp_tt_6\n",
            "/title/tt0167260/?pf_rd_m=A2FGELUUNOQJNL&pf_rd_p=1a264172-ae11-42e4-8ef7-7fed1973bb8f&pf_rd_r=8G01TZAYK73D0K148WDQ&pf_rd_s=center-1&pf_rd_t=15506&pf_rd_i=top&ref_=chttp_tt_7\n",
            "/title/tt0167260/?pf_rd_m=A2FGELUUNOQJNL&pf_rd_p=1a264172-ae11-42e4-8ef7-7fed1973bb8f&pf_rd_r=8G01TZAYK73D0K148WDQ&pf_rd_s=center-1&pf_rd_t=15506&pf_rd_i=top&ref_=chttp_tt_7\n",
            "/title/tt0110912/?pf_rd_m=A2FGELUUNOQJNL&pf_rd_p=1a264172-ae11-42e4-8ef7-7fed1973bb8f&pf_rd_r=8G01TZAYK73D0K148WDQ&pf_rd_s=center-1&pf_rd_t=15506&pf_rd_i=top&ref_=chttp_tt_8\n",
            "/title/tt0110912/?pf_rd_m=A2FGELUUNOQJNL&pf_rd_p=1a264172-ae11-42e4-8ef7-7fed1973bb8f&pf_rd_r=8G01TZAYK73D0K148WDQ&pf_rd_s=center-1&pf_rd_t=15506&pf_rd_i=top&ref_=chttp_tt_8\n",
            "/title/tt0120737/?pf_rd_m=A2FGELUUNOQJNL&pf_rd_p=1a264172-ae11-42e4-8ef7-7fed1973bb8f&pf_rd_r=8G01TZAYK73D0K148WDQ&pf_rd_s=center-1&pf_rd_t=15506&pf_rd_i=top&ref_=chttp_tt_9\n",
            "/title/tt0120737/?pf_rd_m=A2FGELUUNOQJNL&pf_rd_p=1a264172-ae11-42e4-8ef7-7fed1973bb8f&pf_rd_r=8G01TZAYK73D0K148WDQ&pf_rd_s=center-1&pf_rd_t=15506&pf_rd_i=top&ref_=chttp_tt_9\n",
            "/title/tt0060196/?pf_rd_m=A2FGELUUNOQJNL&pf_rd_p=1a264172-ae11-42e4-8ef7-7fed1973bb8f&pf_rd_r=8G01TZAYK73D0K148WDQ&pf_rd_s=center-1&pf_rd_t=15506&pf_rd_i=top&ref_=chttp_tt_10\n",
            "/title/tt0060196/?pf_rd_m=A2FGELUUNOQJNL&pf_rd_p=1a264172-ae11-42e4-8ef7-7fed1973bb8f&pf_rd_r=8G01TZAYK73D0K148WDQ&pf_rd_s=center-1&pf_rd_t=15506&pf_rd_i=top&ref_=chttp_tt_10\n",
            "/title/tt0109830/?pf_rd_m=A2FGELUUNOQJNL&pf_rd_p=1a264172-ae11-42e4-8ef7-7fed1973bb8f&pf_rd_r=8G01TZAYK73D0K148WDQ&pf_rd_s=center-1&pf_rd_t=15506&pf_rd_i=top&ref_=chttp_tt_11\n",
            "/title/tt0109830/?pf_rd_m=A2FGELUUNOQJNL&pf_rd_p=1a264172-ae11-42e4-8ef7-7fed1973bb8f&pf_rd_r=8G01TZAYK73D0K148WDQ&pf_rd_s=center-1&pf_rd_t=15506&pf_rd_i=top&ref_=chttp_tt_11\n",
            "/title/tt0137523/?pf_rd_m=A2FGELUUNOQJNL&pf_rd_p=1a264172-ae11-42e4-8ef7-7fed1973bb8f&pf_rd_r=8G01TZAYK73D0K148WDQ&pf_rd_s=center-1&pf_rd_t=15506&pf_rd_i=top&ref_=chttp_tt_12\n",
            "/title/tt0137523/?pf_rd_m=A2FGELUUNOQJNL&pf_rd_p=1a264172-ae11-42e4-8ef7-7fed1973bb8f&pf_rd_r=8G01TZAYK73D0K148WDQ&pf_rd_s=center-1&pf_rd_t=15506&pf_rd_i=top&ref_=chttp_tt_12\n",
            "/title/tt0167261/?pf_rd_m=A2FGELUUNOQJNL&pf_rd_p=1a264172-ae11-42e4-8ef7-7fed1973bb8f&pf_rd_r=8G01TZAYK73D0K148WDQ&pf_rd_s=center-1&pf_rd_t=15506&pf_rd_i=top&ref_=chttp_tt_13\n",
            "/title/tt0167261/?pf_rd_m=A2FGELUUNOQJNL&pf_rd_p=1a264172-ae11-42e4-8ef7-7fed1973bb8f&pf_rd_r=8G01TZAYK73D0K148WDQ&pf_rd_s=center-1&pf_rd_t=15506&pf_rd_i=top&ref_=chttp_tt_13\n",
            "/title/tt1375666/?pf_rd_m=A2FGELUUNOQJNL&pf_rd_p=1a264172-ae11-42e4-8ef7-7fed1973bb8f&pf_rd_r=8G01TZAYK73D0K148WDQ&pf_rd_s=center-1&pf_rd_t=15506&pf_rd_i=top&ref_=chttp_tt_14\n",
            "/title/tt1375666/?pf_rd_m=A2FGELUUNOQJNL&pf_rd_p=1a264172-ae11-42e4-8ef7-7fed1973bb8f&pf_rd_r=8G01TZAYK73D0K148WDQ&pf_rd_s=center-1&pf_rd_t=15506&pf_rd_i=top&ref_=chttp_tt_14\n",
            "/title/tt0080684/?pf_rd_m=A2FGELUUNOQJNL&pf_rd_p=1a264172-ae11-42e4-8ef7-7fed1973bb8f&pf_rd_r=8G01TZAYK73D0K148WDQ&pf_rd_s=center-1&pf_rd_t=15506&pf_rd_i=top&ref_=chttp_tt_15\n",
            "/title/tt0080684/?pf_rd_m=A2FGELUUNOQJNL&pf_rd_p=1a264172-ae11-42e4-8ef7-7fed1973bb8f&pf_rd_r=8G01TZAYK73D0K148WDQ&pf_rd_s=center-1&pf_rd_t=15506&pf_rd_i=top&ref_=chttp_tt_15\n",
            "/title/tt0133093/?pf_rd_m=A2FGELUUNOQJNL&pf_rd_p=1a264172-ae11-42e4-8ef7-7fed1973bb8f&pf_rd_r=8G01TZAYK73D0K148WDQ&pf_rd_s=center-1&pf_rd_t=15506&pf_rd_i=top&ref_=chttp_tt_16\n",
            "/title/tt0133093/?pf_rd_m=A2FGELUUNOQJNL&pf_rd_p=1a264172-ae11-42e4-8ef7-7fed1973bb8f&pf_rd_r=8G01TZAYK73D0K148WDQ&pf_rd_s=center-1&pf_rd_t=15506&pf_rd_i=top&ref_=chttp_tt_16\n",
            "/title/tt0099685/?pf_rd_m=A2FGELUUNOQJNL&pf_rd_p=1a264172-ae11-42e4-8ef7-7fed1973bb8f&pf_rd_r=8G01TZAYK73D0K148WDQ&pf_rd_s=center-1&pf_rd_t=15506&pf_rd_i=top&ref_=chttp_tt_17\n",
            "/title/tt0099685/?pf_rd_m=A2FGELUUNOQJNL&pf_rd_p=1a264172-ae11-42e4-8ef7-7fed1973bb8f&pf_rd_r=8G01TZAYK73D0K148WDQ&pf_rd_s=center-1&pf_rd_t=15506&pf_rd_i=top&ref_=chttp_tt_17\n",
            "/title/tt0073486/?pf_rd_m=A2FGELUUNOQJNL&pf_rd_p=1a264172-ae11-42e4-8ef7-7fed1973bb8f&pf_rd_r=8G01TZAYK73D0K148WDQ&pf_rd_s=center-1&pf_rd_t=15506&pf_rd_i=top&ref_=chttp_tt_18\n",
            "/title/tt0073486/?pf_rd_m=A2FGELUUNOQJNL&pf_rd_p=1a264172-ae11-42e4-8ef7-7fed1973bb8f&pf_rd_r=8G01TZAYK73D0K148WDQ&pf_rd_s=center-1&pf_rd_t=15506&pf_rd_i=top&ref_=chttp_tt_18\n",
            "/title/tt0114369/?pf_rd_m=A2FGELUUNOQJNL&pf_rd_p=1a264172-ae11-42e4-8ef7-7fed1973bb8f&pf_rd_r=8G01TZAYK73D0K148WDQ&pf_rd_s=center-1&pf_rd_t=15506&pf_rd_i=top&ref_=chttp_tt_19\n",
            "/title/tt0114369/?pf_rd_m=A2FGELUUNOQJNL&pf_rd_p=1a264172-ae11-42e4-8ef7-7fed1973bb8f&pf_rd_r=8G01TZAYK73D0K148WDQ&pf_rd_s=center-1&pf_rd_t=15506&pf_rd_i=top&ref_=chttp_tt_19\n",
            "/title/tt0047478/?pf_rd_m=A2FGELUUNOQJNL&pf_rd_p=1a264172-ae11-42e4-8ef7-7fed1973bb8f&pf_rd_r=8G01TZAYK73D0K148WDQ&pf_rd_s=center-1&pf_rd_t=15506&pf_rd_i=top&ref_=chttp_tt_20\n",
            "/title/tt0047478/?pf_rd_m=A2FGELUUNOQJNL&pf_rd_p=1a264172-ae11-42e4-8ef7-7fed1973bb8f&pf_rd_r=8G01TZAYK73D0K148WDQ&pf_rd_s=center-1&pf_rd_t=15506&pf_rd_i=top&ref_=chttp_tt_20\n",
            "/title/tt0038650/?pf_rd_m=A2FGELUUNOQJNL&pf_rd_p=1a264172-ae11-42e4-8ef7-7fed1973bb8f&pf_rd_r=8G01TZAYK73D0K148WDQ&pf_rd_s=center-1&pf_rd_t=15506&pf_rd_i=top&ref_=chttp_tt_21\n",
            "/title/tt0038650/?pf_rd_m=A2FGELUUNOQJNL&pf_rd_p=1a264172-ae11-42e4-8ef7-7fed1973bb8f&pf_rd_r=8G01TZAYK73D0K148WDQ&pf_rd_s=center-1&pf_rd_t=15506&pf_rd_i=top&ref_=chttp_tt_21\n",
            "/title/tt0102926/?pf_rd_m=A2FGELUUNOQJNL&pf_rd_p=1a264172-ae11-42e4-8ef7-7fed1973bb8f&pf_rd_r=8G01TZAYK73D0K148WDQ&pf_rd_s=center-1&pf_rd_t=15506&pf_rd_i=top&ref_=chttp_tt_22\n",
            "/title/tt0102926/?pf_rd_m=A2FGELUUNOQJNL&pf_rd_p=1a264172-ae11-42e4-8ef7-7fed1973bb8f&pf_rd_r=8G01TZAYK73D0K148WDQ&pf_rd_s=center-1&pf_rd_t=15506&pf_rd_i=top&ref_=chttp_tt_22\n",
            "/title/tt0317248/?pf_rd_m=A2FGELUUNOQJNL&pf_rd_p=1a264172-ae11-42e4-8ef7-7fed1973bb8f&pf_rd_r=8G01TZAYK73D0K148WDQ&pf_rd_s=center-1&pf_rd_t=15506&pf_rd_i=top&ref_=chttp_tt_23\n",
            "/title/tt0317248/?pf_rd_m=A2FGELUUNOQJNL&pf_rd_p=1a264172-ae11-42e4-8ef7-7fed1973bb8f&pf_rd_r=8G01TZAYK73D0K148WDQ&pf_rd_s=center-1&pf_rd_t=15506&pf_rd_i=top&ref_=chttp_tt_23\n",
            "/title/tt0120815/?pf_rd_m=A2FGELUUNOQJNL&pf_rd_p=1a264172-ae11-42e4-8ef7-7fed1973bb8f&pf_rd_r=8G01TZAYK73D0K148WDQ&pf_rd_s=center-1&pf_rd_t=15506&pf_rd_i=top&ref_=chttp_tt_24\n",
            "/title/tt0120815/?pf_rd_m=A2FGELUUNOQJNL&pf_rd_p=1a264172-ae11-42e4-8ef7-7fed1973bb8f&pf_rd_r=8G01TZAYK73D0K148WDQ&pf_rd_s=center-1&pf_rd_t=15506&pf_rd_i=top&ref_=chttp_tt_24\n",
            "/title/tt0118799/?pf_rd_m=A2FGELUUNOQJNL&pf_rd_p=1a264172-ae11-42e4-8ef7-7fed1973bb8f&pf_rd_r=8G01TZAYK73D0K148WDQ&pf_rd_s=center-1&pf_rd_t=15506&pf_rd_i=top&ref_=chttp_tt_25\n",
            "/title/tt0118799/?pf_rd_m=A2FGELUUNOQJNL&pf_rd_p=1a264172-ae11-42e4-8ef7-7fed1973bb8f&pf_rd_r=8G01TZAYK73D0K148WDQ&pf_rd_s=center-1&pf_rd_t=15506&pf_rd_i=top&ref_=chttp_tt_25\n",
            "/title/tt0816692/?pf_rd_m=A2FGELUUNOQJNL&pf_rd_p=1a264172-ae11-42e4-8ef7-7fed1973bb8f&pf_rd_r=8G01TZAYK73D0K148WDQ&pf_rd_s=center-1&pf_rd_t=15506&pf_rd_i=top&ref_=chttp_tt_26\n",
            "/title/tt0816692/?pf_rd_m=A2FGELUUNOQJNL&pf_rd_p=1a264172-ae11-42e4-8ef7-7fed1973bb8f&pf_rd_r=8G01TZAYK73D0K148WDQ&pf_rd_s=center-1&pf_rd_t=15506&pf_rd_i=top&ref_=chttp_tt_26\n",
            "/title/tt0120689/?pf_rd_m=A2FGELUUNOQJNL&pf_rd_p=1a264172-ae11-42e4-8ef7-7fed1973bb8f&pf_rd_r=8G01TZAYK73D0K148WDQ&pf_rd_s=center-1&pf_rd_t=15506&pf_rd_i=top&ref_=chttp_tt_27\n",
            "/title/tt0120689/?pf_rd_m=A2FGELUUNOQJNL&pf_rd_p=1a264172-ae11-42e4-8ef7-7fed1973bb8f&pf_rd_r=8G01TZAYK73D0K148WDQ&pf_rd_s=center-1&pf_rd_t=15506&pf_rd_i=top&ref_=chttp_tt_27\n",
            "/title/tt0076759/?pf_rd_m=A2FGELUUNOQJNL&pf_rd_p=1a264172-ae11-42e4-8ef7-7fed1973bb8f&pf_rd_r=8G01TZAYK73D0K148WDQ&pf_rd_s=center-1&pf_rd_t=15506&pf_rd_i=top&ref_=chttp_tt_28\n",
            "/title/tt0076759/?pf_rd_m=A2FGELUUNOQJNL&pf_rd_p=1a264172-ae11-42e4-8ef7-7fed1973bb8f&pf_rd_r=8G01TZAYK73D0K148WDQ&pf_rd_s=center-1&pf_rd_t=15506&pf_rd_i=top&ref_=chttp_tt_28\n",
            "/title/tt0103064/?pf_rd_m=A2FGELUUNOQJNL&pf_rd_p=1a264172-ae11-42e4-8ef7-7fed1973bb8f&pf_rd_r=8G01TZAYK73D0K148WDQ&pf_rd_s=center-1&pf_rd_t=15506&pf_rd_i=top&ref_=chttp_tt_29\n",
            "/title/tt0103064/?pf_rd_m=A2FGELUUNOQJNL&pf_rd_p=1a264172-ae11-42e4-8ef7-7fed1973bb8f&pf_rd_r=8G01TZAYK73D0K148WDQ&pf_rd_s=center-1&pf_rd_t=15506&pf_rd_i=top&ref_=chttp_tt_29\n",
            "/title/tt0088763/?pf_rd_m=A2FGELUUNOQJNL&pf_rd_p=1a264172-ae11-42e4-8ef7-7fed1973bb8f&pf_rd_r=8G01TZAYK73D0K148WDQ&pf_rd_s=center-1&pf_rd_t=15506&pf_rd_i=top&ref_=chttp_tt_30\n",
            "/title/tt0088763/?pf_rd_m=A2FGELUUNOQJNL&pf_rd_p=1a264172-ae11-42e4-8ef7-7fed1973bb8f&pf_rd_r=8G01TZAYK73D0K148WDQ&pf_rd_s=center-1&pf_rd_t=15506&pf_rd_i=top&ref_=chttp_tt_30\n",
            "/title/tt0245429/?pf_rd_m=A2FGELUUNOQJNL&pf_rd_p=1a264172-ae11-42e4-8ef7-7fed1973bb8f&pf_rd_r=8G01TZAYK73D0K148WDQ&pf_rd_s=center-1&pf_rd_t=15506&pf_rd_i=top&ref_=chttp_tt_31\n",
            "/title/tt0245429/?pf_rd_m=A2FGELUUNOQJNL&pf_rd_p=1a264172-ae11-42e4-8ef7-7fed1973bb8f&pf_rd_r=8G01TZAYK73D0K148WDQ&pf_rd_s=center-1&pf_rd_t=15506&pf_rd_i=top&ref_=chttp_tt_31\n",
            "/title/tt0054215/?pf_rd_m=A2FGELUUNOQJNL&pf_rd_p=1a264172-ae11-42e4-8ef7-7fed1973bb8f&pf_rd_r=8G01TZAYK73D0K148WDQ&pf_rd_s=center-1&pf_rd_t=15506&pf_rd_i=top&ref_=chttp_tt_32\n",
            "/title/tt0054215/?pf_rd_m=A2FGELUUNOQJNL&pf_rd_p=1a264172-ae11-42e4-8ef7-7fed1973bb8f&pf_rd_r=8G01TZAYK73D0K148WDQ&pf_rd_s=center-1&pf_rd_t=15506&pf_rd_i=top&ref_=chttp_tt_32\n",
            "/title/tt0253474/?pf_rd_m=A2FGELUUNOQJNL&pf_rd_p=1a264172-ae11-42e4-8ef7-7fed1973bb8f&pf_rd_r=8G01TZAYK73D0K148WDQ&pf_rd_s=center-1&pf_rd_t=15506&pf_rd_i=top&ref_=chttp_tt_33\n",
            "/title/tt0253474/?pf_rd_m=A2FGELUUNOQJNL&pf_rd_p=1a264172-ae11-42e4-8ef7-7fed1973bb8f&pf_rd_r=8G01TZAYK73D0K148WDQ&pf_rd_s=center-1&pf_rd_t=15506&pf_rd_i=top&ref_=chttp_tt_33\n",
            "/title/tt6751668/?pf_rd_m=A2FGELUUNOQJNL&pf_rd_p=1a264172-ae11-42e4-8ef7-7fed1973bb8f&pf_rd_r=8G01TZAYK73D0K148WDQ&pf_rd_s=center-1&pf_rd_t=15506&pf_rd_i=top&ref_=chttp_tt_34\n",
            "/title/tt6751668/?pf_rd_m=A2FGELUUNOQJNL&pf_rd_p=1a264172-ae11-42e4-8ef7-7fed1973bb8f&pf_rd_r=8G01TZAYK73D0K148WDQ&pf_rd_s=center-1&pf_rd_t=15506&pf_rd_i=top&ref_=chttp_tt_34\n",
            "/title/tt0110413/?pf_rd_m=A2FGELUUNOQJNL&pf_rd_p=1a264172-ae11-42e4-8ef7-7fed1973bb8f&pf_rd_r=8G01TZAYK73D0K148WDQ&pf_rd_s=center-1&pf_rd_t=15506&pf_rd_i=top&ref_=chttp_tt_35\n",
            "/title/tt0110413/?pf_rd_m=A2FGELUUNOQJNL&pf_rd_p=1a264172-ae11-42e4-8ef7-7fed1973bb8f&pf_rd_r=8G01TZAYK73D0K148WDQ&pf_rd_s=center-1&pf_rd_t=15506&pf_rd_i=top&ref_=chttp_tt_35\n",
            "/title/tt0110357/?pf_rd_m=A2FGELUUNOQJNL&pf_rd_p=1a264172-ae11-42e4-8ef7-7fed1973bb8f&pf_rd_r=8G01TZAYK73D0K148WDQ&pf_rd_s=center-1&pf_rd_t=15506&pf_rd_i=top&ref_=chttp_tt_36\n",
            "/title/tt0110357/?pf_rd_m=A2FGELUUNOQJNL&pf_rd_p=1a264172-ae11-42e4-8ef7-7fed1973bb8f&pf_rd_r=8G01TZAYK73D0K148WDQ&pf_rd_s=center-1&pf_rd_t=15506&pf_rd_i=top&ref_=chttp_tt_36\n",
            "/title/tt0172495/?pf_rd_m=A2FGELUUNOQJNL&pf_rd_p=1a264172-ae11-42e4-8ef7-7fed1973bb8f&pf_rd_r=8G01TZAYK73D0K148WDQ&pf_rd_s=center-1&pf_rd_t=15506&pf_rd_i=top&ref_=chttp_tt_37\n",
            "/title/tt0172495/?pf_rd_m=A2FGELUUNOQJNL&pf_rd_p=1a264172-ae11-42e4-8ef7-7fed1973bb8f&pf_rd_r=8G01TZAYK73D0K148WDQ&pf_rd_s=center-1&pf_rd_t=15506&pf_rd_i=top&ref_=chttp_tt_37\n",
            "/title/tt0120586/?pf_rd_m=A2FGELUUNOQJNL&pf_rd_p=1a264172-ae11-42e4-8ef7-7fed1973bb8f&pf_rd_r=8G01TZAYK73D0K148WDQ&pf_rd_s=center-1&pf_rd_t=15506&pf_rd_i=top&ref_=chttp_tt_38\n",
            "/title/tt0120586/?pf_rd_m=A2FGELUUNOQJNL&pf_rd_p=1a264172-ae11-42e4-8ef7-7fed1973bb8f&pf_rd_r=8G01TZAYK73D0K148WDQ&pf_rd_s=center-1&pf_rd_t=15506&pf_rd_i=top&ref_=chttp_tt_38\n",
            "/title/tt0407887/?pf_rd_m=A2FGELUUNOQJNL&pf_rd_p=1a264172-ae11-42e4-8ef7-7fed1973bb8f&pf_rd_r=8G01TZAYK73D0K148WDQ&pf_rd_s=center-1&pf_rd_t=15506&pf_rd_i=top&ref_=chttp_tt_39\n",
            "/title/tt0407887/?pf_rd_m=A2FGELUUNOQJNL&pf_rd_p=1a264172-ae11-42e4-8ef7-7fed1973bb8f&pf_rd_r=8G01TZAYK73D0K148WDQ&pf_rd_s=center-1&pf_rd_t=15506&pf_rd_i=top&ref_=chttp_tt_39\n",
            "/title/tt0114814/?pf_rd_m=A2FGELUUNOQJNL&pf_rd_p=1a264172-ae11-42e4-8ef7-7fed1973bb8f&pf_rd_r=8G01TZAYK73D0K148WDQ&pf_rd_s=center-1&pf_rd_t=15506&pf_rd_i=top&ref_=chttp_tt_40\n",
            "/title/tt0114814/?pf_rd_m=A2FGELUUNOQJNL&pf_rd_p=1a264172-ae11-42e4-8ef7-7fed1973bb8f&pf_rd_r=8G01TZAYK73D0K148WDQ&pf_rd_s=center-1&pf_rd_t=15506&pf_rd_i=top&ref_=chttp_tt_40\n",
            "/title/tt0482571/?pf_rd_m=A2FGELUUNOQJNL&pf_rd_p=1a264172-ae11-42e4-8ef7-7fed1973bb8f&pf_rd_r=8G01TZAYK73D0K148WDQ&pf_rd_s=center-1&pf_rd_t=15506&pf_rd_i=top&ref_=chttp_tt_41\n",
            "/title/tt0482571/?pf_rd_m=A2FGELUUNOQJNL&pf_rd_p=1a264172-ae11-42e4-8ef7-7fed1973bb8f&pf_rd_r=8G01TZAYK73D0K148WDQ&pf_rd_s=center-1&pf_rd_t=15506&pf_rd_i=top&ref_=chttp_tt_41\n",
            "/title/tt2582802/?pf_rd_m=A2FGELUUNOQJNL&pf_rd_p=1a264172-ae11-42e4-8ef7-7fed1973bb8f&pf_rd_r=8G01TZAYK73D0K148WDQ&pf_rd_s=center-1&pf_rd_t=15506&pf_rd_i=top&ref_=chttp_tt_42\n",
            "/title/tt2582802/?pf_rd_m=A2FGELUUNOQJNL&pf_rd_p=1a264172-ae11-42e4-8ef7-7fed1973bb8f&pf_rd_r=8G01TZAYK73D0K148WDQ&pf_rd_s=center-1&pf_rd_t=15506&pf_rd_i=top&ref_=chttp_tt_42\n",
            "/title/tt0034583/?pf_rd_m=A2FGELUUNOQJNL&pf_rd_p=1a264172-ae11-42e4-8ef7-7fed1973bb8f&pf_rd_r=8G01TZAYK73D0K148WDQ&pf_rd_s=center-1&pf_rd_t=15506&pf_rd_i=top&ref_=chttp_tt_43\n",
            "/title/tt0034583/?pf_rd_m=A2FGELUUNOQJNL&pf_rd_p=1a264172-ae11-42e4-8ef7-7fed1973bb8f&pf_rd_r=8G01TZAYK73D0K148WDQ&pf_rd_s=center-1&pf_rd_t=15506&pf_rd_i=top&ref_=chttp_tt_43\n",
            "/title/tt0056058/?pf_rd_m=A2FGELUUNOQJNL&pf_rd_p=1a264172-ae11-42e4-8ef7-7fed1973bb8f&pf_rd_r=8G01TZAYK73D0K148WDQ&pf_rd_s=center-1&pf_rd_t=15506&pf_rd_i=top&ref_=chttp_tt_44\n",
            "/title/tt0056058/?pf_rd_m=A2FGELUUNOQJNL&pf_rd_p=1a264172-ae11-42e4-8ef7-7fed1973bb8f&pf_rd_r=8G01TZAYK73D0K148WDQ&pf_rd_s=center-1&pf_rd_t=15506&pf_rd_i=top&ref_=chttp_tt_44\n",
            "/title/tt0095327/?pf_rd_m=A2FGELUUNOQJNL&pf_rd_p=1a264172-ae11-42e4-8ef7-7fed1973bb8f&pf_rd_r=8G01TZAYK73D0K148WDQ&pf_rd_s=center-1&pf_rd_t=15506&pf_rd_i=top&ref_=chttp_tt_45\n",
            "/title/tt0095327/?pf_rd_m=A2FGELUUNOQJNL&pf_rd_p=1a264172-ae11-42e4-8ef7-7fed1973bb8f&pf_rd_r=8G01TZAYK73D0K148WDQ&pf_rd_s=center-1&pf_rd_t=15506&pf_rd_i=top&ref_=chttp_tt_45\n",
            "/title/tt1675434/?pf_rd_m=A2FGELUUNOQJNL&pf_rd_p=1a264172-ae11-42e4-8ef7-7fed1973bb8f&pf_rd_r=8G01TZAYK73D0K148WDQ&pf_rd_s=center-1&pf_rd_t=15506&pf_rd_i=top&ref_=chttp_tt_46\n",
            "/title/tt1675434/?pf_rd_m=A2FGELUUNOQJNL&pf_rd_p=1a264172-ae11-42e4-8ef7-7fed1973bb8f&pf_rd_r=8G01TZAYK73D0K148WDQ&pf_rd_s=center-1&pf_rd_t=15506&pf_rd_i=top&ref_=chttp_tt_46\n",
            "/title/tt0027977/?pf_rd_m=A2FGELUUNOQJNL&pf_rd_p=1a264172-ae11-42e4-8ef7-7fed1973bb8f&pf_rd_r=8G01TZAYK73D0K148WDQ&pf_rd_s=center-1&pf_rd_t=15506&pf_rd_i=top&ref_=chttp_tt_47\n",
            "/title/tt0027977/?pf_rd_m=A2FGELUUNOQJNL&pf_rd_p=1a264172-ae11-42e4-8ef7-7fed1973bb8f&pf_rd_r=8G01TZAYK73D0K148WDQ&pf_rd_s=center-1&pf_rd_t=15506&pf_rd_i=top&ref_=chttp_tt_47\n",
            "/title/tt0064116/?pf_rd_m=A2FGELUUNOQJNL&pf_rd_p=1a264172-ae11-42e4-8ef7-7fed1973bb8f&pf_rd_r=8G01TZAYK73D0K148WDQ&pf_rd_s=center-1&pf_rd_t=15506&pf_rd_i=top&ref_=chttp_tt_48\n",
            "/title/tt0064116/?pf_rd_m=A2FGELUUNOQJNL&pf_rd_p=1a264172-ae11-42e4-8ef7-7fed1973bb8f&pf_rd_r=8G01TZAYK73D0K148WDQ&pf_rd_s=center-1&pf_rd_t=15506&pf_rd_i=top&ref_=chttp_tt_48\n",
            "/title/tt0047396/?pf_rd_m=A2FGELUUNOQJNL&pf_rd_p=1a264172-ae11-42e4-8ef7-7fed1973bb8f&pf_rd_r=8G01TZAYK73D0K148WDQ&pf_rd_s=center-1&pf_rd_t=15506&pf_rd_i=top&ref_=chttp_tt_49\n",
            "/title/tt0047396/?pf_rd_m=A2FGELUUNOQJNL&pf_rd_p=1a264172-ae11-42e4-8ef7-7fed1973bb8f&pf_rd_r=8G01TZAYK73D0K148WDQ&pf_rd_s=center-1&pf_rd_t=15506&pf_rd_i=top&ref_=chttp_tt_49\n",
            "/title/tt0095765/?pf_rd_m=A2FGELUUNOQJNL&pf_rd_p=1a264172-ae11-42e4-8ef7-7fed1973bb8f&pf_rd_r=8G01TZAYK73D0K148WDQ&pf_rd_s=center-1&pf_rd_t=15506&pf_rd_i=top&ref_=chttp_tt_50\n",
            "/title/tt0095765/?pf_rd_m=A2FGELUUNOQJNL&pf_rd_p=1a264172-ae11-42e4-8ef7-7fed1973bb8f&pf_rd_r=8G01TZAYK73D0K148WDQ&pf_rd_s=center-1&pf_rd_t=15506&pf_rd_i=top&ref_=chttp_tt_50\n",
            "/title/tt0078748/?pf_rd_m=A2FGELUUNOQJNL&pf_rd_p=1a264172-ae11-42e4-8ef7-7fed1973bb8f&pf_rd_r=8G01TZAYK73D0K148WDQ&pf_rd_s=center-1&pf_rd_t=15506&pf_rd_i=top&ref_=chttp_tt_51\n",
            "/title/tt0078748/?pf_rd_m=A2FGELUUNOQJNL&pf_rd_p=1a264172-ae11-42e4-8ef7-7fed1973bb8f&pf_rd_r=8G01TZAYK73D0K148WDQ&pf_rd_s=center-1&pf_rd_t=15506&pf_rd_i=top&ref_=chttp_tt_51\n",
            "/title/tt0021749/?pf_rd_m=A2FGELUUNOQJNL&pf_rd_p=1a264172-ae11-42e4-8ef7-7fed1973bb8f&pf_rd_r=8G01TZAYK73D0K148WDQ&pf_rd_s=center-1&pf_rd_t=15506&pf_rd_i=top&ref_=chttp_tt_52\n",
            "/title/tt0021749/?pf_rd_m=A2FGELUUNOQJNL&pf_rd_p=1a264172-ae11-42e4-8ef7-7fed1973bb8f&pf_rd_r=8G01TZAYK73D0K148WDQ&pf_rd_s=center-1&pf_rd_t=15506&pf_rd_i=top&ref_=chttp_tt_52\n",
            "/title/tt0078788/?pf_rd_m=A2FGELUUNOQJNL&pf_rd_p=1a264172-ae11-42e4-8ef7-7fed1973bb8f&pf_rd_r=8G01TZAYK73D0K148WDQ&pf_rd_s=center-1&pf_rd_t=15506&pf_rd_i=top&ref_=chttp_tt_53\n",
            "/title/tt0078788/?pf_rd_m=A2FGELUUNOQJNL&pf_rd_p=1a264172-ae11-42e4-8ef7-7fed1973bb8f&pf_rd_r=8G01TZAYK73D0K148WDQ&pf_rd_s=center-1&pf_rd_t=15506&pf_rd_i=top&ref_=chttp_tt_53\n",
            "/title/tt0209144/?pf_rd_m=A2FGELUUNOQJNL&pf_rd_p=1a264172-ae11-42e4-8ef7-7fed1973bb8f&pf_rd_r=8G01TZAYK73D0K148WDQ&pf_rd_s=center-1&pf_rd_t=15506&pf_rd_i=top&ref_=chttp_tt_54\n",
            "/title/tt0209144/?pf_rd_m=A2FGELUUNOQJNL&pf_rd_p=1a264172-ae11-42e4-8ef7-7fed1973bb8f&pf_rd_r=8G01TZAYK73D0K148WDQ&pf_rd_s=center-1&pf_rd_t=15506&pf_rd_i=top&ref_=chttp_tt_54\n",
            "/title/tt0082971/?pf_rd_m=A2FGELUUNOQJNL&pf_rd_p=1a264172-ae11-42e4-8ef7-7fed1973bb8f&pf_rd_r=8G01TZAYK73D0K148WDQ&pf_rd_s=center-1&pf_rd_t=15506&pf_rd_i=top&ref_=chttp_tt_55\n",
            "/title/tt0082971/?pf_rd_m=A2FGELUUNOQJNL&pf_rd_p=1a264172-ae11-42e4-8ef7-7fed1973bb8f&pf_rd_r=8G01TZAYK73D0K148WDQ&pf_rd_s=center-1&pf_rd_t=15506&pf_rd_i=top&ref_=chttp_tt_55\n",
            "/title/tt1853728/?pf_rd_m=A2FGELUUNOQJNL&pf_rd_p=1a264172-ae11-42e4-8ef7-7fed1973bb8f&pf_rd_r=8G01TZAYK73D0K148WDQ&pf_rd_s=center-1&pf_rd_t=15506&pf_rd_i=top&ref_=chttp_tt_56\n",
            "/title/tt1853728/?pf_rd_m=A2FGELUUNOQJNL&pf_rd_p=1a264172-ae11-42e4-8ef7-7fed1973bb8f&pf_rd_r=8G01TZAYK73D0K148WDQ&pf_rd_s=center-1&pf_rd_t=15506&pf_rd_i=top&ref_=chttp_tt_56\n",
            "/title/tt0910970/?pf_rd_m=A2FGELUUNOQJNL&pf_rd_p=1a264172-ae11-42e4-8ef7-7fed1973bb8f&pf_rd_r=8G01TZAYK73D0K148WDQ&pf_rd_s=center-1&pf_rd_t=15506&pf_rd_i=top&ref_=chttp_tt_57\n",
            "/title/tt0910970/?pf_rd_m=A2FGELUUNOQJNL&pf_rd_p=1a264172-ae11-42e4-8ef7-7fed1973bb8f&pf_rd_r=8G01TZAYK73D0K148WDQ&pf_rd_s=center-1&pf_rd_t=15506&pf_rd_i=top&ref_=chttp_tt_57\n",
            "/title/tt0405094/?pf_rd_m=A2FGELUUNOQJNL&pf_rd_p=1a264172-ae11-42e4-8ef7-7fed1973bb8f&pf_rd_r=8G01TZAYK73D0K148WDQ&pf_rd_s=center-1&pf_rd_t=15506&pf_rd_i=top&ref_=chttp_tt_58\n",
            "/title/tt0405094/?pf_rd_m=A2FGELUUNOQJNL&pf_rd_p=1a264172-ae11-42e4-8ef7-7fed1973bb8f&pf_rd_r=8G01TZAYK73D0K148WDQ&pf_rd_s=center-1&pf_rd_t=15506&pf_rd_i=top&ref_=chttp_tt_58\n",
            "/title/tt0043014/?pf_rd_m=A2FGELUUNOQJNL&pf_rd_p=1a264172-ae11-42e4-8ef7-7fed1973bb8f&pf_rd_r=8G01TZAYK73D0K148WDQ&pf_rd_s=center-1&pf_rd_t=15506&pf_rd_i=top&ref_=chttp_tt_59\n",
            "/title/tt0043014/?pf_rd_m=A2FGELUUNOQJNL&pf_rd_p=1a264172-ae11-42e4-8ef7-7fed1973bb8f&pf_rd_r=8G01TZAYK73D0K148WDQ&pf_rd_s=center-1&pf_rd_t=15506&pf_rd_i=top&ref_=chttp_tt_59\n",
            "/title/tt0050825/?pf_rd_m=A2FGELUUNOQJNL&pf_rd_p=1a264172-ae11-42e4-8ef7-7fed1973bb8f&pf_rd_r=8G01TZAYK73D0K148WDQ&pf_rd_s=center-1&pf_rd_t=15506&pf_rd_i=top&ref_=chttp_tt_60\n",
            "/title/tt0050825/?pf_rd_m=A2FGELUUNOQJNL&pf_rd_p=1a264172-ae11-42e4-8ef7-7fed1973bb8f&pf_rd_r=8G01TZAYK73D0K148WDQ&pf_rd_s=center-1&pf_rd_t=15506&pf_rd_i=top&ref_=chttp_tt_60\n",
            "/title/tt0081505/?pf_rd_m=A2FGELUUNOQJNL&pf_rd_p=1a264172-ae11-42e4-8ef7-7fed1973bb8f&pf_rd_r=8G01TZAYK73D0K148WDQ&pf_rd_s=center-1&pf_rd_t=15506&pf_rd_i=top&ref_=chttp_tt_61\n",
            "/title/tt0081505/?pf_rd_m=A2FGELUUNOQJNL&pf_rd_p=1a264172-ae11-42e4-8ef7-7fed1973bb8f&pf_rd_r=8G01TZAYK73D0K148WDQ&pf_rd_s=center-1&pf_rd_t=15506&pf_rd_i=top&ref_=chttp_tt_61\n",
            "/title/tt0032553/?pf_rd_m=A2FGELUUNOQJNL&pf_rd_p=1a264172-ae11-42e4-8ef7-7fed1973bb8f&pf_rd_r=8G01TZAYK73D0K148WDQ&pf_rd_s=center-1&pf_rd_t=15506&pf_rd_i=top&ref_=chttp_tt_62\n",
            "/title/tt0032553/?pf_rd_m=A2FGELUUNOQJNL&pf_rd_p=1a264172-ae11-42e4-8ef7-7fed1973bb8f&pf_rd_r=8G01TZAYK73D0K148WDQ&pf_rd_s=center-1&pf_rd_t=15506&pf_rd_i=top&ref_=chttp_tt_62\n",
            "/title/tt4154756/?pf_rd_m=A2FGELUUNOQJNL&pf_rd_p=1a264172-ae11-42e4-8ef7-7fed1973bb8f&pf_rd_r=8G01TZAYK73D0K148WDQ&pf_rd_s=center-1&pf_rd_t=15506&pf_rd_i=top&ref_=chttp_tt_63\n",
            "/title/tt4154756/?pf_rd_m=A2FGELUUNOQJNL&pf_rd_p=1a264172-ae11-42e4-8ef7-7fed1973bb8f&pf_rd_r=8G01TZAYK73D0K148WDQ&pf_rd_s=center-1&pf_rd_t=15506&pf_rd_i=top&ref_=chttp_tt_63\n",
            "/title/tt0051201/?pf_rd_m=A2FGELUUNOQJNL&pf_rd_p=1a264172-ae11-42e4-8ef7-7fed1973bb8f&pf_rd_r=8G01TZAYK73D0K148WDQ&pf_rd_s=center-1&pf_rd_t=15506&pf_rd_i=top&ref_=chttp_tt_64\n",
            "/title/tt0051201/?pf_rd_m=A2FGELUUNOQJNL&pf_rd_p=1a264172-ae11-42e4-8ef7-7fed1973bb8f&pf_rd_r=8G01TZAYK73D0K148WDQ&pf_rd_s=center-1&pf_rd_t=15506&pf_rd_i=top&ref_=chttp_tt_64\n",
            "/title/tt0090605/?pf_rd_m=A2FGELUUNOQJNL&pf_rd_p=1a264172-ae11-42e4-8ef7-7fed1973bb8f&pf_rd_r=8G01TZAYK73D0K148WDQ&pf_rd_s=center-1&pf_rd_t=15506&pf_rd_i=top&ref_=chttp_tt_65\n",
            "/title/tt0090605/?pf_rd_m=A2FGELUUNOQJNL&pf_rd_p=1a264172-ae11-42e4-8ef7-7fed1973bb8f&pf_rd_r=8G01TZAYK73D0K148WDQ&pf_rd_s=center-1&pf_rd_t=15506&pf_rd_i=top&ref_=chttp_tt_65\n",
            "/title/tt4633694/?pf_rd_m=A2FGELUUNOQJNL&pf_rd_p=1a264172-ae11-42e4-8ef7-7fed1973bb8f&pf_rd_r=8G01TZAYK73D0K148WDQ&pf_rd_s=center-1&pf_rd_t=15506&pf_rd_i=top&ref_=chttp_tt_66\n",
            "/title/tt4633694/?pf_rd_m=A2FGELUUNOQJNL&pf_rd_p=1a264172-ae11-42e4-8ef7-7fed1973bb8f&pf_rd_r=8G01TZAYK73D0K148WDQ&pf_rd_s=center-1&pf_rd_t=15506&pf_rd_i=top&ref_=chttp_tt_66\n",
            "/title/tt0169547/?pf_rd_m=A2FGELUUNOQJNL&pf_rd_p=1a264172-ae11-42e4-8ef7-7fed1973bb8f&pf_rd_r=8G01TZAYK73D0K148WDQ&pf_rd_s=center-1&pf_rd_t=15506&pf_rd_i=top&ref_=chttp_tt_67\n",
            "/title/tt0169547/?pf_rd_m=A2FGELUUNOQJNL&pf_rd_p=1a264172-ae11-42e4-8ef7-7fed1973bb8f&pf_rd_r=8G01TZAYK73D0K148WDQ&pf_rd_s=center-1&pf_rd_t=15506&pf_rd_i=top&ref_=chttp_tt_67\n",
            "/title/tt0057012/?pf_rd_m=A2FGELUUNOQJNL&pf_rd_p=1a264172-ae11-42e4-8ef7-7fed1973bb8f&pf_rd_r=8G01TZAYK73D0K148WDQ&pf_rd_s=center-1&pf_rd_t=15506&pf_rd_i=top&ref_=chttp_tt_68\n",
            "/title/tt0057012/?pf_rd_m=A2FGELUUNOQJNL&pf_rd_p=1a264172-ae11-42e4-8ef7-7fed1973bb8f&pf_rd_r=8G01TZAYK73D0K148WDQ&pf_rd_s=center-1&pf_rd_t=15506&pf_rd_i=top&ref_=chttp_tt_68\n",
            "/title/tt1345836/?pf_rd_m=A2FGELUUNOQJNL&pf_rd_p=1a264172-ae11-42e4-8ef7-7fed1973bb8f&pf_rd_r=8G01TZAYK73D0K148WDQ&pf_rd_s=center-1&pf_rd_t=15506&pf_rd_i=top&ref_=chttp_tt_69\n",
            "/title/tt1345836/?pf_rd_m=A2FGELUUNOQJNL&pf_rd_p=1a264172-ae11-42e4-8ef7-7fed1973bb8f&pf_rd_r=8G01TZAYK73D0K148WDQ&pf_rd_s=center-1&pf_rd_t=15506&pf_rd_i=top&ref_=chttp_tt_69\n",
            "/title/tt0364569/?pf_rd_m=A2FGELUUNOQJNL&pf_rd_p=1a264172-ae11-42e4-8ef7-7fed1973bb8f&pf_rd_r=8G01TZAYK73D0K148WDQ&pf_rd_s=center-1&pf_rd_t=15506&pf_rd_i=top&ref_=chttp_tt_70\n",
            "/title/tt0364569/?pf_rd_m=A2FGELUUNOQJNL&pf_rd_p=1a264172-ae11-42e4-8ef7-7fed1973bb8f&pf_rd_r=8G01TZAYK73D0K148WDQ&pf_rd_s=center-1&pf_rd_t=15506&pf_rd_i=top&ref_=chttp_tt_70\n",
            "/title/tt0086879/?pf_rd_m=A2FGELUUNOQJNL&pf_rd_p=1a264172-ae11-42e4-8ef7-7fed1973bb8f&pf_rd_r=8G01TZAYK73D0K148WDQ&pf_rd_s=center-1&pf_rd_t=15506&pf_rd_i=top&ref_=chttp_tt_71\n",
            "/title/tt0086879/?pf_rd_m=A2FGELUUNOQJNL&pf_rd_p=1a264172-ae11-42e4-8ef7-7fed1973bb8f&pf_rd_r=8G01TZAYK73D0K148WDQ&pf_rd_s=center-1&pf_rd_t=15506&pf_rd_i=top&ref_=chttp_tt_71\n",
            "/title/tt0361748/?pf_rd_m=A2FGELUUNOQJNL&pf_rd_p=1a264172-ae11-42e4-8ef7-7fed1973bb8f&pf_rd_r=8G01TZAYK73D0K148WDQ&pf_rd_s=center-1&pf_rd_t=15506&pf_rd_i=top&ref_=chttp_tt_72\n",
            "/title/tt0361748/?pf_rd_m=A2FGELUUNOQJNL&pf_rd_p=1a264172-ae11-42e4-8ef7-7fed1973bb8f&pf_rd_r=8G01TZAYK73D0K148WDQ&pf_rd_s=center-1&pf_rd_t=15506&pf_rd_i=top&ref_=chttp_tt_72\n",
            "/title/tt2380307/?pf_rd_m=A2FGELUUNOQJNL&pf_rd_p=1a264172-ae11-42e4-8ef7-7fed1973bb8f&pf_rd_r=8G01TZAYK73D0K148WDQ&pf_rd_s=center-1&pf_rd_t=15506&pf_rd_i=top&ref_=chttp_tt_73\n",
            "/title/tt2380307/?pf_rd_m=A2FGELUUNOQJNL&pf_rd_p=1a264172-ae11-42e4-8ef7-7fed1973bb8f&pf_rd_r=8G01TZAYK73D0K148WDQ&pf_rd_s=center-1&pf_rd_t=15506&pf_rd_i=top&ref_=chttp_tt_73\n",
            "/title/tt7286456/?pf_rd_m=A2FGELUUNOQJNL&pf_rd_p=1a264172-ae11-42e4-8ef7-7fed1973bb8f&pf_rd_r=8G01TZAYK73D0K148WDQ&pf_rd_s=center-1&pf_rd_t=15506&pf_rd_i=top&ref_=chttp_tt_74\n",
            "/title/tt7286456/?pf_rd_m=A2FGELUUNOQJNL&pf_rd_p=1a264172-ae11-42e4-8ef7-7fed1973bb8f&pf_rd_r=8G01TZAYK73D0K148WDQ&pf_rd_s=center-1&pf_rd_t=15506&pf_rd_i=top&ref_=chttp_tt_74\n",
            "/title/tt0114709/?pf_rd_m=A2FGELUUNOQJNL&pf_rd_p=1a264172-ae11-42e4-8ef7-7fed1973bb8f&pf_rd_r=8G01TZAYK73D0K148WDQ&pf_rd_s=center-1&pf_rd_t=15506&pf_rd_i=top&ref_=chttp_tt_75\n",
            "/title/tt0114709/?pf_rd_m=A2FGELUUNOQJNL&pf_rd_p=1a264172-ae11-42e4-8ef7-7fed1973bb8f&pf_rd_r=8G01TZAYK73D0K148WDQ&pf_rd_s=center-1&pf_rd_t=15506&pf_rd_i=top&ref_=chttp_tt_75\n",
            "/title/tt0112573/?pf_rd_m=A2FGELUUNOQJNL&pf_rd_p=1a264172-ae11-42e4-8ef7-7fed1973bb8f&pf_rd_r=8G01TZAYK73D0K148WDQ&pf_rd_s=center-1&pf_rd_t=15506&pf_rd_i=top&ref_=chttp_tt_76\n",
            "/title/tt0112573/?pf_rd_m=A2FGELUUNOQJNL&pf_rd_p=1a264172-ae11-42e4-8ef7-7fed1973bb8f&pf_rd_r=8G01TZAYK73D0K148WDQ&pf_rd_s=center-1&pf_rd_t=15506&pf_rd_i=top&ref_=chttp_tt_76\n",
            "/title/tt0082096/?pf_rd_m=A2FGELUUNOQJNL&pf_rd_p=1a264172-ae11-42e4-8ef7-7fed1973bb8f&pf_rd_r=8G01TZAYK73D0K148WDQ&pf_rd_s=center-1&pf_rd_t=15506&pf_rd_i=top&ref_=chttp_tt_77\n",
            "/title/tt0082096/?pf_rd_m=A2FGELUUNOQJNL&pf_rd_p=1a264172-ae11-42e4-8ef7-7fed1973bb8f&pf_rd_r=8G01TZAYK73D0K148WDQ&pf_rd_s=center-1&pf_rd_t=15506&pf_rd_i=top&ref_=chttp_tt_77\n",
            "/title/tt4154796/?pf_rd_m=A2FGELUUNOQJNL&pf_rd_p=1a264172-ae11-42e4-8ef7-7fed1973bb8f&pf_rd_r=8G01TZAYK73D0K148WDQ&pf_rd_s=center-1&pf_rd_t=15506&pf_rd_i=top&ref_=chttp_tt_78\n",
            "/title/tt4154796/?pf_rd_m=A2FGELUUNOQJNL&pf_rd_p=1a264172-ae11-42e4-8ef7-7fed1973bb8f&pf_rd_r=8G01TZAYK73D0K148WDQ&pf_rd_s=center-1&pf_rd_t=15506&pf_rd_i=top&ref_=chttp_tt_78\n",
            "/title/tt0119698/?pf_rd_m=A2FGELUUNOQJNL&pf_rd_p=1a264172-ae11-42e4-8ef7-7fed1973bb8f&pf_rd_r=8G01TZAYK73D0K148WDQ&pf_rd_s=center-1&pf_rd_t=15506&pf_rd_i=top&ref_=chttp_tt_79\n",
            "/title/tt0119698/?pf_rd_m=A2FGELUUNOQJNL&pf_rd_p=1a264172-ae11-42e4-8ef7-7fed1973bb8f&pf_rd_r=8G01TZAYK73D0K148WDQ&pf_rd_s=center-1&pf_rd_t=15506&pf_rd_i=top&ref_=chttp_tt_79\n",
            "/title/tt0087843/?pf_rd_m=A2FGELUUNOQJNL&pf_rd_p=1a264172-ae11-42e4-8ef7-7fed1973bb8f&pf_rd_r=8G01TZAYK73D0K148WDQ&pf_rd_s=center-1&pf_rd_t=15506&pf_rd_i=top&ref_=chttp_tt_80\n",
            "/title/tt0087843/?pf_rd_m=A2FGELUUNOQJNL&pf_rd_p=1a264172-ae11-42e4-8ef7-7fed1973bb8f&pf_rd_r=8G01TZAYK73D0K148WDQ&pf_rd_s=center-1&pf_rd_t=15506&pf_rd_i=top&ref_=chttp_tt_80\n",
            "/title/tt0119217/?pf_rd_m=A2FGELUUNOQJNL&pf_rd_p=1a264172-ae11-42e4-8ef7-7fed1973bb8f&pf_rd_r=8G01TZAYK73D0K148WDQ&pf_rd_s=center-1&pf_rd_t=15506&pf_rd_i=top&ref_=chttp_tt_81\n",
            "/title/tt0119217/?pf_rd_m=A2FGELUUNOQJNL&pf_rd_p=1a264172-ae11-42e4-8ef7-7fed1973bb8f&pf_rd_r=8G01TZAYK73D0K148WDQ&pf_rd_s=center-1&pf_rd_t=15506&pf_rd_i=top&ref_=chttp_tt_81\n",
            "/title/tt5311514/?pf_rd_m=A2FGELUUNOQJNL&pf_rd_p=1a264172-ae11-42e4-8ef7-7fed1973bb8f&pf_rd_r=8G01TZAYK73D0K148WDQ&pf_rd_s=center-1&pf_rd_t=15506&pf_rd_i=top&ref_=chttp_tt_82\n",
            "/title/tt5311514/?pf_rd_m=A2FGELUUNOQJNL&pf_rd_p=1a264172-ae11-42e4-8ef7-7fed1973bb8f&pf_rd_r=8G01TZAYK73D0K148WDQ&pf_rd_s=center-1&pf_rd_t=15506&pf_rd_i=top&ref_=chttp_tt_82\n",
            "/title/tt0180093/?pf_rd_m=A2FGELUUNOQJNL&pf_rd_p=1a264172-ae11-42e4-8ef7-7fed1973bb8f&pf_rd_r=8G01TZAYK73D0K148WDQ&pf_rd_s=center-1&pf_rd_t=15506&pf_rd_i=top&ref_=chttp_tt_83\n",
            "/title/tt0180093/?pf_rd_m=A2FGELUUNOQJNL&pf_rd_p=1a264172-ae11-42e4-8ef7-7fed1973bb8f&pf_rd_r=8G01TZAYK73D0K148WDQ&pf_rd_s=center-1&pf_rd_t=15506&pf_rd_i=top&ref_=chttp_tt_83\n",
            "/title/tt0045152/?pf_rd_m=A2FGELUUNOQJNL&pf_rd_p=1a264172-ae11-42e4-8ef7-7fed1973bb8f&pf_rd_r=8G01TZAYK73D0K148WDQ&pf_rd_s=center-1&pf_rd_t=15506&pf_rd_i=top&ref_=chttp_tt_84\n",
            "/title/tt0045152/?pf_rd_m=A2FGELUUNOQJNL&pf_rd_p=1a264172-ae11-42e4-8ef7-7fed1973bb8f&pf_rd_r=8G01TZAYK73D0K148WDQ&pf_rd_s=center-1&pf_rd_t=15506&pf_rd_i=top&ref_=chttp_tt_84\n",
            "/title/tt1187043/?pf_rd_m=A2FGELUUNOQJNL&pf_rd_p=1a264172-ae11-42e4-8ef7-7fed1973bb8f&pf_rd_r=8G01TZAYK73D0K148WDQ&pf_rd_s=center-1&pf_rd_t=15506&pf_rd_i=top&ref_=chttp_tt_85\n",
            "/title/tt1187043/?pf_rd_m=A2FGELUUNOQJNL&pf_rd_p=1a264172-ae11-42e4-8ef7-7fed1973bb8f&pf_rd_r=8G01TZAYK73D0K148WDQ&pf_rd_s=center-1&pf_rd_t=15506&pf_rd_i=top&ref_=chttp_tt_85\n",
            "/title/tt0435761/?pf_rd_m=A2FGELUUNOQJNL&pf_rd_p=1a264172-ae11-42e4-8ef7-7fed1973bb8f&pf_rd_r=8G01TZAYK73D0K148WDQ&pf_rd_s=center-1&pf_rd_t=15506&pf_rd_i=top&ref_=chttp_tt_86\n",
            "/title/tt0435761/?pf_rd_m=A2FGELUUNOQJNL&pf_rd_p=1a264172-ae11-42e4-8ef7-7fed1973bb8f&pf_rd_r=8G01TZAYK73D0K148WDQ&pf_rd_s=center-1&pf_rd_t=15506&pf_rd_i=top&ref_=chttp_tt_86\n",
            "/title/tt0057565/?pf_rd_m=A2FGELUUNOQJNL&pf_rd_p=1a264172-ae11-42e4-8ef7-7fed1973bb8f&pf_rd_r=8G01TZAYK73D0K148WDQ&pf_rd_s=center-1&pf_rd_t=15506&pf_rd_i=top&ref_=chttp_tt_87\n",
            "/title/tt0057565/?pf_rd_m=A2FGELUUNOQJNL&pf_rd_p=1a264172-ae11-42e4-8ef7-7fed1973bb8f&pf_rd_r=8G01TZAYK73D0K148WDQ&pf_rd_s=center-1&pf_rd_t=15506&pf_rd_i=top&ref_=chttp_tt_87\n",
            "/title/tt0086190/?pf_rd_m=A2FGELUUNOQJNL&pf_rd_p=1a264172-ae11-42e4-8ef7-7fed1973bb8f&pf_rd_r=8G01TZAYK73D0K148WDQ&pf_rd_s=center-1&pf_rd_t=15506&pf_rd_i=top&ref_=chttp_tt_88\n",
            "/title/tt0086190/?pf_rd_m=A2FGELUUNOQJNL&pf_rd_p=1a264172-ae11-42e4-8ef7-7fed1973bb8f&pf_rd_r=8G01TZAYK73D0K148WDQ&pf_rd_s=center-1&pf_rd_t=15506&pf_rd_i=top&ref_=chttp_tt_88\n",
            "/title/tt8267604/?pf_rd_m=A2FGELUUNOQJNL&pf_rd_p=1a264172-ae11-42e4-8ef7-7fed1973bb8f&pf_rd_r=8G01TZAYK73D0K148WDQ&pf_rd_s=center-1&pf_rd_t=15506&pf_rd_i=top&ref_=chttp_tt_89\n",
            "/title/tt8267604/?pf_rd_m=A2FGELUUNOQJNL&pf_rd_p=1a264172-ae11-42e4-8ef7-7fed1973bb8f&pf_rd_r=8G01TZAYK73D0K148WDQ&pf_rd_s=center-1&pf_rd_t=15506&pf_rd_i=top&ref_=chttp_tt_89\n",
            "/title/tt0338013/?pf_rd_m=A2FGELUUNOQJNL&pf_rd_p=1a264172-ae11-42e4-8ef7-7fed1973bb8f&pf_rd_r=8G01TZAYK73D0K148WDQ&pf_rd_s=center-1&pf_rd_t=15506&pf_rd_i=top&ref_=chttp_tt_90\n",
            "/title/tt0338013/?pf_rd_m=A2FGELUUNOQJNL&pf_rd_p=1a264172-ae11-42e4-8ef7-7fed1973bb8f&pf_rd_r=8G01TZAYK73D0K148WDQ&pf_rd_s=center-1&pf_rd_t=15506&pf_rd_i=top&ref_=chttp_tt_90\n",
            "/title/tt0062622/?pf_rd_m=A2FGELUUNOQJNL&pf_rd_p=1a264172-ae11-42e4-8ef7-7fed1973bb8f&pf_rd_r=8G01TZAYK73D0K148WDQ&pf_rd_s=center-1&pf_rd_t=15506&pf_rd_i=top&ref_=chttp_tt_91\n",
            "/title/tt0062622/?pf_rd_m=A2FGELUUNOQJNL&pf_rd_p=1a264172-ae11-42e4-8ef7-7fed1973bb8f&pf_rd_r=8G01TZAYK73D0K148WDQ&pf_rd_s=center-1&pf_rd_t=15506&pf_rd_i=top&ref_=chttp_tt_91\n",
            "/title/tt1745960/?pf_rd_m=A2FGELUUNOQJNL&pf_rd_p=1a264172-ae11-42e4-8ef7-7fed1973bb8f&pf_rd_r=8G01TZAYK73D0K148WDQ&pf_rd_s=center-1&pf_rd_t=15506&pf_rd_i=top&ref_=chttp_tt_92\n",
            "/title/tt1745960/?pf_rd_m=A2FGELUUNOQJNL&pf_rd_p=1a264172-ae11-42e4-8ef7-7fed1973bb8f&pf_rd_r=8G01TZAYK73D0K148WDQ&pf_rd_s=center-1&pf_rd_t=15506&pf_rd_i=top&ref_=chttp_tt_92\n",
            "/title/tt0105236/?pf_rd_m=A2FGELUUNOQJNL&pf_rd_p=1a264172-ae11-42e4-8ef7-7fed1973bb8f&pf_rd_r=8G01TZAYK73D0K148WDQ&pf_rd_s=center-1&pf_rd_t=15506&pf_rd_i=top&ref_=chttp_tt_93\n",
            "/title/tt0105236/?pf_rd_m=A2FGELUUNOQJNL&pf_rd_p=1a264172-ae11-42e4-8ef7-7fed1973bb8f&pf_rd_r=8G01TZAYK73D0K148WDQ&pf_rd_s=center-1&pf_rd_t=15506&pf_rd_i=top&ref_=chttp_tt_93\n",
            "/title/tt2106476/?pf_rd_m=A2FGELUUNOQJNL&pf_rd_p=1a264172-ae11-42e4-8ef7-7fed1973bb8f&pf_rd_r=8G01TZAYK73D0K148WDQ&pf_rd_s=center-1&pf_rd_t=15506&pf_rd_i=top&ref_=chttp_tt_94\n",
            "/title/tt2106476/?pf_rd_m=A2FGELUUNOQJNL&pf_rd_p=1a264172-ae11-42e4-8ef7-7fed1973bb8f&pf_rd_r=8G01TZAYK73D0K148WDQ&pf_rd_s=center-1&pf_rd_t=15506&pf_rd_i=top&ref_=chttp_tt_94\n",
            "/title/tt0091251/?pf_rd_m=A2FGELUUNOQJNL&pf_rd_p=1a264172-ae11-42e4-8ef7-7fed1973bb8f&pf_rd_r=8G01TZAYK73D0K148WDQ&pf_rd_s=center-1&pf_rd_t=15506&pf_rd_i=top&ref_=chttp_tt_95\n",
            "/title/tt0091251/?pf_rd_m=A2FGELUUNOQJNL&pf_rd_p=1a264172-ae11-42e4-8ef7-7fed1973bb8f&pf_rd_r=8G01TZAYK73D0K148WDQ&pf_rd_s=center-1&pf_rd_t=15506&pf_rd_i=top&ref_=chttp_tt_95\n",
            "/title/tt0033467/?pf_rd_m=A2FGELUUNOQJNL&pf_rd_p=1a264172-ae11-42e4-8ef7-7fed1973bb8f&pf_rd_r=8G01TZAYK73D0K148WDQ&pf_rd_s=center-1&pf_rd_t=15506&pf_rd_i=top&ref_=chttp_tt_96\n",
            "/title/tt0033467/?pf_rd_m=A2FGELUUNOQJNL&pf_rd_p=1a264172-ae11-42e4-8ef7-7fed1973bb8f&pf_rd_r=8G01TZAYK73D0K148WDQ&pf_rd_s=center-1&pf_rd_t=15506&pf_rd_i=top&ref_=chttp_tt_96\n",
            "/title/tt0022100/?pf_rd_m=A2FGELUUNOQJNL&pf_rd_p=1a264172-ae11-42e4-8ef7-7fed1973bb8f&pf_rd_r=8G01TZAYK73D0K148WDQ&pf_rd_s=center-1&pf_rd_t=15506&pf_rd_i=top&ref_=chttp_tt_97\n",
            "/title/tt0022100/?pf_rd_m=A2FGELUUNOQJNL&pf_rd_p=1a264172-ae11-42e4-8ef7-7fed1973bb8f&pf_rd_r=8G01TZAYK73D0K148WDQ&pf_rd_s=center-1&pf_rd_t=15506&pf_rd_i=top&ref_=chttp_tt_97\n",
            "/title/tt0056172/?pf_rd_m=A2FGELUUNOQJNL&pf_rd_p=1a264172-ae11-42e4-8ef7-7fed1973bb8f&pf_rd_r=8G01TZAYK73D0K148WDQ&pf_rd_s=center-1&pf_rd_t=15506&pf_rd_i=top&ref_=chttp_tt_98\n",
            "/title/tt0056172/?pf_rd_m=A2FGELUUNOQJNL&pf_rd_p=1a264172-ae11-42e4-8ef7-7fed1973bb8f&pf_rd_r=8G01TZAYK73D0K148WDQ&pf_rd_s=center-1&pf_rd_t=15506&pf_rd_i=top&ref_=chttp_tt_98\n",
            "/title/tt0053125/?pf_rd_m=A2FGELUUNOQJNL&pf_rd_p=1a264172-ae11-42e4-8ef7-7fed1973bb8f&pf_rd_r=8G01TZAYK73D0K148WDQ&pf_rd_s=center-1&pf_rd_t=15506&pf_rd_i=top&ref_=chttp_tt_99\n",
            "/title/tt0053125/?pf_rd_m=A2FGELUUNOQJNL&pf_rd_p=1a264172-ae11-42e4-8ef7-7fed1973bb8f&pf_rd_r=8G01TZAYK73D0K148WDQ&pf_rd_s=center-1&pf_rd_t=15506&pf_rd_i=top&ref_=chttp_tt_99\n",
            "/title/tt0052357/?pf_rd_m=A2FGELUUNOQJNL&pf_rd_p=1a264172-ae11-42e4-8ef7-7fed1973bb8f&pf_rd_r=8G01TZAYK73D0K148WDQ&pf_rd_s=center-1&pf_rd_t=15506&pf_rd_i=top&ref_=chttp_tt_100\n",
            "/title/tt0052357/?pf_rd_m=A2FGELUUNOQJNL&pf_rd_p=1a264172-ae11-42e4-8ef7-7fed1973bb8f&pf_rd_r=8G01TZAYK73D0K148WDQ&pf_rd_s=center-1&pf_rd_t=15506&pf_rd_i=top&ref_=chttp_tt_100\n",
            "/title/tt0211915/?pf_rd_m=A2FGELUUNOQJNL&pf_rd_p=1a264172-ae11-42e4-8ef7-7fed1973bb8f&pf_rd_r=8G01TZAYK73D0K148WDQ&pf_rd_s=center-1&pf_rd_t=15506&pf_rd_i=top&ref_=chttp_tt_101\n",
            "/title/tt0211915/?pf_rd_m=A2FGELUUNOQJNL&pf_rd_p=1a264172-ae11-42e4-8ef7-7fed1973bb8f&pf_rd_r=8G01TZAYK73D0K148WDQ&pf_rd_s=center-1&pf_rd_t=15506&pf_rd_i=top&ref_=chttp_tt_101\n",
            "/title/tt0053604/?pf_rd_m=A2FGELUUNOQJNL&pf_rd_p=1a264172-ae11-42e4-8ef7-7fed1973bb8f&pf_rd_r=8G01TZAYK73D0K148WDQ&pf_rd_s=center-1&pf_rd_t=15506&pf_rd_i=top&ref_=chttp_tt_102\n",
            "/title/tt0053604/?pf_rd_m=A2FGELUUNOQJNL&pf_rd_p=1a264172-ae11-42e4-8ef7-7fed1973bb8f&pf_rd_r=8G01TZAYK73D0K148WDQ&pf_rd_s=center-1&pf_rd_t=15506&pf_rd_i=top&ref_=chttp_tt_102\n",
            "/title/tt0066921/?pf_rd_m=A2FGELUUNOQJNL&pf_rd_p=1a264172-ae11-42e4-8ef7-7fed1973bb8f&pf_rd_r=8G01TZAYK73D0K148WDQ&pf_rd_s=center-1&pf_rd_t=15506&pf_rd_i=top&ref_=chttp_tt_103\n",
            "/title/tt0066921/?pf_rd_m=A2FGELUUNOQJNL&pf_rd_p=1a264172-ae11-42e4-8ef7-7fed1973bb8f&pf_rd_r=8G01TZAYK73D0K148WDQ&pf_rd_s=center-1&pf_rd_t=15506&pf_rd_i=top&ref_=chttp_tt_103\n",
            "/title/tt0044741/?pf_rd_m=A2FGELUUNOQJNL&pf_rd_p=1a264172-ae11-42e4-8ef7-7fed1973bb8f&pf_rd_r=8G01TZAYK73D0K148WDQ&pf_rd_s=center-1&pf_rd_t=15506&pf_rd_i=top&ref_=chttp_tt_104\n",
            "/title/tt0044741/?pf_rd_m=A2FGELUUNOQJNL&pf_rd_p=1a264172-ae11-42e4-8ef7-7fed1973bb8f&pf_rd_r=8G01TZAYK73D0K148WDQ&pf_rd_s=center-1&pf_rd_t=15506&pf_rd_i=top&ref_=chttp_tt_104\n",
            "/title/tt0036775/?pf_rd_m=A2FGELUUNOQJNL&pf_rd_p=1a264172-ae11-42e4-8ef7-7fed1973bb8f&pf_rd_r=8G01TZAYK73D0K148WDQ&pf_rd_s=center-1&pf_rd_t=15506&pf_rd_i=top&ref_=chttp_tt_105\n",
            "/title/tt0036775/?pf_rd_m=A2FGELUUNOQJNL&pf_rd_p=1a264172-ae11-42e4-8ef7-7fed1973bb8f&pf_rd_r=8G01TZAYK73D0K148WDQ&pf_rd_s=center-1&pf_rd_t=15506&pf_rd_i=top&ref_=chttp_tt_105\n",
            "/title/tt0093058/?pf_rd_m=A2FGELUUNOQJNL&pf_rd_p=1a264172-ae11-42e4-8ef7-7fed1973bb8f&pf_rd_r=8G01TZAYK73D0K148WDQ&pf_rd_s=center-1&pf_rd_t=15506&pf_rd_i=top&ref_=chttp_tt_106\n",
            "/title/tt0093058/?pf_rd_m=A2FGELUUNOQJNL&pf_rd_p=1a264172-ae11-42e4-8ef7-7fed1973bb8f&pf_rd_r=8G01TZAYK73D0K148WDQ&pf_rd_s=center-1&pf_rd_t=15506&pf_rd_i=top&ref_=chttp_tt_106\n",
            "/title/tt8503618/?pf_rd_m=A2FGELUUNOQJNL&pf_rd_p=1a264172-ae11-42e4-8ef7-7fed1973bb8f&pf_rd_r=8G01TZAYK73D0K148WDQ&pf_rd_s=center-1&pf_rd_t=15506&pf_rd_i=top&ref_=chttp_tt_107\n",
            "/title/tt8503618/?pf_rd_m=A2FGELUUNOQJNL&pf_rd_p=1a264172-ae11-42e4-8ef7-7fed1973bb8f&pf_rd_r=8G01TZAYK73D0K148WDQ&pf_rd_s=center-1&pf_rd_t=15506&pf_rd_i=top&ref_=chttp_tt_107\n",
            "/title/tt0086250/?pf_rd_m=A2FGELUUNOQJNL&pf_rd_p=1a264172-ae11-42e4-8ef7-7fed1973bb8f&pf_rd_r=8G01TZAYK73D0K148WDQ&pf_rd_s=center-1&pf_rd_t=15506&pf_rd_i=top&ref_=chttp_tt_108\n",
            "/title/tt0086250/?pf_rd_m=A2FGELUUNOQJNL&pf_rd_p=1a264172-ae11-42e4-8ef7-7fed1973bb8f&pf_rd_r=8G01TZAYK73D0K148WDQ&pf_rd_s=center-1&pf_rd_t=15506&pf_rd_i=top&ref_=chttp_tt_108\n",
            "/title/tt0056592/?pf_rd_m=A2FGELUUNOQJNL&pf_rd_p=1a264172-ae11-42e4-8ef7-7fed1973bb8f&pf_rd_r=8G01TZAYK73D0K148WDQ&pf_rd_s=center-1&pf_rd_t=15506&pf_rd_i=top&ref_=chttp_tt_109\n",
            "/title/tt0056592/?pf_rd_m=A2FGELUUNOQJNL&pf_rd_p=1a264172-ae11-42e4-8ef7-7fed1973bb8f&pf_rd_r=8G01TZAYK73D0K148WDQ&pf_rd_s=center-1&pf_rd_t=15506&pf_rd_i=top&ref_=chttp_tt_109\n",
            "/title/tt0070735/?pf_rd_m=A2FGELUUNOQJNL&pf_rd_p=1a264172-ae11-42e4-8ef7-7fed1973bb8f&pf_rd_r=8G01TZAYK73D0K148WDQ&pf_rd_s=center-1&pf_rd_t=15506&pf_rd_i=top&ref_=chttp_tt_110\n",
            "/title/tt0070735/?pf_rd_m=A2FGELUUNOQJNL&pf_rd_p=1a264172-ae11-42e4-8ef7-7fed1973bb8f&pf_rd_r=8G01TZAYK73D0K148WDQ&pf_rd_s=center-1&pf_rd_t=15506&pf_rd_i=top&ref_=chttp_tt_110\n",
            "/title/tt1255953/?pf_rd_m=A2FGELUUNOQJNL&pf_rd_p=1a264172-ae11-42e4-8ef7-7fed1973bb8f&pf_rd_r=8G01TZAYK73D0K148WDQ&pf_rd_s=center-1&pf_rd_t=15506&pf_rd_i=top&ref_=chttp_tt_111\n",
            "/title/tt1255953/?pf_rd_m=A2FGELUUNOQJNL&pf_rd_p=1a264172-ae11-42e4-8ef7-7fed1973bb8f&pf_rd_r=8G01TZAYK73D0K148WDQ&pf_rd_s=center-1&pf_rd_t=15506&pf_rd_i=top&ref_=chttp_tt_111\n",
            "/title/tt0113277/?pf_rd_m=A2FGELUUNOQJNL&pf_rd_p=1a264172-ae11-42e4-8ef7-7fed1973bb8f&pf_rd_r=8G01TZAYK73D0K148WDQ&pf_rd_s=center-1&pf_rd_t=15506&pf_rd_i=top&ref_=chttp_tt_112\n",
            "/title/tt0113277/?pf_rd_m=A2FGELUUNOQJNL&pf_rd_p=1a264172-ae11-42e4-8ef7-7fed1973bb8f&pf_rd_r=8G01TZAYK73D0K148WDQ&pf_rd_s=center-1&pf_rd_t=15506&pf_rd_i=top&ref_=chttp_tt_112\n",
            "/title/tt1049413/?pf_rd_m=A2FGELUUNOQJNL&pf_rd_p=1a264172-ae11-42e4-8ef7-7fed1973bb8f&pf_rd_r=8G01TZAYK73D0K148WDQ&pf_rd_s=center-1&pf_rd_t=15506&pf_rd_i=top&ref_=chttp_tt_113\n",
            "/title/tt1049413/?pf_rd_m=A2FGELUUNOQJNL&pf_rd_p=1a264172-ae11-42e4-8ef7-7fed1973bb8f&pf_rd_r=8G01TZAYK73D0K148WDQ&pf_rd_s=center-1&pf_rd_t=15506&pf_rd_i=top&ref_=chttp_tt_113\n",
            "/title/tt0075314/?pf_rd_m=A2FGELUUNOQJNL&pf_rd_p=1a264172-ae11-42e4-8ef7-7fed1973bb8f&pf_rd_r=8G01TZAYK73D0K148WDQ&pf_rd_s=center-1&pf_rd_t=15506&pf_rd_i=top&ref_=chttp_tt_114\n",
            "/title/tt0075314/?pf_rd_m=A2FGELUUNOQJNL&pf_rd_p=1a264172-ae11-42e4-8ef7-7fed1973bb8f&pf_rd_r=8G01TZAYK73D0K148WDQ&pf_rd_s=center-1&pf_rd_t=15506&pf_rd_i=top&ref_=chttp_tt_114\n",
            "/title/tt1832382/?pf_rd_m=A2FGELUUNOQJNL&pf_rd_p=1a264172-ae11-42e4-8ef7-7fed1973bb8f&pf_rd_r=8G01TZAYK73D0K148WDQ&pf_rd_s=center-1&pf_rd_t=15506&pf_rd_i=top&ref_=chttp_tt_115\n",
            "/title/tt1832382/?pf_rd_m=A2FGELUUNOQJNL&pf_rd_p=1a264172-ae11-42e4-8ef7-7fed1973bb8f&pf_rd_r=8G01TZAYK73D0K148WDQ&pf_rd_s=center-1&pf_rd_t=15506&pf_rd_i=top&ref_=chttp_tt_115\n",
            "/title/tt0017136/?pf_rd_m=A2FGELUUNOQJNL&pf_rd_p=1a264172-ae11-42e4-8ef7-7fed1973bb8f&pf_rd_r=8G01TZAYK73D0K148WDQ&pf_rd_s=center-1&pf_rd_t=15506&pf_rd_i=top&ref_=chttp_tt_116\n",
            "/title/tt0017136/?pf_rd_m=A2FGELUUNOQJNL&pf_rd_p=1a264172-ae11-42e4-8ef7-7fed1973bb8f&pf_rd_r=8G01TZAYK73D0K148WDQ&pf_rd_s=center-1&pf_rd_t=15506&pf_rd_i=top&ref_=chttp_tt_116\n",
            "/title/tt0119488/?pf_rd_m=A2FGELUUNOQJNL&pf_rd_p=1a264172-ae11-42e4-8ef7-7fed1973bb8f&pf_rd_r=8G01TZAYK73D0K148WDQ&pf_rd_s=center-1&pf_rd_t=15506&pf_rd_i=top&ref_=chttp_tt_117\n",
            "/title/tt0119488/?pf_rd_m=A2FGELUUNOQJNL&pf_rd_p=1a264172-ae11-42e4-8ef7-7fed1973bb8f&pf_rd_r=8G01TZAYK73D0K148WDQ&pf_rd_s=center-1&pf_rd_t=15506&pf_rd_i=top&ref_=chttp_tt_117\n",
            "/title/tt0095016/?pf_rd_m=A2FGELUUNOQJNL&pf_rd_p=1a264172-ae11-42e4-8ef7-7fed1973bb8f&pf_rd_r=8G01TZAYK73D0K148WDQ&pf_rd_s=center-1&pf_rd_t=15506&pf_rd_i=top&ref_=chttp_tt_118\n",
            "/title/tt0095016/?pf_rd_m=A2FGELUUNOQJNL&pf_rd_p=1a264172-ae11-42e4-8ef7-7fed1973bb8f&pf_rd_r=8G01TZAYK73D0K148WDQ&pf_rd_s=center-1&pf_rd_t=15506&pf_rd_i=top&ref_=chttp_tt_118\n",
            "/title/tt0208092/?pf_rd_m=A2FGELUUNOQJNL&pf_rd_p=1a264172-ae11-42e4-8ef7-7fed1973bb8f&pf_rd_r=8G01TZAYK73D0K148WDQ&pf_rd_s=center-1&pf_rd_t=15506&pf_rd_i=top&ref_=chttp_tt_119\n",
            "/title/tt0208092/?pf_rd_m=A2FGELUUNOQJNL&pf_rd_p=1a264172-ae11-42e4-8ef7-7fed1973bb8f&pf_rd_r=8G01TZAYK73D0K148WDQ&pf_rd_s=center-1&pf_rd_t=15506&pf_rd_i=top&ref_=chttp_tt_119\n",
            "/title/tt0097576/?pf_rd_m=A2FGELUUNOQJNL&pf_rd_p=1a264172-ae11-42e4-8ef7-7fed1973bb8f&pf_rd_r=8G01TZAYK73D0K148WDQ&pf_rd_s=center-1&pf_rd_t=15506&pf_rd_i=top&ref_=chttp_tt_120\n",
            "/title/tt0097576/?pf_rd_m=A2FGELUUNOQJNL&pf_rd_p=1a264172-ae11-42e4-8ef7-7fed1973bb8f&pf_rd_r=8G01TZAYK73D0K148WDQ&pf_rd_s=center-1&pf_rd_t=15506&pf_rd_i=top&ref_=chttp_tt_120\n",
            "/title/tt0040522/?pf_rd_m=A2FGELUUNOQJNL&pf_rd_p=1a264172-ae11-42e4-8ef7-7fed1973bb8f&pf_rd_r=8G01TZAYK73D0K148WDQ&pf_rd_s=center-1&pf_rd_t=15506&pf_rd_i=top&ref_=chttp_tt_121\n",
            "/title/tt0040522/?pf_rd_m=A2FGELUUNOQJNL&pf_rd_p=1a264172-ae11-42e4-8ef7-7fed1973bb8f&pf_rd_r=8G01TZAYK73D0K148WDQ&pf_rd_s=center-1&pf_rd_t=15506&pf_rd_i=top&ref_=chttp_tt_121\n",
            "/title/tt0986264/?pf_rd_m=A2FGELUUNOQJNL&pf_rd_p=1a264172-ae11-42e4-8ef7-7fed1973bb8f&pf_rd_r=8G01TZAYK73D0K148WDQ&pf_rd_s=center-1&pf_rd_t=15506&pf_rd_i=top&ref_=chttp_tt_122\n",
            "/title/tt0986264/?pf_rd_m=A2FGELUUNOQJNL&pf_rd_p=1a264172-ae11-42e4-8ef7-7fed1973bb8f&pf_rd_r=8G01TZAYK73D0K148WDQ&pf_rd_s=center-1&pf_rd_t=15506&pf_rd_i=top&ref_=chttp_tt_122\n",
            "/title/tt8579674/?pf_rd_m=A2FGELUUNOQJNL&pf_rd_p=1a264172-ae11-42e4-8ef7-7fed1973bb8f&pf_rd_r=8G01TZAYK73D0K148WDQ&pf_rd_s=center-1&pf_rd_t=15506&pf_rd_i=top&ref_=chttp_tt_123\n",
            "/title/tt8579674/?pf_rd_m=A2FGELUUNOQJNL&pf_rd_p=1a264172-ae11-42e4-8ef7-7fed1973bb8f&pf_rd_r=8G01TZAYK73D0K148WDQ&pf_rd_s=center-1&pf_rd_t=15506&pf_rd_i=top&ref_=chttp_tt_123\n",
            "/title/tt0363163/?pf_rd_m=A2FGELUUNOQJNL&pf_rd_p=1a264172-ae11-42e4-8ef7-7fed1973bb8f&pf_rd_r=8G01TZAYK73D0K148WDQ&pf_rd_s=center-1&pf_rd_t=15506&pf_rd_i=top&ref_=chttp_tt_124\n",
            "/title/tt0363163/?pf_rd_m=A2FGELUUNOQJNL&pf_rd_p=1a264172-ae11-42e4-8ef7-7fed1973bb8f&pf_rd_r=8G01TZAYK73D0K148WDQ&pf_rd_s=center-1&pf_rd_t=15506&pf_rd_i=top&ref_=chttp_tt_124\n",
            "/title/tt0059578/?pf_rd_m=A2FGELUUNOQJNL&pf_rd_p=1a264172-ae11-42e4-8ef7-7fed1973bb8f&pf_rd_r=8G01TZAYK73D0K148WDQ&pf_rd_s=center-1&pf_rd_t=15506&pf_rd_i=top&ref_=chttp_tt_125\n",
            "/title/tt0059578/?pf_rd_m=A2FGELUUNOQJNL&pf_rd_p=1a264172-ae11-42e4-8ef7-7fed1973bb8f&pf_rd_r=8G01TZAYK73D0K148WDQ&pf_rd_s=center-1&pf_rd_t=15506&pf_rd_i=top&ref_=chttp_tt_125\n",
            "/title/tt5074352/?pf_rd_m=A2FGELUUNOQJNL&pf_rd_p=1a264172-ae11-42e4-8ef7-7fed1973bb8f&pf_rd_r=8G01TZAYK73D0K148WDQ&pf_rd_s=center-1&pf_rd_t=15506&pf_rd_i=top&ref_=chttp_tt_126\n",
            "/title/tt5074352/?pf_rd_m=A2FGELUUNOQJNL&pf_rd_p=1a264172-ae11-42e4-8ef7-7fed1973bb8f&pf_rd_r=8G01TZAYK73D0K148WDQ&pf_rd_s=center-1&pf_rd_t=15506&pf_rd_i=top&ref_=chttp_tt_126\n",
            "/title/tt0372784/?pf_rd_m=A2FGELUUNOQJNL&pf_rd_p=1a264172-ae11-42e4-8ef7-7fed1973bb8f&pf_rd_r=8G01TZAYK73D0K148WDQ&pf_rd_s=center-1&pf_rd_t=15506&pf_rd_i=top&ref_=chttp_tt_127\n",
            "/title/tt0372784/?pf_rd_m=A2FGELUUNOQJNL&pf_rd_p=1a264172-ae11-42e4-8ef7-7fed1973bb8f&pf_rd_r=8G01TZAYK73D0K148WDQ&pf_rd_s=center-1&pf_rd_t=15506&pf_rd_i=top&ref_=chttp_tt_127\n",
            "/title/tt0012349/?pf_rd_m=A2FGELUUNOQJNL&pf_rd_p=1a264172-ae11-42e4-8ef7-7fed1973bb8f&pf_rd_r=8G01TZAYK73D0K148WDQ&pf_rd_s=center-1&pf_rd_t=15506&pf_rd_i=top&ref_=chttp_tt_128\n",
            "/title/tt0012349/?pf_rd_m=A2FGELUUNOQJNL&pf_rd_p=1a264172-ae11-42e4-8ef7-7fed1973bb8f&pf_rd_r=8G01TZAYK73D0K148WDQ&pf_rd_s=center-1&pf_rd_t=15506&pf_rd_i=top&ref_=chttp_tt_128\n",
            "/title/tt0053291/?pf_rd_m=A2FGELUUNOQJNL&pf_rd_p=1a264172-ae11-42e4-8ef7-7fed1973bb8f&pf_rd_r=8G01TZAYK73D0K148WDQ&pf_rd_s=center-1&pf_rd_t=15506&pf_rd_i=top&ref_=chttp_tt_129\n",
            "/title/tt0053291/?pf_rd_m=A2FGELUUNOQJNL&pf_rd_p=1a264172-ae11-42e4-8ef7-7fed1973bb8f&pf_rd_r=8G01TZAYK73D0K148WDQ&pf_rd_s=center-1&pf_rd_t=15506&pf_rd_i=top&ref_=chttp_tt_129\n",
            "/title/tt10272386/?pf_rd_m=A2FGELUUNOQJNL&pf_rd_p=1a264172-ae11-42e4-8ef7-7fed1973bb8f&pf_rd_r=8G01TZAYK73D0K148WDQ&pf_rd_s=center-1&pf_rd_t=15506&pf_rd_i=top&ref_=chttp_tt_130\n",
            "/title/tt10272386/?pf_rd_m=A2FGELUUNOQJNL&pf_rd_p=1a264172-ae11-42e4-8ef7-7fed1973bb8f&pf_rd_r=8G01TZAYK73D0K148WDQ&pf_rd_s=center-1&pf_rd_t=15506&pf_rd_i=top&ref_=chttp_tt_130\n",
            "/title/tt0042192/?pf_rd_m=A2FGELUUNOQJNL&pf_rd_p=1a264172-ae11-42e4-8ef7-7fed1973bb8f&pf_rd_r=8G01TZAYK73D0K148WDQ&pf_rd_s=center-1&pf_rd_t=15506&pf_rd_i=top&ref_=chttp_tt_131\n",
            "/title/tt0042192/?pf_rd_m=A2FGELUUNOQJNL&pf_rd_p=1a264172-ae11-42e4-8ef7-7fed1973bb8f&pf_rd_r=8G01TZAYK73D0K148WDQ&pf_rd_s=center-1&pf_rd_t=15506&pf_rd_i=top&ref_=chttp_tt_131\n",
            "/title/tt6966692/?pf_rd_m=A2FGELUUNOQJNL&pf_rd_p=1a264172-ae11-42e4-8ef7-7fed1973bb8f&pf_rd_r=8G01TZAYK73D0K148WDQ&pf_rd_s=center-1&pf_rd_t=15506&pf_rd_i=top&ref_=chttp_tt_132\n",
            "/title/tt6966692/?pf_rd_m=A2FGELUUNOQJNL&pf_rd_p=1a264172-ae11-42e4-8ef7-7fed1973bb8f&pf_rd_r=8G01TZAYK73D0K148WDQ&pf_rd_s=center-1&pf_rd_t=15506&pf_rd_i=top&ref_=chttp_tt_132\n",
            "/title/tt0993846/?pf_rd_m=A2FGELUUNOQJNL&pf_rd_p=1a264172-ae11-42e4-8ef7-7fed1973bb8f&pf_rd_r=8G01TZAYK73D0K148WDQ&pf_rd_s=center-1&pf_rd_t=15506&pf_rd_i=top&ref_=chttp_tt_133\n",
            "/title/tt0993846/?pf_rd_m=A2FGELUUNOQJNL&pf_rd_p=1a264172-ae11-42e4-8ef7-7fed1973bb8f&pf_rd_r=8G01TZAYK73D0K148WDQ&pf_rd_s=center-1&pf_rd_t=15506&pf_rd_i=top&ref_=chttp_tt_133\n",
            "/title/tt0055031/?pf_rd_m=A2FGELUUNOQJNL&pf_rd_p=1a264172-ae11-42e4-8ef7-7fed1973bb8f&pf_rd_r=8G01TZAYK73D0K148WDQ&pf_rd_s=center-1&pf_rd_t=15506&pf_rd_i=top&ref_=chttp_tt_134\n",
            "/title/tt0055031/?pf_rd_m=A2FGELUUNOQJNL&pf_rd_p=1a264172-ae11-42e4-8ef7-7fed1973bb8f&pf_rd_r=8G01TZAYK73D0K148WDQ&pf_rd_s=center-1&pf_rd_t=15506&pf_rd_i=top&ref_=chttp_tt_134\n",
            "/title/tt0112641/?pf_rd_m=A2FGELUUNOQJNL&pf_rd_p=1a264172-ae11-42e4-8ef7-7fed1973bb8f&pf_rd_r=8G01TZAYK73D0K148WDQ&pf_rd_s=center-1&pf_rd_t=15506&pf_rd_i=top&ref_=chttp_tt_135\n",
            "/title/tt0112641/?pf_rd_m=A2FGELUUNOQJNL&pf_rd_p=1a264172-ae11-42e4-8ef7-7fed1973bb8f&pf_rd_r=8G01TZAYK73D0K148WDQ&pf_rd_s=center-1&pf_rd_t=15506&pf_rd_i=top&ref_=chttp_tt_135\n",
            "/title/tt0089881/?pf_rd_m=A2FGELUUNOQJNL&pf_rd_p=1a264172-ae11-42e4-8ef7-7fed1973bb8f&pf_rd_r=8G01TZAYK73D0K148WDQ&pf_rd_s=center-1&pf_rd_t=15506&pf_rd_i=top&ref_=chttp_tt_136\n",
            "/title/tt0089881/?pf_rd_m=A2FGELUUNOQJNL&pf_rd_p=1a264172-ae11-42e4-8ef7-7fed1973bb8f&pf_rd_r=8G01TZAYK73D0K148WDQ&pf_rd_s=center-1&pf_rd_t=15506&pf_rd_i=top&ref_=chttp_tt_136\n",
            "/title/tt0457430/?pf_rd_m=A2FGELUUNOQJNL&pf_rd_p=1a264172-ae11-42e4-8ef7-7fed1973bb8f&pf_rd_r=8G01TZAYK73D0K148WDQ&pf_rd_s=center-1&pf_rd_t=15506&pf_rd_i=top&ref_=chttp_tt_137\n",
            "/title/tt0457430/?pf_rd_m=A2FGELUUNOQJNL&pf_rd_p=1a264172-ae11-42e4-8ef7-7fed1973bb8f&pf_rd_r=8G01TZAYK73D0K148WDQ&pf_rd_s=center-1&pf_rd_t=15506&pf_rd_i=top&ref_=chttp_tt_137\n",
            "/title/tt0105695/?pf_rd_m=A2FGELUUNOQJNL&pf_rd_p=1a264172-ae11-42e4-8ef7-7fed1973bb8f&pf_rd_r=8G01TZAYK73D0K148WDQ&pf_rd_s=center-1&pf_rd_t=15506&pf_rd_i=top&ref_=chttp_tt_138\n",
            "/title/tt0105695/?pf_rd_m=A2FGELUUNOQJNL&pf_rd_p=1a264172-ae11-42e4-8ef7-7fed1973bb8f&pf_rd_r=8G01TZAYK73D0K148WDQ&pf_rd_s=center-1&pf_rd_t=15506&pf_rd_i=top&ref_=chttp_tt_138\n",
            "/title/tt0469494/?pf_rd_m=A2FGELUUNOQJNL&pf_rd_p=1a264172-ae11-42e4-8ef7-7fed1973bb8f&pf_rd_r=8G01TZAYK73D0K148WDQ&pf_rd_s=center-1&pf_rd_t=15506&pf_rd_i=top&ref_=chttp_tt_139\n",
            "/title/tt0469494/?pf_rd_m=A2FGELUUNOQJNL&pf_rd_p=1a264172-ae11-42e4-8ef7-7fed1973bb8f&pf_rd_r=8G01TZAYK73D0K148WDQ&pf_rd_s=center-1&pf_rd_t=15506&pf_rd_i=top&ref_=chttp_tt_139\n",
            "/title/tt0120382/?pf_rd_m=A2FGELUUNOQJNL&pf_rd_p=1a264172-ae11-42e4-8ef7-7fed1973bb8f&pf_rd_r=8G01TZAYK73D0K148WDQ&pf_rd_s=center-1&pf_rd_t=15506&pf_rd_i=top&ref_=chttp_tt_140\n",
            "/title/tt0120382/?pf_rd_m=A2FGELUUNOQJNL&pf_rd_p=1a264172-ae11-42e4-8ef7-7fed1973bb8f&pf_rd_r=8G01TZAYK73D0K148WDQ&pf_rd_s=center-1&pf_rd_t=15506&pf_rd_i=top&ref_=chttp_tt_140\n",
            "/title/tt0167404/?pf_rd_m=A2FGELUUNOQJNL&pf_rd_p=1a264172-ae11-42e4-8ef7-7fed1973bb8f&pf_rd_r=8G01TZAYK73D0K148WDQ&pf_rd_s=center-1&pf_rd_t=15506&pf_rd_i=top&ref_=chttp_tt_141\n",
            "/title/tt0167404/?pf_rd_m=A2FGELUUNOQJNL&pf_rd_p=1a264172-ae11-42e4-8ef7-7fed1973bb8f&pf_rd_r=8G01TZAYK73D0K148WDQ&pf_rd_s=center-1&pf_rd_t=15506&pf_rd_i=top&ref_=chttp_tt_141\n",
            "/title/tt0268978/?pf_rd_m=A2FGELUUNOQJNL&pf_rd_p=1a264172-ae11-42e4-8ef7-7fed1973bb8f&pf_rd_r=8G01TZAYK73D0K148WDQ&pf_rd_s=center-1&pf_rd_t=15506&pf_rd_i=top&ref_=chttp_tt_142\n",
            "/title/tt0268978/?pf_rd_m=A2FGELUUNOQJNL&pf_rd_p=1a264172-ae11-42e4-8ef7-7fed1973bb8f&pf_rd_r=8G01TZAYK73D0K148WDQ&pf_rd_s=center-1&pf_rd_t=15506&pf_rd_i=top&ref_=chttp_tt_142\n",
            "/title/tt1130884/?pf_rd_m=A2FGELUUNOQJNL&pf_rd_p=1a264172-ae11-42e4-8ef7-7fed1973bb8f&pf_rd_r=8G01TZAYK73D0K148WDQ&pf_rd_s=center-1&pf_rd_t=15506&pf_rd_i=top&ref_=chttp_tt_143\n",
            "/title/tt1130884/?pf_rd_m=A2FGELUUNOQJNL&pf_rd_p=1a264172-ae11-42e4-8ef7-7fed1973bb8f&pf_rd_r=8G01TZAYK73D0K148WDQ&pf_rd_s=center-1&pf_rd_t=15506&pf_rd_i=top&ref_=chttp_tt_143\n",
            "/title/tt0055630/?pf_rd_m=A2FGELUUNOQJNL&pf_rd_p=1a264172-ae11-42e4-8ef7-7fed1973bb8f&pf_rd_r=8G01TZAYK73D0K148WDQ&pf_rd_s=center-1&pf_rd_t=15506&pf_rd_i=top&ref_=chttp_tt_144\n",
            "/title/tt0055630/?pf_rd_m=A2FGELUUNOQJNL&pf_rd_p=1a264172-ae11-42e4-8ef7-7fed1973bb8f&pf_rd_r=8G01TZAYK73D0K148WDQ&pf_rd_s=center-1&pf_rd_t=15506&pf_rd_i=top&ref_=chttp_tt_144\n",
            "/title/tt0040897/?pf_rd_m=A2FGELUUNOQJNL&pf_rd_p=1a264172-ae11-42e4-8ef7-7fed1973bb8f&pf_rd_r=8G01TZAYK73D0K148WDQ&pf_rd_s=center-1&pf_rd_t=15506&pf_rd_i=top&ref_=chttp_tt_145\n",
            "/title/tt0040897/?pf_rd_m=A2FGELUUNOQJNL&pf_rd_p=1a264172-ae11-42e4-8ef7-7fed1973bb8f&pf_rd_r=8G01TZAYK73D0K148WDQ&pf_rd_s=center-1&pf_rd_t=15506&pf_rd_i=top&ref_=chttp_tt_145\n",
            "/title/tt0071853/?pf_rd_m=A2FGELUUNOQJNL&pf_rd_p=1a264172-ae11-42e4-8ef7-7fed1973bb8f&pf_rd_r=8G01TZAYK73D0K148WDQ&pf_rd_s=center-1&pf_rd_t=15506&pf_rd_i=top&ref_=chttp_tt_146\n",
            "/title/tt0071853/?pf_rd_m=A2FGELUUNOQJNL&pf_rd_p=1a264172-ae11-42e4-8ef7-7fed1973bb8f&pf_rd_r=8G01TZAYK73D0K148WDQ&pf_rd_s=center-1&pf_rd_t=15506&pf_rd_i=top&ref_=chttp_tt_146\n",
            "/title/tt0107290/?pf_rd_m=A2FGELUUNOQJNL&pf_rd_p=1a264172-ae11-42e4-8ef7-7fed1973bb8f&pf_rd_r=8G01TZAYK73D0K148WDQ&pf_rd_s=center-1&pf_rd_t=15506&pf_rd_i=top&ref_=chttp_tt_147\n",
            "/title/tt0107290/?pf_rd_m=A2FGELUUNOQJNL&pf_rd_p=1a264172-ae11-42e4-8ef7-7fed1973bb8f&pf_rd_r=8G01TZAYK73D0K148WDQ&pf_rd_s=center-1&pf_rd_t=15506&pf_rd_i=top&ref_=chttp_tt_147\n",
            "/title/tt10872600/?pf_rd_m=A2FGELUUNOQJNL&pf_rd_p=1a264172-ae11-42e4-8ef7-7fed1973bb8f&pf_rd_r=8G01TZAYK73D0K148WDQ&pf_rd_s=center-1&pf_rd_t=15506&pf_rd_i=top&ref_=chttp_tt_148\n",
            "/title/tt10872600/?pf_rd_m=A2FGELUUNOQJNL&pf_rd_p=1a264172-ae11-42e4-8ef7-7fed1973bb8f&pf_rd_r=8G01TZAYK73D0K148WDQ&pf_rd_s=center-1&pf_rd_t=15506&pf_rd_i=top&ref_=chttp_tt_148\n",
            "/title/tt0057115/?pf_rd_m=A2FGELUUNOQJNL&pf_rd_p=1a264172-ae11-42e4-8ef7-7fed1973bb8f&pf_rd_r=8G01TZAYK73D0K148WDQ&pf_rd_s=center-1&pf_rd_t=15506&pf_rd_i=top&ref_=chttp_tt_149\n",
            "/title/tt0057115/?pf_rd_m=A2FGELUUNOQJNL&pf_rd_p=1a264172-ae11-42e4-8ef7-7fed1973bb8f&pf_rd_r=8G01TZAYK73D0K148WDQ&pf_rd_s=center-1&pf_rd_t=15506&pf_rd_i=top&ref_=chttp_tt_149\n",
            "/title/tt0042876/?pf_rd_m=A2FGELUUNOQJNL&pf_rd_p=1a264172-ae11-42e4-8ef7-7fed1973bb8f&pf_rd_r=8G01TZAYK73D0K148WDQ&pf_rd_s=center-1&pf_rd_t=15506&pf_rd_i=top&ref_=chttp_tt_150\n",
            "/title/tt0042876/?pf_rd_m=A2FGELUUNOQJNL&pf_rd_p=1a264172-ae11-42e4-8ef7-7fed1973bb8f&pf_rd_r=8G01TZAYK73D0K148WDQ&pf_rd_s=center-1&pf_rd_t=15506&pf_rd_i=top&ref_=chttp_tt_150\n",
            "/title/tt0477348/?pf_rd_m=A2FGELUUNOQJNL&pf_rd_p=1a264172-ae11-42e4-8ef7-7fed1973bb8f&pf_rd_r=8G01TZAYK73D0K148WDQ&pf_rd_s=center-1&pf_rd_t=15506&pf_rd_i=top&ref_=chttp_tt_151\n",
            "/title/tt0477348/?pf_rd_m=A2FGELUUNOQJNL&pf_rd_p=1a264172-ae11-42e4-8ef7-7fed1973bb8f&pf_rd_r=8G01TZAYK73D0K148WDQ&pf_rd_s=center-1&pf_rd_t=15506&pf_rd_i=top&ref_=chttp_tt_151\n",
            "/title/tt0266697/?pf_rd_m=A2FGELUUNOQJNL&pf_rd_p=1a264172-ae11-42e4-8ef7-7fed1973bb8f&pf_rd_r=8G01TZAYK73D0K148WDQ&pf_rd_s=center-1&pf_rd_t=15506&pf_rd_i=top&ref_=chttp_tt_152\n",
            "/title/tt0266697/?pf_rd_m=A2FGELUUNOQJNL&pf_rd_p=1a264172-ae11-42e4-8ef7-7fed1973bb8f&pf_rd_r=8G01TZAYK73D0K148WDQ&pf_rd_s=center-1&pf_rd_t=15506&pf_rd_i=top&ref_=chttp_tt_152\n",
            "/title/tt0084787/?pf_rd_m=A2FGELUUNOQJNL&pf_rd_p=1a264172-ae11-42e4-8ef7-7fed1973bb8f&pf_rd_r=8G01TZAYK73D0K148WDQ&pf_rd_s=center-1&pf_rd_t=15506&pf_rd_i=top&ref_=chttp_tt_153\n",
            "/title/tt0084787/?pf_rd_m=A2FGELUUNOQJNL&pf_rd_p=1a264172-ae11-42e4-8ef7-7fed1973bb8f&pf_rd_r=8G01TZAYK73D0K148WDQ&pf_rd_s=center-1&pf_rd_t=15506&pf_rd_i=top&ref_=chttp_tt_153\n",
            "/title/tt0266543/?pf_rd_m=A2FGELUUNOQJNL&pf_rd_p=1a264172-ae11-42e4-8ef7-7fed1973bb8f&pf_rd_r=8G01TZAYK73D0K148WDQ&pf_rd_s=center-1&pf_rd_t=15506&pf_rd_i=top&ref_=chttp_tt_154\n",
            "/title/tt0266543/?pf_rd_m=A2FGELUUNOQJNL&pf_rd_p=1a264172-ae11-42e4-8ef7-7fed1973bb8f&pf_rd_r=8G01TZAYK73D0K148WDQ&pf_rd_s=center-1&pf_rd_t=15506&pf_rd_i=top&ref_=chttp_tt_154\n",
            "/title/tt0080678/?pf_rd_m=A2FGELUUNOQJNL&pf_rd_p=1a264172-ae11-42e4-8ef7-7fed1973bb8f&pf_rd_r=8G01TZAYK73D0K148WDQ&pf_rd_s=center-1&pf_rd_t=15506&pf_rd_i=top&ref_=chttp_tt_155\n",
            "/title/tt0080678/?pf_rd_m=A2FGELUUNOQJNL&pf_rd_p=1a264172-ae11-42e4-8ef7-7fed1973bb8f&pf_rd_r=8G01TZAYK73D0K148WDQ&pf_rd_s=center-1&pf_rd_t=15506&pf_rd_i=top&ref_=chttp_tt_155\n",
            "/title/tt0071315/?pf_rd_m=A2FGELUUNOQJNL&pf_rd_p=1a264172-ae11-42e4-8ef7-7fed1973bb8f&pf_rd_r=8G01TZAYK73D0K148WDQ&pf_rd_s=center-1&pf_rd_t=15506&pf_rd_i=top&ref_=chttp_tt_156\n",
            "/title/tt0071315/?pf_rd_m=A2FGELUUNOQJNL&pf_rd_p=1a264172-ae11-42e4-8ef7-7fed1973bb8f&pf_rd_r=8G01TZAYK73D0K148WDQ&pf_rd_s=center-1&pf_rd_t=15506&pf_rd_i=top&ref_=chttp_tt_156\n",
            "/title/tt0081398/?pf_rd_m=A2FGELUUNOQJNL&pf_rd_p=1a264172-ae11-42e4-8ef7-7fed1973bb8f&pf_rd_r=8G01TZAYK73D0K148WDQ&pf_rd_s=center-1&pf_rd_t=15506&pf_rd_i=top&ref_=chttp_tt_157\n",
            "/title/tt0081398/?pf_rd_m=A2FGELUUNOQJNL&pf_rd_p=1a264172-ae11-42e4-8ef7-7fed1973bb8f&pf_rd_r=8G01TZAYK73D0K148WDQ&pf_rd_s=center-1&pf_rd_t=15506&pf_rd_i=top&ref_=chttp_tt_157\n",
            "/title/tt0434409/?pf_rd_m=A2FGELUUNOQJNL&pf_rd_p=1a264172-ae11-42e4-8ef7-7fed1973bb8f&pf_rd_r=8G01TZAYK73D0K148WDQ&pf_rd_s=center-1&pf_rd_t=15506&pf_rd_i=top&ref_=chttp_tt_158\n",
            "/title/tt0434409/?pf_rd_m=A2FGELUUNOQJNL&pf_rd_p=1a264172-ae11-42e4-8ef7-7fed1973bb8f&pf_rd_r=8G01TZAYK73D0K148WDQ&pf_rd_s=center-1&pf_rd_t=15506&pf_rd_i=top&ref_=chttp_tt_158\n",
            "/title/tt0031381/?pf_rd_m=A2FGELUUNOQJNL&pf_rd_p=1a264172-ae11-42e4-8ef7-7fed1973bb8f&pf_rd_r=8G01TZAYK73D0K148WDQ&pf_rd_s=center-1&pf_rd_t=15506&pf_rd_i=top&ref_=chttp_tt_159\n",
            "/title/tt0031381/?pf_rd_m=A2FGELUUNOQJNL&pf_rd_p=1a264172-ae11-42e4-8ef7-7fed1973bb8f&pf_rd_r=8G01TZAYK73D0K148WDQ&pf_rd_s=center-1&pf_rd_t=15506&pf_rd_i=top&ref_=chttp_tt_159\n",
            "/title/tt2096673/?pf_rd_m=A2FGELUUNOQJNL&pf_rd_p=1a264172-ae11-42e4-8ef7-7fed1973bb8f&pf_rd_r=8G01TZAYK73D0K148WDQ&pf_rd_s=center-1&pf_rd_t=15506&pf_rd_i=top&ref_=chttp_tt_160\n",
            "/title/tt2096673/?pf_rd_m=A2FGELUUNOQJNL&pf_rd_p=1a264172-ae11-42e4-8ef7-7fed1973bb8f&pf_rd_r=8G01TZAYK73D0K148WDQ&pf_rd_s=center-1&pf_rd_t=15506&pf_rd_i=top&ref_=chttp_tt_160\n",
            "/title/tt0120735/?pf_rd_m=A2FGELUUNOQJNL&pf_rd_p=1a264172-ae11-42e4-8ef7-7fed1973bb8f&pf_rd_r=8G01TZAYK73D0K148WDQ&pf_rd_s=center-1&pf_rd_t=15506&pf_rd_i=top&ref_=chttp_tt_161\n",
            "/title/tt0120735/?pf_rd_m=A2FGELUUNOQJNL&pf_rd_p=1a264172-ae11-42e4-8ef7-7fed1973bb8f&pf_rd_r=8G01TZAYK73D0K148WDQ&pf_rd_s=center-1&pf_rd_t=15506&pf_rd_i=top&ref_=chttp_tt_161\n",
            "/title/tt0046912/?pf_rd_m=A2FGELUUNOQJNL&pf_rd_p=1a264172-ae11-42e4-8ef7-7fed1973bb8f&pf_rd_r=8G01TZAYK73D0K148WDQ&pf_rd_s=center-1&pf_rd_t=15506&pf_rd_i=top&ref_=chttp_tt_162\n",
            "/title/tt0046912/?pf_rd_m=A2FGELUUNOQJNL&pf_rd_p=1a264172-ae11-42e4-8ef7-7fed1973bb8f&pf_rd_r=8G01TZAYK73D0K148WDQ&pf_rd_s=center-1&pf_rd_t=15506&pf_rd_i=top&ref_=chttp_tt_162\n",
            "/title/tt1305806/?pf_rd_m=A2FGELUUNOQJNL&pf_rd_p=1a264172-ae11-42e4-8ef7-7fed1973bb8f&pf_rd_r=8G01TZAYK73D0K148WDQ&pf_rd_s=center-1&pf_rd_t=15506&pf_rd_i=top&ref_=chttp_tt_163\n",
            "/title/tt1305806/?pf_rd_m=A2FGELUUNOQJNL&pf_rd_p=1a264172-ae11-42e4-8ef7-7fed1973bb8f&pf_rd_r=8G01TZAYK73D0K148WDQ&pf_rd_s=center-1&pf_rd_t=15506&pf_rd_i=top&ref_=chttp_tt_163\n",
            "/title/tt0347149/?pf_rd_m=A2FGELUUNOQJNL&pf_rd_p=1a264172-ae11-42e4-8ef7-7fed1973bb8f&pf_rd_r=8G01TZAYK73D0K148WDQ&pf_rd_s=center-1&pf_rd_t=15506&pf_rd_i=top&ref_=chttp_tt_164\n",
            "/title/tt0347149/?pf_rd_m=A2FGELUUNOQJNL&pf_rd_p=1a264172-ae11-42e4-8ef7-7fed1973bb8f&pf_rd_r=8G01TZAYK73D0K148WDQ&pf_rd_s=center-1&pf_rd_t=15506&pf_rd_i=top&ref_=chttp_tt_164\n",
            "/title/tt5027774/?pf_rd_m=A2FGELUUNOQJNL&pf_rd_p=1a264172-ae11-42e4-8ef7-7fed1973bb8f&pf_rd_r=8G01TZAYK73D0K148WDQ&pf_rd_s=center-1&pf_rd_t=15506&pf_rd_i=top&ref_=chttp_tt_165\n",
            "/title/tt5027774/?pf_rd_m=A2FGELUUNOQJNL&pf_rd_p=1a264172-ae11-42e4-8ef7-7fed1973bb8f&pf_rd_r=8G01TZAYK73D0K148WDQ&pf_rd_s=center-1&pf_rd_t=15506&pf_rd_i=top&ref_=chttp_tt_165\n",
            "/title/tt0050212/?pf_rd_m=A2FGELUUNOQJNL&pf_rd_p=1a264172-ae11-42e4-8ef7-7fed1973bb8f&pf_rd_r=8G01TZAYK73D0K148WDQ&pf_rd_s=center-1&pf_rd_t=15506&pf_rd_i=top&ref_=chttp_tt_166\n",
            "/title/tt0050212/?pf_rd_m=A2FGELUUNOQJNL&pf_rd_p=1a264172-ae11-42e4-8ef7-7fed1973bb8f&pf_rd_r=8G01TZAYK73D0K148WDQ&pf_rd_s=center-1&pf_rd_t=15506&pf_rd_i=top&ref_=chttp_tt_166\n",
            "/title/tt0117951/?pf_rd_m=A2FGELUUNOQJNL&pf_rd_p=1a264172-ae11-42e4-8ef7-7fed1973bb8f&pf_rd_r=8G01TZAYK73D0K148WDQ&pf_rd_s=center-1&pf_rd_t=15506&pf_rd_i=top&ref_=chttp_tt_167\n",
            "/title/tt0117951/?pf_rd_m=A2FGELUUNOQJNL&pf_rd_p=1a264172-ae11-42e4-8ef7-7fed1973bb8f&pf_rd_r=8G01TZAYK73D0K148WDQ&pf_rd_s=center-1&pf_rd_t=15506&pf_rd_i=top&ref_=chttp_tt_167\n",
            "/title/tt1291584/?pf_rd_m=A2FGELUUNOQJNL&pf_rd_p=1a264172-ae11-42e4-8ef7-7fed1973bb8f&pf_rd_r=8G01TZAYK73D0K148WDQ&pf_rd_s=center-1&pf_rd_t=15506&pf_rd_i=top&ref_=chttp_tt_168\n",
            "/title/tt1291584/?pf_rd_m=A2FGELUUNOQJNL&pf_rd_p=1a264172-ae11-42e4-8ef7-7fed1973bb8f&pf_rd_r=8G01TZAYK73D0K148WDQ&pf_rd_s=center-1&pf_rd_t=15506&pf_rd_i=top&ref_=chttp_tt_168\n",
            "/title/tt1392214/?pf_rd_m=A2FGELUUNOQJNL&pf_rd_p=1a264172-ae11-42e4-8ef7-7fed1973bb8f&pf_rd_r=8G01TZAYK73D0K148WDQ&pf_rd_s=center-1&pf_rd_t=15506&pf_rd_i=top&ref_=chttp_tt_169\n",
            "/title/tt1392214/?pf_rd_m=A2FGELUUNOQJNL&pf_rd_p=1a264172-ae11-42e4-8ef7-7fed1973bb8f&pf_rd_r=8G01TZAYK73D0K148WDQ&pf_rd_s=center-1&pf_rd_t=15506&pf_rd_i=top&ref_=chttp_tt_169\n",
            "/title/tt0116282/?pf_rd_m=A2FGELUUNOQJNL&pf_rd_p=1a264172-ae11-42e4-8ef7-7fed1973bb8f&pf_rd_r=8G01TZAYK73D0K148WDQ&pf_rd_s=center-1&pf_rd_t=15506&pf_rd_i=top&ref_=chttp_tt_170\n",
            "/title/tt0116282/?pf_rd_m=A2FGELUUNOQJNL&pf_rd_p=1a264172-ae11-42e4-8ef7-7fed1973bb8f&pf_rd_r=8G01TZAYK73D0K148WDQ&pf_rd_s=center-1&pf_rd_t=15506&pf_rd_i=top&ref_=chttp_tt_170\n",
            "/title/tt1205489/?pf_rd_m=A2FGELUUNOQJNL&pf_rd_p=1a264172-ae11-42e4-8ef7-7fed1973bb8f&pf_rd_r=8G01TZAYK73D0K148WDQ&pf_rd_s=center-1&pf_rd_t=15506&pf_rd_i=top&ref_=chttp_tt_171\n",
            "/title/tt1205489/?pf_rd_m=A2FGELUUNOQJNL&pf_rd_p=1a264172-ae11-42e4-8ef7-7fed1973bb8f&pf_rd_r=8G01TZAYK73D0K148WDQ&pf_rd_s=center-1&pf_rd_t=15506&pf_rd_i=top&ref_=chttp_tt_171\n",
            "/title/tt0096283/?pf_rd_m=A2FGELUUNOQJNL&pf_rd_p=1a264172-ae11-42e4-8ef7-7fed1973bb8f&pf_rd_r=8G01TZAYK73D0K148WDQ&pf_rd_s=center-1&pf_rd_t=15506&pf_rd_i=top&ref_=chttp_tt_172\n",
            "/title/tt0096283/?pf_rd_m=A2FGELUUNOQJNL&pf_rd_p=1a264172-ae11-42e4-8ef7-7fed1973bb8f&pf_rd_r=8G01TZAYK73D0K148WDQ&pf_rd_s=center-1&pf_rd_t=15506&pf_rd_i=top&ref_=chttp_tt_172\n",
            "/title/tt0264464/?pf_rd_m=A2FGELUUNOQJNL&pf_rd_p=1a264172-ae11-42e4-8ef7-7fed1973bb8f&pf_rd_r=8G01TZAYK73D0K148WDQ&pf_rd_s=center-1&pf_rd_t=15506&pf_rd_i=top&ref_=chttp_tt_173\n",
            "/title/tt0264464/?pf_rd_m=A2FGELUUNOQJNL&pf_rd_p=1a264172-ae11-42e4-8ef7-7fed1973bb8f&pf_rd_r=8G01TZAYK73D0K148WDQ&pf_rd_s=center-1&pf_rd_t=15506&pf_rd_i=top&ref_=chttp_tt_173\n",
            "/title/tt0405159/?pf_rd_m=A2FGELUUNOQJNL&pf_rd_p=1a264172-ae11-42e4-8ef7-7fed1973bb8f&pf_rd_r=8G01TZAYK73D0K148WDQ&pf_rd_s=center-1&pf_rd_t=15506&pf_rd_i=top&ref_=chttp_tt_174\n",
            "/title/tt0405159/?pf_rd_m=A2FGELUUNOQJNL&pf_rd_p=1a264172-ae11-42e4-8ef7-7fed1973bb8f&pf_rd_r=8G01TZAYK73D0K148WDQ&pf_rd_s=center-1&pf_rd_t=15506&pf_rd_i=top&ref_=chttp_tt_174\n",
            "/title/tt0118849/?pf_rd_m=A2FGELUUNOQJNL&pf_rd_p=1a264172-ae11-42e4-8ef7-7fed1973bb8f&pf_rd_r=8G01TZAYK73D0K148WDQ&pf_rd_s=center-1&pf_rd_t=15506&pf_rd_i=top&ref_=chttp_tt_175\n",
            "/title/tt0118849/?pf_rd_m=A2FGELUUNOQJNL&pf_rd_p=1a264172-ae11-42e4-8ef7-7fed1973bb8f&pf_rd_r=8G01TZAYK73D0K148WDQ&pf_rd_s=center-1&pf_rd_t=15506&pf_rd_i=top&ref_=chttp_tt_175\n",
            "/title/tt0083658/?pf_rd_m=A2FGELUUNOQJNL&pf_rd_p=1a264172-ae11-42e4-8ef7-7fed1973bb8f&pf_rd_r=8G01TZAYK73D0K148WDQ&pf_rd_s=center-1&pf_rd_t=15506&pf_rd_i=top&ref_=chttp_tt_176\n",
            "/title/tt0083658/?pf_rd_m=A2FGELUUNOQJNL&pf_rd_p=1a264172-ae11-42e4-8ef7-7fed1973bb8f&pf_rd_r=8G01TZAYK73D0K148WDQ&pf_rd_s=center-1&pf_rd_t=15506&pf_rd_i=top&ref_=chttp_tt_176\n",
            "/title/tt0015864/?pf_rd_m=A2FGELUUNOQJNL&pf_rd_p=1a264172-ae11-42e4-8ef7-7fed1973bb8f&pf_rd_r=8G01TZAYK73D0K148WDQ&pf_rd_s=center-1&pf_rd_t=15506&pf_rd_i=top&ref_=chttp_tt_177\n",
            "/title/tt0015864/?pf_rd_m=A2FGELUUNOQJNL&pf_rd_p=1a264172-ae11-42e4-8ef7-7fed1973bb8f&pf_rd_r=8G01TZAYK73D0K148WDQ&pf_rd_s=center-1&pf_rd_t=15506&pf_rd_i=top&ref_=chttp_tt_177\n",
            "/title/tt0112471/?pf_rd_m=A2FGELUUNOQJNL&pf_rd_p=1a264172-ae11-42e4-8ef7-7fed1973bb8f&pf_rd_r=8G01TZAYK73D0K148WDQ&pf_rd_s=center-1&pf_rd_t=15506&pf_rd_i=top&ref_=chttp_tt_178\n",
            "/title/tt0112471/?pf_rd_m=A2FGELUUNOQJNL&pf_rd_p=1a264172-ae11-42e4-8ef7-7fed1973bb8f&pf_rd_r=8G01TZAYK73D0K148WDQ&pf_rd_s=center-1&pf_rd_t=15506&pf_rd_i=top&ref_=chttp_tt_178\n",
            "/title/tt0047296/?pf_rd_m=A2FGELUUNOQJNL&pf_rd_p=1a264172-ae11-42e4-8ef7-7fed1973bb8f&pf_rd_r=8G01TZAYK73D0K148WDQ&pf_rd_s=center-1&pf_rd_t=15506&pf_rd_i=top&ref_=chttp_tt_179\n",
            "/title/tt0047296/?pf_rd_m=A2FGELUUNOQJNL&pf_rd_p=1a264172-ae11-42e4-8ef7-7fed1973bb8f&pf_rd_r=8G01TZAYK73D0K148WDQ&pf_rd_s=center-1&pf_rd_t=15506&pf_rd_i=top&ref_=chttp_tt_179\n",
            "/title/tt2024544/?pf_rd_m=A2FGELUUNOQJNL&pf_rd_p=1a264172-ae11-42e4-8ef7-7fed1973bb8f&pf_rd_r=8G01TZAYK73D0K148WDQ&pf_rd_s=center-1&pf_rd_t=15506&pf_rd_i=top&ref_=chttp_tt_180\n",
            "/title/tt2024544/?pf_rd_m=A2FGELUUNOQJNL&pf_rd_p=1a264172-ae11-42e4-8ef7-7fed1973bb8f&pf_rd_r=8G01TZAYK73D0K148WDQ&pf_rd_s=center-1&pf_rd_t=15506&pf_rd_i=top&ref_=chttp_tt_180\n",
            "/title/tt1201607/?pf_rd_m=A2FGELUUNOQJNL&pf_rd_p=1a264172-ae11-42e4-8ef7-7fed1973bb8f&pf_rd_r=8G01TZAYK73D0K148WDQ&pf_rd_s=center-1&pf_rd_t=15506&pf_rd_i=top&ref_=chttp_tt_181\n",
            "/title/tt1201607/?pf_rd_m=A2FGELUUNOQJNL&pf_rd_p=1a264172-ae11-42e4-8ef7-7fed1973bb8f&pf_rd_r=8G01TZAYK73D0K148WDQ&pf_rd_s=center-1&pf_rd_t=15506&pf_rd_i=top&ref_=chttp_tt_181\n",
            "/title/tt4729430/?pf_rd_m=A2FGELUUNOQJNL&pf_rd_p=1a264172-ae11-42e4-8ef7-7fed1973bb8f&pf_rd_r=8G01TZAYK73D0K148WDQ&pf_rd_s=center-1&pf_rd_t=15506&pf_rd_i=top&ref_=chttp_tt_182\n",
            "/title/tt4729430/?pf_rd_m=A2FGELUUNOQJNL&pf_rd_p=1a264172-ae11-42e4-8ef7-7fed1973bb8f&pf_rd_r=8G01TZAYK73D0K148WDQ&pf_rd_s=center-1&pf_rd_t=15506&pf_rd_i=top&ref_=chttp_tt_182\n",
            "/title/tt0052618/?pf_rd_m=A2FGELUUNOQJNL&pf_rd_p=1a264172-ae11-42e4-8ef7-7fed1973bb8f&pf_rd_r=8G01TZAYK73D0K148WDQ&pf_rd_s=center-1&pf_rd_t=15506&pf_rd_i=top&ref_=chttp_tt_183\n",
            "/title/tt0052618/?pf_rd_m=A2FGELUUNOQJNL&pf_rd_p=1a264172-ae11-42e4-8ef7-7fed1973bb8f&pf_rd_r=8G01TZAYK73D0K148WDQ&pf_rd_s=center-1&pf_rd_t=15506&pf_rd_i=top&ref_=chttp_tt_183\n",
            "/title/tt2267998/?pf_rd_m=A2FGELUUNOQJNL&pf_rd_p=1a264172-ae11-42e4-8ef7-7fed1973bb8f&pf_rd_r=8G01TZAYK73D0K148WDQ&pf_rd_s=center-1&pf_rd_t=15506&pf_rd_i=top&ref_=chttp_tt_184\n",
            "/title/tt2267998/?pf_rd_m=A2FGELUUNOQJNL&pf_rd_p=1a264172-ae11-42e4-8ef7-7fed1973bb8f&pf_rd_r=8G01TZAYK73D0K148WDQ&pf_rd_s=center-1&pf_rd_t=15506&pf_rd_i=top&ref_=chttp_tt_184\n",
            "/title/tt0050986/?pf_rd_m=A2FGELUUNOQJNL&pf_rd_p=1a264172-ae11-42e4-8ef7-7fed1973bb8f&pf_rd_r=8G01TZAYK73D0K148WDQ&pf_rd_s=center-1&pf_rd_t=15506&pf_rd_i=top&ref_=chttp_tt_185\n",
            "/title/tt0050986/?pf_rd_m=A2FGELUUNOQJNL&pf_rd_p=1a264172-ae11-42e4-8ef7-7fed1973bb8f&pf_rd_r=8G01TZAYK73D0K148WDQ&pf_rd_s=center-1&pf_rd_t=15506&pf_rd_i=top&ref_=chttp_tt_185\n",
            "/title/tt0041959/?pf_rd_m=A2FGELUUNOQJNL&pf_rd_p=1a264172-ae11-42e4-8ef7-7fed1973bb8f&pf_rd_r=8G01TZAYK73D0K148WDQ&pf_rd_s=center-1&pf_rd_t=15506&pf_rd_i=top&ref_=chttp_tt_186\n",
            "/title/tt0041959/?pf_rd_m=A2FGELUUNOQJNL&pf_rd_p=1a264172-ae11-42e4-8ef7-7fed1973bb8f&pf_rd_r=8G01TZAYK73D0K148WDQ&pf_rd_s=center-1&pf_rd_t=15506&pf_rd_i=top&ref_=chttp_tt_186\n",
            "/title/tt0017925/?pf_rd_m=A2FGELUUNOQJNL&pf_rd_p=1a264172-ae11-42e4-8ef7-7fed1973bb8f&pf_rd_r=8G01TZAYK73D0K148WDQ&pf_rd_s=center-1&pf_rd_t=15506&pf_rd_i=top&ref_=chttp_tt_187\n",
            "/title/tt0017925/?pf_rd_m=A2FGELUUNOQJNL&pf_rd_p=1a264172-ae11-42e4-8ef7-7fed1973bb8f&pf_rd_r=8G01TZAYK73D0K148WDQ&pf_rd_s=center-1&pf_rd_t=15506&pf_rd_i=top&ref_=chttp_tt_187\n",
            "/title/tt2278388/?pf_rd_m=A2FGELUUNOQJNL&pf_rd_p=1a264172-ae11-42e4-8ef7-7fed1973bb8f&pf_rd_r=8G01TZAYK73D0K148WDQ&pf_rd_s=center-1&pf_rd_t=15506&pf_rd_i=top&ref_=chttp_tt_188\n",
            "/title/tt2278388/?pf_rd_m=A2FGELUUNOQJNL&pf_rd_p=1a264172-ae11-42e4-8ef7-7fed1973bb8f&pf_rd_r=8G01TZAYK73D0K148WDQ&pf_rd_s=center-1&pf_rd_t=15506&pf_rd_i=top&ref_=chttp_tt_188\n",
            "/title/tt0107207/?pf_rd_m=A2FGELUUNOQJNL&pf_rd_p=1a264172-ae11-42e4-8ef7-7fed1973bb8f&pf_rd_r=8G01TZAYK73D0K148WDQ&pf_rd_s=center-1&pf_rd_t=15506&pf_rd_i=top&ref_=chttp_tt_189\n",
            "/title/tt0107207/?pf_rd_m=A2FGELUUNOQJNL&pf_rd_p=1a264172-ae11-42e4-8ef7-7fed1973bb8f&pf_rd_r=8G01TZAYK73D0K148WDQ&pf_rd_s=center-1&pf_rd_t=15506&pf_rd_i=top&ref_=chttp_tt_189\n",
            "/title/tt0077416/?pf_rd_m=A2FGELUUNOQJNL&pf_rd_p=1a264172-ae11-42e4-8ef7-7fed1973bb8f&pf_rd_r=8G01TZAYK73D0K148WDQ&pf_rd_s=center-1&pf_rd_t=15506&pf_rd_i=top&ref_=chttp_tt_190\n",
            "/title/tt0077416/?pf_rd_m=A2FGELUUNOQJNL&pf_rd_p=1a264172-ae11-42e4-8ef7-7fed1973bb8f&pf_rd_r=8G01TZAYK73D0K148WDQ&pf_rd_s=center-1&pf_rd_t=15506&pf_rd_i=top&ref_=chttp_tt_190\n",
            "/title/tt0072684/?pf_rd_m=A2FGELUUNOQJNL&pf_rd_p=1a264172-ae11-42e4-8ef7-7fed1973bb8f&pf_rd_r=8G01TZAYK73D0K148WDQ&pf_rd_s=center-1&pf_rd_t=15506&pf_rd_i=top&ref_=chttp_tt_191\n",
            "/title/tt0072684/?pf_rd_m=A2FGELUUNOQJNL&pf_rd_p=1a264172-ae11-42e4-8ef7-7fed1973bb8f&pf_rd_r=8G01TZAYK73D0K148WDQ&pf_rd_s=center-1&pf_rd_t=15506&pf_rd_i=top&ref_=chttp_tt_191\n",
            "/title/tt0046268/?pf_rd_m=A2FGELUUNOQJNL&pf_rd_p=1a264172-ae11-42e4-8ef7-7fed1973bb8f&pf_rd_r=8G01TZAYK73D0K148WDQ&pf_rd_s=center-1&pf_rd_t=15506&pf_rd_i=top&ref_=chttp_tt_192\n",
            "/title/tt0046268/?pf_rd_m=A2FGELUUNOQJNL&pf_rd_p=1a264172-ae11-42e4-8ef7-7fed1973bb8f&pf_rd_r=8G01TZAYK73D0K148WDQ&pf_rd_s=center-1&pf_rd_t=15506&pf_rd_i=top&ref_=chttp_tt_192\n",
            "/title/tt2119532/?pf_rd_m=A2FGELUUNOQJNL&pf_rd_p=1a264172-ae11-42e4-8ef7-7fed1973bb8f&pf_rd_r=8G01TZAYK73D0K148WDQ&pf_rd_s=center-1&pf_rd_t=15506&pf_rd_i=top&ref_=chttp_tt_193\n",
            "/title/tt2119532/?pf_rd_m=A2FGELUUNOQJNL&pf_rd_p=1a264172-ae11-42e4-8ef7-7fed1973bb8f&pf_rd_r=8G01TZAYK73D0K148WDQ&pf_rd_s=center-1&pf_rd_t=15506&pf_rd_i=top&ref_=chttp_tt_193\n",
            "/title/tt0015324/?pf_rd_m=A2FGELUUNOQJNL&pf_rd_p=1a264172-ae11-42e4-8ef7-7fed1973bb8f&pf_rd_r=8G01TZAYK73D0K148WDQ&pf_rd_s=center-1&pf_rd_t=15506&pf_rd_i=top&ref_=chttp_tt_194\n",
            "/title/tt0015324/?pf_rd_m=A2FGELUUNOQJNL&pf_rd_p=1a264172-ae11-42e4-8ef7-7fed1973bb8f&pf_rd_r=8G01TZAYK73D0K148WDQ&pf_rd_s=center-1&pf_rd_t=15506&pf_rd_i=top&ref_=chttp_tt_194\n",
            "/title/tt0353969/?pf_rd_m=A2FGELUUNOQJNL&pf_rd_p=1a264172-ae11-42e4-8ef7-7fed1973bb8f&pf_rd_r=8G01TZAYK73D0K148WDQ&pf_rd_s=center-1&pf_rd_t=15506&pf_rd_i=top&ref_=chttp_tt_195\n",
            "/title/tt0353969/?pf_rd_m=A2FGELUUNOQJNL&pf_rd_p=1a264172-ae11-42e4-8ef7-7fed1973bb8f&pf_rd_r=8G01TZAYK73D0K148WDQ&pf_rd_s=center-1&pf_rd_t=15506&pf_rd_i=top&ref_=chttp_tt_195\n",
            "/title/tt0031679/?pf_rd_m=A2FGELUUNOQJNL&pf_rd_p=1a264172-ae11-42e4-8ef7-7fed1973bb8f&pf_rd_r=8G01TZAYK73D0K148WDQ&pf_rd_s=center-1&pf_rd_t=15506&pf_rd_i=top&ref_=chttp_tt_196\n",
            "/title/tt0031679/?pf_rd_m=A2FGELUUNOQJNL&pf_rd_p=1a264172-ae11-42e4-8ef7-7fed1973bb8f&pf_rd_r=8G01TZAYK73D0K148WDQ&pf_rd_s=center-1&pf_rd_t=15506&pf_rd_i=top&ref_=chttp_tt_196\n",
            "/title/tt3011894/?pf_rd_m=A2FGELUUNOQJNL&pf_rd_p=1a264172-ae11-42e4-8ef7-7fed1973bb8f&pf_rd_r=8G01TZAYK73D0K148WDQ&pf_rd_s=center-1&pf_rd_t=15506&pf_rd_i=top&ref_=chttp_tt_197\n",
            "/title/tt3011894/?pf_rd_m=A2FGELUUNOQJNL&pf_rd_p=1a264172-ae11-42e4-8ef7-7fed1973bb8f&pf_rd_r=8G01TZAYK73D0K148WDQ&pf_rd_s=center-1&pf_rd_t=15506&pf_rd_i=top&ref_=chttp_tt_197\n",
            "/title/tt1392190/?pf_rd_m=A2FGELUUNOQJNL&pf_rd_p=1a264172-ae11-42e4-8ef7-7fed1973bb8f&pf_rd_r=8G01TZAYK73D0K148WDQ&pf_rd_s=center-1&pf_rd_t=15506&pf_rd_i=top&ref_=chttp_tt_198\n",
            "/title/tt1392190/?pf_rd_m=A2FGELUUNOQJNL&pf_rd_p=1a264172-ae11-42e4-8ef7-7fed1973bb8f&pf_rd_r=8G01TZAYK73D0K148WDQ&pf_rd_s=center-1&pf_rd_t=15506&pf_rd_i=top&ref_=chttp_tt_198\n",
            "/title/tt0050976/?pf_rd_m=A2FGELUUNOQJNL&pf_rd_p=1a264172-ae11-42e4-8ef7-7fed1973bb8f&pf_rd_r=8G01TZAYK73D0K148WDQ&pf_rd_s=center-1&pf_rd_t=15506&pf_rd_i=top&ref_=chttp_tt_199\n",
            "/title/tt0050976/?pf_rd_m=A2FGELUUNOQJNL&pf_rd_p=1a264172-ae11-42e4-8ef7-7fed1973bb8f&pf_rd_r=8G01TZAYK73D0K148WDQ&pf_rd_s=center-1&pf_rd_t=15506&pf_rd_i=top&ref_=chttp_tt_199\n",
            "/title/tt0978762/?pf_rd_m=A2FGELUUNOQJNL&pf_rd_p=1a264172-ae11-42e4-8ef7-7fed1973bb8f&pf_rd_r=8G01TZAYK73D0K148WDQ&pf_rd_s=center-1&pf_rd_t=15506&pf_rd_i=top&ref_=chttp_tt_200\n",
            "/title/tt0978762/?pf_rd_m=A2FGELUUNOQJNL&pf_rd_p=1a264172-ae11-42e4-8ef7-7fed1973bb8f&pf_rd_r=8G01TZAYK73D0K148WDQ&pf_rd_s=center-1&pf_rd_t=15506&pf_rd_i=top&ref_=chttp_tt_200\n",
            "/title/tt3170832/?pf_rd_m=A2FGELUUNOQJNL&pf_rd_p=1a264172-ae11-42e4-8ef7-7fed1973bb8f&pf_rd_r=8G01TZAYK73D0K148WDQ&pf_rd_s=center-1&pf_rd_t=15506&pf_rd_i=top&ref_=chttp_tt_201\n",
            "/title/tt3170832/?pf_rd_m=A2FGELUUNOQJNL&pf_rd_p=1a264172-ae11-42e4-8ef7-7fed1973bb8f&pf_rd_r=8G01TZAYK73D0K148WDQ&pf_rd_s=center-1&pf_rd_t=15506&pf_rd_i=top&ref_=chttp_tt_201\n",
            "/title/tt0892769/?pf_rd_m=A2FGELUUNOQJNL&pf_rd_p=1a264172-ae11-42e4-8ef7-7fed1973bb8f&pf_rd_r=8G01TZAYK73D0K148WDQ&pf_rd_s=center-1&pf_rd_t=15506&pf_rd_i=top&ref_=chttp_tt_202\n",
            "/title/tt0892769/?pf_rd_m=A2FGELUUNOQJNL&pf_rd_p=1a264172-ae11-42e4-8ef7-7fed1973bb8f&pf_rd_r=8G01TZAYK73D0K148WDQ&pf_rd_s=center-1&pf_rd_t=15506&pf_rd_i=top&ref_=chttp_tt_202\n",
            "/title/tt0198781/?pf_rd_m=A2FGELUUNOQJNL&pf_rd_p=1a264172-ae11-42e4-8ef7-7fed1973bb8f&pf_rd_r=8G01TZAYK73D0K148WDQ&pf_rd_s=center-1&pf_rd_t=15506&pf_rd_i=top&ref_=chttp_tt_203\n",
            "/title/tt0198781/?pf_rd_m=A2FGELUUNOQJNL&pf_rd_p=1a264172-ae11-42e4-8ef7-7fed1973bb8f&pf_rd_r=8G01TZAYK73D0K148WDQ&pf_rd_s=center-1&pf_rd_t=15506&pf_rd_i=top&ref_=chttp_tt_203\n",
            "/title/tt0073195/?pf_rd_m=A2FGELUUNOQJNL&pf_rd_p=1a264172-ae11-42e4-8ef7-7fed1973bb8f&pf_rd_r=8G01TZAYK73D0K148WDQ&pf_rd_s=center-1&pf_rd_t=15506&pf_rd_i=top&ref_=chttp_tt_204\n",
            "/title/tt0073195/?pf_rd_m=A2FGELUUNOQJNL&pf_rd_p=1a264172-ae11-42e4-8ef7-7fed1973bb8f&pf_rd_r=8G01TZAYK73D0K148WDQ&pf_rd_s=center-1&pf_rd_t=15506&pf_rd_i=top&ref_=chttp_tt_204\n",
            "/title/tt0118715/?pf_rd_m=A2FGELUUNOQJNL&pf_rd_p=1a264172-ae11-42e4-8ef7-7fed1973bb8f&pf_rd_r=8G01TZAYK73D0K148WDQ&pf_rd_s=center-1&pf_rd_t=15506&pf_rd_i=top&ref_=chttp_tt_205\n",
            "/title/tt0118715/?pf_rd_m=A2FGELUUNOQJNL&pf_rd_p=1a264172-ae11-42e4-8ef7-7fed1973bb8f&pf_rd_r=8G01TZAYK73D0K148WDQ&pf_rd_s=center-1&pf_rd_t=15506&pf_rd_i=top&ref_=chttp_tt_205\n",
            "/title/tt0097165/?pf_rd_m=A2FGELUUNOQJNL&pf_rd_p=1a264172-ae11-42e4-8ef7-7fed1973bb8f&pf_rd_r=8G01TZAYK73D0K148WDQ&pf_rd_s=center-1&pf_rd_t=15506&pf_rd_i=top&ref_=chttp_tt_206\n",
            "/title/tt0097165/?pf_rd_m=A2FGELUUNOQJNL&pf_rd_p=1a264172-ae11-42e4-8ef7-7fed1973bb8f&pf_rd_r=8G01TZAYK73D0K148WDQ&pf_rd_s=center-1&pf_rd_t=15506&pf_rd_i=top&ref_=chttp_tt_206\n",
            "/title/tt0019254/?pf_rd_m=A2FGELUUNOQJNL&pf_rd_p=1a264172-ae11-42e4-8ef7-7fed1973bb8f&pf_rd_r=8G01TZAYK73D0K148WDQ&pf_rd_s=center-1&pf_rd_t=15506&pf_rd_i=top&ref_=chttp_tt_207\n",
            "/title/tt0019254/?pf_rd_m=A2FGELUUNOQJNL&pf_rd_p=1a264172-ae11-42e4-8ef7-7fed1973bb8f&pf_rd_r=8G01TZAYK73D0K148WDQ&pf_rd_s=center-1&pf_rd_t=15506&pf_rd_i=top&ref_=chttp_tt_207\n",
            "/title/tt0046438/?pf_rd_m=A2FGELUUNOQJNL&pf_rd_p=1a264172-ae11-42e4-8ef7-7fed1973bb8f&pf_rd_r=8G01TZAYK73D0K148WDQ&pf_rd_s=center-1&pf_rd_t=15506&pf_rd_i=top&ref_=chttp_tt_208\n",
            "/title/tt0046438/?pf_rd_m=A2FGELUUNOQJNL&pf_rd_p=1a264172-ae11-42e4-8ef7-7fed1973bb8f&pf_rd_r=8G01TZAYK73D0K148WDQ&pf_rd_s=center-1&pf_rd_t=15506&pf_rd_i=top&ref_=chttp_tt_208\n",
            "/title/tt0395169/?pf_rd_m=A2FGELUUNOQJNL&pf_rd_p=1a264172-ae11-42e4-8ef7-7fed1973bb8f&pf_rd_r=8G01TZAYK73D0K148WDQ&pf_rd_s=center-1&pf_rd_t=15506&pf_rd_i=top&ref_=chttp_tt_209\n",
            "/title/tt0395169/?pf_rd_m=A2FGELUUNOQJNL&pf_rd_p=1a264172-ae11-42e4-8ef7-7fed1973bb8f&pf_rd_r=8G01TZAYK73D0K148WDQ&pf_rd_s=center-1&pf_rd_t=15506&pf_rd_i=top&ref_=chttp_tt_209\n",
            "/title/tt1950186/?pf_rd_m=A2FGELUUNOQJNL&pf_rd_p=1a264172-ae11-42e4-8ef7-7fed1973bb8f&pf_rd_r=8G01TZAYK73D0K148WDQ&pf_rd_s=center-1&pf_rd_t=15506&pf_rd_i=top&ref_=chttp_tt_210\n",
            "/title/tt1950186/?pf_rd_m=A2FGELUUNOQJNL&pf_rd_p=1a264172-ae11-42e4-8ef7-7fed1973bb8f&pf_rd_r=8G01TZAYK73D0K148WDQ&pf_rd_s=center-1&pf_rd_t=15506&pf_rd_i=top&ref_=chttp_tt_210\n",
            "/title/tt0075148/?pf_rd_m=A2FGELUUNOQJNL&pf_rd_p=1a264172-ae11-42e4-8ef7-7fed1973bb8f&pf_rd_r=8G01TZAYK73D0K148WDQ&pf_rd_s=center-1&pf_rd_t=15506&pf_rd_i=top&ref_=chttp_tt_211\n",
            "/title/tt0075148/?pf_rd_m=A2FGELUUNOQJNL&pf_rd_p=1a264172-ae11-42e4-8ef7-7fed1973bb8f&pf_rd_r=8G01TZAYK73D0K148WDQ&pf_rd_s=center-1&pf_rd_t=15506&pf_rd_i=top&ref_=chttp_tt_211\n",
            "/title/tt0091763/?pf_rd_m=A2FGELUUNOQJNL&pf_rd_p=1a264172-ae11-42e4-8ef7-7fed1973bb8f&pf_rd_r=8G01TZAYK73D0K148WDQ&pf_rd_s=center-1&pf_rd_t=15506&pf_rd_i=top&ref_=chttp_tt_212\n",
            "/title/tt0091763/?pf_rd_m=A2FGELUUNOQJNL&pf_rd_p=1a264172-ae11-42e4-8ef7-7fed1973bb8f&pf_rd_r=8G01TZAYK73D0K148WDQ&pf_rd_s=center-1&pf_rd_t=15506&pf_rd_i=top&ref_=chttp_tt_212\n",
            "/title/tt1895587/?pf_rd_m=A2FGELUUNOQJNL&pf_rd_p=1a264172-ae11-42e4-8ef7-7fed1973bb8f&pf_rd_r=8G01TZAYK73D0K148WDQ&pf_rd_s=center-1&pf_rd_t=15506&pf_rd_i=top&ref_=chttp_tt_213\n",
            "/title/tt1895587/?pf_rd_m=A2FGELUUNOQJNL&pf_rd_p=1a264172-ae11-42e4-8ef7-7fed1973bb8f&pf_rd_r=8G01TZAYK73D0K148WDQ&pf_rd_s=center-1&pf_rd_t=15506&pf_rd_i=top&ref_=chttp_tt_213\n",
            "/title/tt0088247/?pf_rd_m=A2FGELUUNOQJNL&pf_rd_p=1a264172-ae11-42e4-8ef7-7fed1973bb8f&pf_rd_r=8G01TZAYK73D0K148WDQ&pf_rd_s=center-1&pf_rd_t=15506&pf_rd_i=top&ref_=chttp_tt_214\n",
            "/title/tt0088247/?pf_rd_m=A2FGELUUNOQJNL&pf_rd_p=1a264172-ae11-42e4-8ef7-7fed1973bb8f&pf_rd_r=8G01TZAYK73D0K148WDQ&pf_rd_s=center-1&pf_rd_t=15506&pf_rd_i=top&ref_=chttp_tt_214\n",
            "/title/tt0382932/?pf_rd_m=A2FGELUUNOQJNL&pf_rd_p=1a264172-ae11-42e4-8ef7-7fed1973bb8f&pf_rd_r=8G01TZAYK73D0K148WDQ&pf_rd_s=center-1&pf_rd_t=15506&pf_rd_i=top&ref_=chttp_tt_215\n",
            "/title/tt0382932/?pf_rd_m=A2FGELUUNOQJNL&pf_rd_p=1a264172-ae11-42e4-8ef7-7fed1973bb8f&pf_rd_r=8G01TZAYK73D0K148WDQ&pf_rd_s=center-1&pf_rd_t=15506&pf_rd_i=top&ref_=chttp_tt_215\n",
            "/title/tt0092005/?pf_rd_m=A2FGELUUNOQJNL&pf_rd_p=1a264172-ae11-42e4-8ef7-7fed1973bb8f&pf_rd_r=8G01TZAYK73D0K148WDQ&pf_rd_s=center-1&pf_rd_t=15506&pf_rd_i=top&ref_=chttp_tt_216\n",
            "/title/tt0092005/?pf_rd_m=A2FGELUUNOQJNL&pf_rd_p=1a264172-ae11-42e4-8ef7-7fed1973bb8f&pf_rd_r=8G01TZAYK73D0K148WDQ&pf_rd_s=center-1&pf_rd_t=15506&pf_rd_i=top&ref_=chttp_tt_216\n",
            "/title/tt3315342/?pf_rd_m=A2FGELUUNOQJNL&pf_rd_p=1a264172-ae11-42e4-8ef7-7fed1973bb8f&pf_rd_r=8G01TZAYK73D0K148WDQ&pf_rd_s=center-1&pf_rd_t=15506&pf_rd_i=top&ref_=chttp_tt_217\n",
            "/title/tt3315342/?pf_rd_m=A2FGELUUNOQJNL&pf_rd_p=1a264172-ae11-42e4-8ef7-7fed1973bb8f&pf_rd_r=8G01TZAYK73D0K148WDQ&pf_rd_s=center-1&pf_rd_t=15506&pf_rd_i=top&ref_=chttp_tt_217\n",
            "/title/tt1979320/?pf_rd_m=A2FGELUUNOQJNL&pf_rd_p=1a264172-ae11-42e4-8ef7-7fed1973bb8f&pf_rd_r=8G01TZAYK73D0K148WDQ&pf_rd_s=center-1&pf_rd_t=15506&pf_rd_i=top&ref_=chttp_tt_218\n",
            "/title/tt1979320/?pf_rd_m=A2FGELUUNOQJNL&pf_rd_p=1a264172-ae11-42e4-8ef7-7fed1973bb8f&pf_rd_r=8G01TZAYK73D0K148WDQ&pf_rd_s=center-1&pf_rd_t=15506&pf_rd_i=top&ref_=chttp_tt_218\n",
            "/title/tt0074958/?pf_rd_m=A2FGELUUNOQJNL&pf_rd_p=1a264172-ae11-42e4-8ef7-7fed1973bb8f&pf_rd_r=8G01TZAYK73D0K148WDQ&pf_rd_s=center-1&pf_rd_t=15506&pf_rd_i=top&ref_=chttp_tt_219\n",
            "/title/tt0074958/?pf_rd_m=A2FGELUUNOQJNL&pf_rd_p=1a264172-ae11-42e4-8ef7-7fed1973bb8f&pf_rd_r=8G01TZAYK73D0K148WDQ&pf_rd_s=center-1&pf_rd_t=15506&pf_rd_i=top&ref_=chttp_tt_219\n",
            "/title/tt0048473/?pf_rd_m=A2FGELUUNOQJNL&pf_rd_p=1a264172-ae11-42e4-8ef7-7fed1973bb8f&pf_rd_r=8G01TZAYK73D0K148WDQ&pf_rd_s=center-1&pf_rd_t=15506&pf_rd_i=top&ref_=chttp_tt_220\n",
            "/title/tt0048473/?pf_rd_m=A2FGELUUNOQJNL&pf_rd_p=1a264172-ae11-42e4-8ef7-7fed1973bb8f&pf_rd_r=8G01TZAYK73D0K148WDQ&pf_rd_s=center-1&pf_rd_t=15506&pf_rd_i=top&ref_=chttp_tt_220\n",
            "/title/tt0758758/?pf_rd_m=A2FGELUUNOQJNL&pf_rd_p=1a264172-ae11-42e4-8ef7-7fed1973bb8f&pf_rd_r=8G01TZAYK73D0K148WDQ&pf_rd_s=center-1&pf_rd_t=15506&pf_rd_i=top&ref_=chttp_tt_221\n",
            "/title/tt0758758/?pf_rd_m=A2FGELUUNOQJNL&pf_rd_p=1a264172-ae11-42e4-8ef7-7fed1973bb8f&pf_rd_r=8G01TZAYK73D0K148WDQ&pf_rd_s=center-1&pf_rd_t=15506&pf_rd_i=top&ref_=chttp_tt_221\n",
            "/title/tt0032138/?pf_rd_m=A2FGELUUNOQJNL&pf_rd_p=1a264172-ae11-42e4-8ef7-7fed1973bb8f&pf_rd_r=8G01TZAYK73D0K148WDQ&pf_rd_s=center-1&pf_rd_t=15506&pf_rd_i=top&ref_=chttp_tt_222\n",
            "/title/tt0032138/?pf_rd_m=A2FGELUUNOQJNL&pf_rd_p=1a264172-ae11-42e4-8ef7-7fed1973bb8f&pf_rd_r=8G01TZAYK73D0K148WDQ&pf_rd_s=center-1&pf_rd_t=15506&pf_rd_i=top&ref_=chttp_tt_222\n",
            "/title/tt0381681/?pf_rd_m=A2FGELUUNOQJNL&pf_rd_p=1a264172-ae11-42e4-8ef7-7fed1973bb8f&pf_rd_r=8G01TZAYK73D0K148WDQ&pf_rd_s=center-1&pf_rd_t=15506&pf_rd_i=top&ref_=chttp_tt_223\n",
            "/title/tt0381681/?pf_rd_m=A2FGELUUNOQJNL&pf_rd_p=1a264172-ae11-42e4-8ef7-7fed1973bb8f&pf_rd_r=8G01TZAYK73D0K148WDQ&pf_rd_s=center-1&pf_rd_t=15506&pf_rd_i=top&ref_=chttp_tt_223\n",
            "/title/tt0107048/?pf_rd_m=A2FGELUUNOQJNL&pf_rd_p=1a264172-ae11-42e4-8ef7-7fed1973bb8f&pf_rd_r=8G01TZAYK73D0K148WDQ&pf_rd_s=center-1&pf_rd_t=15506&pf_rd_i=top&ref_=chttp_tt_224\n",
            "/title/tt0107048/?pf_rd_m=A2FGELUUNOQJNL&pf_rd_p=1a264172-ae11-42e4-8ef7-7fed1973bb8f&pf_rd_r=8G01TZAYK73D0K148WDQ&pf_rd_s=center-1&pf_rd_t=15506&pf_rd_i=top&ref_=chttp_tt_224\n",
            "/title/tt0036868/?pf_rd_m=A2FGELUUNOQJNL&pf_rd_p=1a264172-ae11-42e4-8ef7-7fed1973bb8f&pf_rd_r=8G01TZAYK73D0K148WDQ&pf_rd_s=center-1&pf_rd_t=15506&pf_rd_i=top&ref_=chttp_tt_225\n",
            "/title/tt0036868/?pf_rd_m=A2FGELUUNOQJNL&pf_rd_p=1a264172-ae11-42e4-8ef7-7fed1973bb8f&pf_rd_r=8G01TZAYK73D0K148WDQ&pf_rd_s=center-1&pf_rd_t=15506&pf_rd_i=top&ref_=chttp_tt_225\n",
            "/title/tt0070047/?pf_rd_m=A2FGELUUNOQJNL&pf_rd_p=1a264172-ae11-42e4-8ef7-7fed1973bb8f&pf_rd_r=8G01TZAYK73D0K148WDQ&pf_rd_s=center-1&pf_rd_t=15506&pf_rd_i=top&ref_=chttp_tt_226\n",
            "/title/tt0070047/?pf_rd_m=A2FGELUUNOQJNL&pf_rd_p=1a264172-ae11-42e4-8ef7-7fed1973bb8f&pf_rd_r=8G01TZAYK73D0K148WDQ&pf_rd_s=center-1&pf_rd_t=15506&pf_rd_i=top&ref_=chttp_tt_226\n",
            "/title/tt0035446/?pf_rd_m=A2FGELUUNOQJNL&pf_rd_p=1a264172-ae11-42e4-8ef7-7fed1973bb8f&pf_rd_r=8G01TZAYK73D0K148WDQ&pf_rd_s=center-1&pf_rd_t=15506&pf_rd_i=top&ref_=chttp_tt_227\n",
            "/title/tt0035446/?pf_rd_m=A2FGELUUNOQJNL&pf_rd_p=1a264172-ae11-42e4-8ef7-7fed1973bb8f&pf_rd_r=8G01TZAYK73D0K148WDQ&pf_rd_s=center-1&pf_rd_t=15506&pf_rd_i=top&ref_=chttp_tt_227\n",
            "/title/tt0317705/?pf_rd_m=A2FGELUUNOQJNL&pf_rd_p=1a264172-ae11-42e4-8ef7-7fed1973bb8f&pf_rd_r=8G01TZAYK73D0K148WDQ&pf_rd_s=center-1&pf_rd_t=15506&pf_rd_i=top&ref_=chttp_tt_228\n",
            "/title/tt0317705/?pf_rd_m=A2FGELUUNOQJNL&pf_rd_p=1a264172-ae11-42e4-8ef7-7fed1973bb8f&pf_rd_r=8G01TZAYK73D0K148WDQ&pf_rd_s=center-1&pf_rd_t=15506&pf_rd_i=top&ref_=chttp_tt_228\n",
            "/title/tt0058946/?pf_rd_m=A2FGELUUNOQJNL&pf_rd_p=1a264172-ae11-42e4-8ef7-7fed1973bb8f&pf_rd_r=8G01TZAYK73D0K148WDQ&pf_rd_s=center-1&pf_rd_t=15506&pf_rd_i=top&ref_=chttp_tt_229\n",
            "/title/tt0058946/?pf_rd_m=A2FGELUUNOQJNL&pf_rd_p=1a264172-ae11-42e4-8ef7-7fed1973bb8f&pf_rd_r=8G01TZAYK73D0K148WDQ&pf_rd_s=center-1&pf_rd_t=15506&pf_rd_i=top&ref_=chttp_tt_229\n",
            "/title/tt0113247/?pf_rd_m=A2FGELUUNOQJNL&pf_rd_p=1a264172-ae11-42e4-8ef7-7fed1973bb8f&pf_rd_r=8G01TZAYK73D0K148WDQ&pf_rd_s=center-1&pf_rd_t=15506&pf_rd_i=top&ref_=chttp_tt_230\n",
            "/title/tt0113247/?pf_rd_m=A2FGELUUNOQJNL&pf_rd_p=1a264172-ae11-42e4-8ef7-7fed1973bb8f&pf_rd_r=8G01TZAYK73D0K148WDQ&pf_rd_s=center-1&pf_rd_t=15506&pf_rd_i=top&ref_=chttp_tt_230\n",
            "/title/tt1028532/?pf_rd_m=A2FGELUUNOQJNL&pf_rd_p=1a264172-ae11-42e4-8ef7-7fed1973bb8f&pf_rd_r=8G01TZAYK73D0K148WDQ&pf_rd_s=center-1&pf_rd_t=15506&pf_rd_i=top&ref_=chttp_tt_231\n",
            "/title/tt1028532/?pf_rd_m=A2FGELUUNOQJNL&pf_rd_p=1a264172-ae11-42e4-8ef7-7fed1973bb8f&pf_rd_r=8G01TZAYK73D0K148WDQ&pf_rd_s=center-1&pf_rd_t=15506&pf_rd_i=top&ref_=chttp_tt_231\n",
            "/title/tt0476735/?pf_rd_m=A2FGELUUNOQJNL&pf_rd_p=1a264172-ae11-42e4-8ef7-7fed1973bb8f&pf_rd_r=8G01TZAYK73D0K148WDQ&pf_rd_s=center-1&pf_rd_t=15506&pf_rd_i=top&ref_=chttp_tt_232\n",
            "/title/tt0476735/?pf_rd_m=A2FGELUUNOQJNL&pf_rd_p=1a264172-ae11-42e4-8ef7-7fed1973bb8f&pf_rd_r=8G01TZAYK73D0K148WDQ&pf_rd_s=center-1&pf_rd_t=15506&pf_rd_i=top&ref_=chttp_tt_232\n",
            "/title/tt15097216/?pf_rd_m=A2FGELUUNOQJNL&pf_rd_p=1a264172-ae11-42e4-8ef7-7fed1973bb8f&pf_rd_r=8G01TZAYK73D0K148WDQ&pf_rd_s=center-1&pf_rd_t=15506&pf_rd_i=top&ref_=chttp_tt_233\n",
            "/title/tt15097216/?pf_rd_m=A2FGELUUNOQJNL&pf_rd_p=1a264172-ae11-42e4-8ef7-7fed1973bb8f&pf_rd_r=8G01TZAYK73D0K148WDQ&pf_rd_s=center-1&pf_rd_t=15506&pf_rd_i=top&ref_=chttp_tt_233\n",
            "/title/tt0325980/?pf_rd_m=A2FGELUUNOQJNL&pf_rd_p=1a264172-ae11-42e4-8ef7-7fed1973bb8f&pf_rd_r=8G01TZAYK73D0K148WDQ&pf_rd_s=center-1&pf_rd_t=15506&pf_rd_i=top&ref_=chttp_tt_234\n",
            "/title/tt0325980/?pf_rd_m=A2FGELUUNOQJNL&pf_rd_p=1a264172-ae11-42e4-8ef7-7fed1973bb8f&pf_rd_r=8G01TZAYK73D0K148WDQ&pf_rd_s=center-1&pf_rd_t=15506&pf_rd_i=top&ref_=chttp_tt_234\n",
            "/title/tt0032551/?pf_rd_m=A2FGELUUNOQJNL&pf_rd_p=1a264172-ae11-42e4-8ef7-7fed1973bb8f&pf_rd_r=8G01TZAYK73D0K148WDQ&pf_rd_s=center-1&pf_rd_t=15506&pf_rd_i=top&ref_=chttp_tt_235\n",
            "/title/tt0032551/?pf_rd_m=A2FGELUUNOQJNL&pf_rd_p=1a264172-ae11-42e4-8ef7-7fed1973bb8f&pf_rd_r=8G01TZAYK73D0K148WDQ&pf_rd_s=center-1&pf_rd_t=15506&pf_rd_i=top&ref_=chttp_tt_235\n",
            "/title/tt0245712/?pf_rd_m=A2FGELUUNOQJNL&pf_rd_p=1a264172-ae11-42e4-8ef7-7fed1973bb8f&pf_rd_r=8G01TZAYK73D0K148WDQ&pf_rd_s=center-1&pf_rd_t=15506&pf_rd_i=top&ref_=chttp_tt_236\n",
            "/title/tt0245712/?pf_rd_m=A2FGELUUNOQJNL&pf_rd_p=1a264172-ae11-42e4-8ef7-7fed1973bb8f&pf_rd_r=8G01TZAYK73D0K148WDQ&pf_rd_s=center-1&pf_rd_t=15506&pf_rd_i=top&ref_=chttp_tt_236\n",
            "/title/tt0032976/?pf_rd_m=A2FGELUUNOQJNL&pf_rd_p=1a264172-ae11-42e4-8ef7-7fed1973bb8f&pf_rd_r=8G01TZAYK73D0K148WDQ&pf_rd_s=center-1&pf_rd_t=15506&pf_rd_i=top&ref_=chttp_tt_237\n",
            "/title/tt0032976/?pf_rd_m=A2FGELUUNOQJNL&pf_rd_p=1a264172-ae11-42e4-8ef7-7fed1973bb8f&pf_rd_r=8G01TZAYK73D0K148WDQ&pf_rd_s=center-1&pf_rd_t=15506&pf_rd_i=top&ref_=chttp_tt_237\n",
            "/title/tt0061512/?pf_rd_m=A2FGELUUNOQJNL&pf_rd_p=1a264172-ae11-42e4-8ef7-7fed1973bb8f&pf_rd_r=8G01TZAYK73D0K148WDQ&pf_rd_s=center-1&pf_rd_t=15506&pf_rd_i=top&ref_=chttp_tt_238\n",
            "/title/tt0061512/?pf_rd_m=A2FGELUUNOQJNL&pf_rd_p=1a264172-ae11-42e4-8ef7-7fed1973bb8f&pf_rd_r=8G01TZAYK73D0K148WDQ&pf_rd_s=center-1&pf_rd_t=15506&pf_rd_i=top&ref_=chttp_tt_238\n",
            "/title/tt4016934/?pf_rd_m=A2FGELUUNOQJNL&pf_rd_p=1a264172-ae11-42e4-8ef7-7fed1973bb8f&pf_rd_r=8G01TZAYK73D0K148WDQ&pf_rd_s=center-1&pf_rd_t=15506&pf_rd_i=top&ref_=chttp_tt_239\n",
            "/title/tt4016934/?pf_rd_m=A2FGELUUNOQJNL&pf_rd_p=1a264172-ae11-42e4-8ef7-7fed1973bb8f&pf_rd_r=8G01TZAYK73D0K148WDQ&pf_rd_s=center-1&pf_rd_t=15506&pf_rd_i=top&ref_=chttp_tt_239\n",
            "/title/tt0053198/?pf_rd_m=A2FGELUUNOQJNL&pf_rd_p=1a264172-ae11-42e4-8ef7-7fed1973bb8f&pf_rd_r=8G01TZAYK73D0K148WDQ&pf_rd_s=center-1&pf_rd_t=15506&pf_rd_i=top&ref_=chttp_tt_240\n",
            "/title/tt0053198/?pf_rd_m=A2FGELUUNOQJNL&pf_rd_p=1a264172-ae11-42e4-8ef7-7fed1973bb8f&pf_rd_r=8G01TZAYK73D0K148WDQ&pf_rd_s=center-1&pf_rd_t=15506&pf_rd_i=top&ref_=chttp_tt_240\n",
            "/title/tt0059742/?pf_rd_m=A2FGELUUNOQJNL&pf_rd_p=1a264172-ae11-42e4-8ef7-7fed1973bb8f&pf_rd_r=8G01TZAYK73D0K148WDQ&pf_rd_s=center-1&pf_rd_t=15506&pf_rd_i=top&ref_=chttp_tt_241\n",
            "/title/tt0059742/?pf_rd_m=A2FGELUUNOQJNL&pf_rd_p=1a264172-ae11-42e4-8ef7-7fed1973bb8f&pf_rd_r=8G01TZAYK73D0K148WDQ&pf_rd_s=center-1&pf_rd_t=15506&pf_rd_i=top&ref_=chttp_tt_241\n",
            "/title/tt0025316/?pf_rd_m=A2FGELUUNOQJNL&pf_rd_p=1a264172-ae11-42e4-8ef7-7fed1973bb8f&pf_rd_r=8G01TZAYK73D0K148WDQ&pf_rd_s=center-1&pf_rd_t=15506&pf_rd_i=top&ref_=chttp_tt_242\n",
            "/title/tt0025316/?pf_rd_m=A2FGELUUNOQJNL&pf_rd_p=1a264172-ae11-42e4-8ef7-7fed1973bb8f&pf_rd_r=8G01TZAYK73D0K148WDQ&pf_rd_s=center-1&pf_rd_t=15506&pf_rd_i=top&ref_=chttp_tt_242\n",
            "/title/tt0060827/?pf_rd_m=A2FGELUUNOQJNL&pf_rd_p=1a264172-ae11-42e4-8ef7-7fed1973bb8f&pf_rd_r=8G01TZAYK73D0K148WDQ&pf_rd_s=center-1&pf_rd_t=15506&pf_rd_i=top&ref_=chttp_tt_243\n",
            "/title/tt0060827/?pf_rd_m=A2FGELUUNOQJNL&pf_rd_p=1a264172-ae11-42e4-8ef7-7fed1973bb8f&pf_rd_r=8G01TZAYK73D0K148WDQ&pf_rd_s=center-1&pf_rd_t=15506&pf_rd_i=top&ref_=chttp_tt_243\n",
            "/title/tt0079470/?pf_rd_m=A2FGELUUNOQJNL&pf_rd_p=1a264172-ae11-42e4-8ef7-7fed1973bb8f&pf_rd_r=8G01TZAYK73D0K148WDQ&pf_rd_s=center-1&pf_rd_t=15506&pf_rd_i=top&ref_=chttp_tt_244\n",
            "/title/tt0079470/?pf_rd_m=A2FGELUUNOQJNL&pf_rd_p=1a264172-ae11-42e4-8ef7-7fed1973bb8f&pf_rd_r=8G01TZAYK73D0K148WDQ&pf_rd_s=center-1&pf_rd_t=15506&pf_rd_i=top&ref_=chttp_tt_244\n",
            "/title/tt0071411/?pf_rd_m=A2FGELUUNOQJNL&pf_rd_p=1a264172-ae11-42e4-8ef7-7fed1973bb8f&pf_rd_r=8G01TZAYK73D0K148WDQ&pf_rd_s=center-1&pf_rd_t=15506&pf_rd_i=top&ref_=chttp_tt_245\n",
            "/title/tt0071411/?pf_rd_m=A2FGELUUNOQJNL&pf_rd_p=1a264172-ae11-42e4-8ef7-7fed1973bb8f&pf_rd_r=8G01TZAYK73D0K148WDQ&pf_rd_s=center-1&pf_rd_t=15506&pf_rd_i=top&ref_=chttp_tt_245\n",
            "/title/tt0129167/?pf_rd_m=A2FGELUUNOQJNL&pf_rd_p=1a264172-ae11-42e4-8ef7-7fed1973bb8f&pf_rd_r=8G01TZAYK73D0K148WDQ&pf_rd_s=center-1&pf_rd_t=15506&pf_rd_i=top&ref_=chttp_tt_246\n",
            "/title/tt0129167/?pf_rd_m=A2FGELUUNOQJNL&pf_rd_p=1a264172-ae11-42e4-8ef7-7fed1973bb8f&pf_rd_r=8G01TZAYK73D0K148WDQ&pf_rd_s=center-1&pf_rd_t=15506&pf_rd_i=top&ref_=chttp_tt_246\n",
            "/title/tt1454029/?pf_rd_m=A2FGELUUNOQJNL&pf_rd_p=1a264172-ae11-42e4-8ef7-7fed1973bb8f&pf_rd_r=8G01TZAYK73D0K148WDQ&pf_rd_s=center-1&pf_rd_t=15506&pf_rd_i=top&ref_=chttp_tt_247\n",
            "/title/tt1454029/?pf_rd_m=A2FGELUUNOQJNL&pf_rd_p=1a264172-ae11-42e4-8ef7-7fed1973bb8f&pf_rd_r=8G01TZAYK73D0K148WDQ&pf_rd_s=center-1&pf_rd_t=15506&pf_rd_i=top&ref_=chttp_tt_247\n",
            "/title/tt0103639/?pf_rd_m=A2FGELUUNOQJNL&pf_rd_p=1a264172-ae11-42e4-8ef7-7fed1973bb8f&pf_rd_r=8G01TZAYK73D0K148WDQ&pf_rd_s=center-1&pf_rd_t=15506&pf_rd_i=top&ref_=chttp_tt_248\n",
            "/title/tt0103639/?pf_rd_m=A2FGELUUNOQJNL&pf_rd_p=1a264172-ae11-42e4-8ef7-7fed1973bb8f&pf_rd_r=8G01TZAYK73D0K148WDQ&pf_rd_s=center-1&pf_rd_t=15506&pf_rd_i=top&ref_=chttp_tt_248\n",
            "/title/tt0083987/?pf_rd_m=A2FGELUUNOQJNL&pf_rd_p=1a264172-ae11-42e4-8ef7-7fed1973bb8f&pf_rd_r=8G01TZAYK73D0K148WDQ&pf_rd_s=center-1&pf_rd_t=15506&pf_rd_i=top&ref_=chttp_tt_249\n",
            "/title/tt0083987/?pf_rd_m=A2FGELUUNOQJNL&pf_rd_p=1a264172-ae11-42e4-8ef7-7fed1973bb8f&pf_rd_r=8G01TZAYK73D0K148WDQ&pf_rd_s=center-1&pf_rd_t=15506&pf_rd_i=top&ref_=chttp_tt_249\n",
            "/title/tt0048021/?pf_rd_m=A2FGELUUNOQJNL&pf_rd_p=1a264172-ae11-42e4-8ef7-7fed1973bb8f&pf_rd_r=8G01TZAYK73D0K148WDQ&pf_rd_s=center-1&pf_rd_t=15506&pf_rd_i=top&ref_=chttp_tt_250\n",
            "/title/tt0048021/?pf_rd_m=A2FGELUUNOQJNL&pf_rd_p=1a264172-ae11-42e4-8ef7-7fed1973bb8f&pf_rd_r=8G01TZAYK73D0K148WDQ&pf_rd_s=center-1&pf_rd_t=15506&pf_rd_i=top&ref_=chttp_tt_250\n",
            "https://help.imdb.com/article/imdb/featured-content/why-doesn-t-a-title-with-the-average-user-vote-of-9-4-appear-in-your-top-250-movies-or-tv-list/GTU67Q5QQ8W53RJT?pf_rd_m=A2FGELUUNOQJNL&pf_rd_p=1a264172-ae11-42e4-8ef7-7fed1973bb8f&pf_rd_r=8G01TZAYK73D0K148WDQ&pf_rd_s=center-1&pf_rd_t=15506&pf_rd_i=top&ref_=cons_chttp_learnmore\n",
            "None\n",
            "None\n",
            "/chart/boxoffice?pf_rd_m=A2FGELUUNOQJNL&pf_rd_p=470df400-70d9-4f35-bb05-8646a1195842&pf_rd_r=8G01TZAYK73D0K148WDQ&pf_rd_s=right-4&pf_rd_t=15506&pf_rd_i=top&ref_=chttp_ql_1\n",
            "/chart/moviemeter?pf_rd_m=A2FGELUUNOQJNL&pf_rd_p=470df400-70d9-4f35-bb05-8646a1195842&pf_rd_r=8G01TZAYK73D0K148WDQ&pf_rd_s=right-4&pf_rd_t=15506&pf_rd_i=top&ref_=chttp_ql_2\n",
            "/chart/top?pf_rd_m=A2FGELUUNOQJNL&pf_rd_p=470df400-70d9-4f35-bb05-8646a1195842&pf_rd_r=8G01TZAYK73D0K148WDQ&pf_rd_s=right-4&pf_rd_t=15506&pf_rd_i=top&ref_=chttp_ql_3\n",
            "/chart/top-english-movies?pf_rd_m=A2FGELUUNOQJNL&pf_rd_p=470df400-70d9-4f35-bb05-8646a1195842&pf_rd_r=8G01TZAYK73D0K148WDQ&pf_rd_s=right-4&pf_rd_t=15506&pf_rd_i=top&ref_=chttp_ql_4\n",
            "/chart/tvmeter?pf_rd_m=A2FGELUUNOQJNL&pf_rd_p=470df400-70d9-4f35-bb05-8646a1195842&pf_rd_r=8G01TZAYK73D0K148WDQ&pf_rd_s=right-4&pf_rd_t=15506&pf_rd_i=top&ref_=chttp_ql_5\n",
            "/chart/toptv?pf_rd_m=A2FGELUUNOQJNL&pf_rd_p=470df400-70d9-4f35-bb05-8646a1195842&pf_rd_r=8G01TZAYK73D0K148WDQ&pf_rd_s=right-4&pf_rd_t=15506&pf_rd_i=top&ref_=chttp_ql_6\n",
            "/india/top-rated-indian-movies?pf_rd_m=A2FGELUUNOQJNL&pf_rd_p=470df400-70d9-4f35-bb05-8646a1195842&pf_rd_r=8G01TZAYK73D0K148WDQ&pf_rd_s=right-4&pf_rd_t=15506&pf_rd_i=top&ref_=chttp_ql_7\n",
            "/chart/bottom?pf_rd_m=A2FGELUUNOQJNL&pf_rd_p=470df400-70d9-4f35-bb05-8646a1195842&pf_rd_r=8G01TZAYK73D0K148WDQ&pf_rd_s=right-4&pf_rd_t=15506&pf_rd_i=top&ref_=chttp_ql_8\n",
            "None\n",
            "/search/title?genres=action&sort=user_rating,desc&title_type=feature&num_votes=25000,&pf_rd_m=A2FGELUUNOQJNL&pf_rd_p=f11158cc-b50b-4c4d-b0a2-40b32863395b&pf_rd_r=8G01TZAYK73D0K148WDQ&pf_rd_s=right-6&pf_rd_t=15506&pf_rd_i=top&ref_=chttp_gnr_1\n",
            "/search/title?genres=adventure&sort=user_rating,desc&title_type=feature&num_votes=25000,&pf_rd_m=A2FGELUUNOQJNL&pf_rd_p=f11158cc-b50b-4c4d-b0a2-40b32863395b&pf_rd_r=8G01TZAYK73D0K148WDQ&pf_rd_s=right-6&pf_rd_t=15506&pf_rd_i=top&ref_=chttp_gnr_2\n",
            "/search/title?genres=animation&sort=user_rating,desc&title_type=feature&num_votes=25000,&pf_rd_m=A2FGELUUNOQJNL&pf_rd_p=f11158cc-b50b-4c4d-b0a2-40b32863395b&pf_rd_r=8G01TZAYK73D0K148WDQ&pf_rd_s=right-6&pf_rd_t=15506&pf_rd_i=top&ref_=chttp_gnr_3\n",
            "/search/title?genres=biography&sort=user_rating,desc&title_type=feature&num_votes=25000,&pf_rd_m=A2FGELUUNOQJNL&pf_rd_p=f11158cc-b50b-4c4d-b0a2-40b32863395b&pf_rd_r=8G01TZAYK73D0K148WDQ&pf_rd_s=right-6&pf_rd_t=15506&pf_rd_i=top&ref_=chttp_gnr_4\n",
            "/search/title?genres=comedy&sort=user_rating,desc&title_type=feature&num_votes=25000,&pf_rd_m=A2FGELUUNOQJNL&pf_rd_p=f11158cc-b50b-4c4d-b0a2-40b32863395b&pf_rd_r=8G01TZAYK73D0K148WDQ&pf_rd_s=right-6&pf_rd_t=15506&pf_rd_i=top&ref_=chttp_gnr_5\n",
            "/search/title?genres=crime&sort=user_rating,desc&title_type=feature&num_votes=25000,&pf_rd_m=A2FGELUUNOQJNL&pf_rd_p=f11158cc-b50b-4c4d-b0a2-40b32863395b&pf_rd_r=8G01TZAYK73D0K148WDQ&pf_rd_s=right-6&pf_rd_t=15506&pf_rd_i=top&ref_=chttp_gnr_6\n",
            "/search/title?genres=drama&sort=user_rating,desc&title_type=feature&num_votes=25000,&pf_rd_m=A2FGELUUNOQJNL&pf_rd_p=f11158cc-b50b-4c4d-b0a2-40b32863395b&pf_rd_r=8G01TZAYK73D0K148WDQ&pf_rd_s=right-6&pf_rd_t=15506&pf_rd_i=top&ref_=chttp_gnr_7\n",
            "/search/title?genres=family&sort=user_rating,desc&title_type=feature&num_votes=25000,&pf_rd_m=A2FGELUUNOQJNL&pf_rd_p=f11158cc-b50b-4c4d-b0a2-40b32863395b&pf_rd_r=8G01TZAYK73D0K148WDQ&pf_rd_s=right-6&pf_rd_t=15506&pf_rd_i=top&ref_=chttp_gnr_8\n",
            "/search/title?genres=fantasy&sort=user_rating,desc&title_type=feature&num_votes=25000,&pf_rd_m=A2FGELUUNOQJNL&pf_rd_p=f11158cc-b50b-4c4d-b0a2-40b32863395b&pf_rd_r=8G01TZAYK73D0K148WDQ&pf_rd_s=right-6&pf_rd_t=15506&pf_rd_i=top&ref_=chttp_gnr_9\n",
            "/search/title?genres=film_noir&sort=user_rating,desc&title_type=feature&num_votes=25000,&pf_rd_m=A2FGELUUNOQJNL&pf_rd_p=f11158cc-b50b-4c4d-b0a2-40b32863395b&pf_rd_r=8G01TZAYK73D0K148WDQ&pf_rd_s=right-6&pf_rd_t=15506&pf_rd_i=top&ref_=chttp_gnr_10\n",
            "/search/title?genres=history&sort=user_rating,desc&title_type=feature&num_votes=25000,&pf_rd_m=A2FGELUUNOQJNL&pf_rd_p=f11158cc-b50b-4c4d-b0a2-40b32863395b&pf_rd_r=8G01TZAYK73D0K148WDQ&pf_rd_s=right-6&pf_rd_t=15506&pf_rd_i=top&ref_=chttp_gnr_11\n",
            "/search/title?genres=horror&sort=user_rating,desc&title_type=feature&num_votes=25000,&pf_rd_m=A2FGELUUNOQJNL&pf_rd_p=f11158cc-b50b-4c4d-b0a2-40b32863395b&pf_rd_r=8G01TZAYK73D0K148WDQ&pf_rd_s=right-6&pf_rd_t=15506&pf_rd_i=top&ref_=chttp_gnr_12\n",
            "/search/title?genres=music&sort=user_rating,desc&title_type=feature&num_votes=25000,&pf_rd_m=A2FGELUUNOQJNL&pf_rd_p=f11158cc-b50b-4c4d-b0a2-40b32863395b&pf_rd_r=8G01TZAYK73D0K148WDQ&pf_rd_s=right-6&pf_rd_t=15506&pf_rd_i=top&ref_=chttp_gnr_13\n",
            "/search/title?genres=musical&sort=user_rating,desc&title_type=feature&num_votes=25000,&pf_rd_m=A2FGELUUNOQJNL&pf_rd_p=f11158cc-b50b-4c4d-b0a2-40b32863395b&pf_rd_r=8G01TZAYK73D0K148WDQ&pf_rd_s=right-6&pf_rd_t=15506&pf_rd_i=top&ref_=chttp_gnr_14\n",
            "/search/title?genres=mystery&sort=user_rating,desc&title_type=feature&num_votes=25000,&pf_rd_m=A2FGELUUNOQJNL&pf_rd_p=f11158cc-b50b-4c4d-b0a2-40b32863395b&pf_rd_r=8G01TZAYK73D0K148WDQ&pf_rd_s=right-6&pf_rd_t=15506&pf_rd_i=top&ref_=chttp_gnr_15\n",
            "/search/title?genres=romance&sort=user_rating,desc&title_type=feature&num_votes=25000,&pf_rd_m=A2FGELUUNOQJNL&pf_rd_p=f11158cc-b50b-4c4d-b0a2-40b32863395b&pf_rd_r=8G01TZAYK73D0K148WDQ&pf_rd_s=right-6&pf_rd_t=15506&pf_rd_i=top&ref_=chttp_gnr_16\n",
            "/search/title?genres=sci_fi&sort=user_rating,desc&title_type=feature&num_votes=25000,&pf_rd_m=A2FGELUUNOQJNL&pf_rd_p=f11158cc-b50b-4c4d-b0a2-40b32863395b&pf_rd_r=8G01TZAYK73D0K148WDQ&pf_rd_s=right-6&pf_rd_t=15506&pf_rd_i=top&ref_=chttp_gnr_17\n",
            "/search/title?genres=sport&sort=user_rating,desc&title_type=feature&num_votes=25000,&pf_rd_m=A2FGELUUNOQJNL&pf_rd_p=f11158cc-b50b-4c4d-b0a2-40b32863395b&pf_rd_r=8G01TZAYK73D0K148WDQ&pf_rd_s=right-6&pf_rd_t=15506&pf_rd_i=top&ref_=chttp_gnr_18\n",
            "/search/title?genres=thriller&sort=user_rating,desc&title_type=feature&num_votes=25000,&pf_rd_m=A2FGELUUNOQJNL&pf_rd_p=f11158cc-b50b-4c4d-b0a2-40b32863395b&pf_rd_r=8G01TZAYK73D0K148WDQ&pf_rd_s=right-6&pf_rd_t=15506&pf_rd_i=top&ref_=chttp_gnr_19\n",
            "/search/title?genres=war&sort=user_rating,desc&title_type=feature&num_votes=25000,&pf_rd_m=A2FGELUUNOQJNL&pf_rd_p=f11158cc-b50b-4c4d-b0a2-40b32863395b&pf_rd_r=8G01TZAYK73D0K148WDQ&pf_rd_s=right-6&pf_rd_t=15506&pf_rd_i=top&ref_=chttp_gnr_20\n",
            "/search/title?genres=western&sort=user_rating,desc&title_type=feature&num_votes=25000,&pf_rd_m=A2FGELUUNOQJNL&pf_rd_p=f11158cc-b50b-4c4d-b0a2-40b32863395b&pf_rd_r=8G01TZAYK73D0K148WDQ&pf_rd_s=right-6&pf_rd_t=15506&pf_rd_i=top&ref_=chttp_gnr_21\n",
            "#\n",
            "https://slyb.app.link/SKdyQ6A449\n",
            "https://www.tiktok.com/@imdb\n",
            "https://instagram.com/imdb\n",
            "https://twitter.com/imdb\n",
            "https://youtube.com/imdb/\n",
            "https://facebook.com/imdb\n",
            "https://slyb.app.link/SKdyQ6A449\n",
            "https://help.imdb.com/imdb\n",
            "https://help.imdb.com/article/imdb/general-information/imdb-site-index/GNCX7BHNSPBTFALQ#so\n",
            "https://pro.imdb.com?ref_=cons_tf_pro&rf=cons_tf_pro\n",
            "https://www.boxofficemojo.com\n",
            "https://developer.imdb.com/\n",
            "https://www.imdb.com/pressroom/?ref_=ft_pr\n",
            "https://advertising.amazon.com/resources/ad-specs/imdb/\n",
            "https://www.amazon.jobs/en/teams/imdb\n",
            "/conditions?ref_=ft_cou\n",
            "/privacy?ref_=ft_pvc\n",
            "https://www.amazon.com/b/?&node=5160028011\n"
          ]
        }
      ]
    },
    {
      "cell_type": "code",
      "source": [
        "# Récupérer les tites, l'année et la position des films\n",
        "movies=[]\n",
        "for x in bs_imdb.findAll(\"td\",{\"class\":\"titleColumn\"}):\n",
        "  text=x.get_text()\n",
        "  movies.append(str(text))\n",
        "print(movies)"
      ],
      "metadata": {
        "colab": {
          "base_uri": "https://localhost:8080/"
        },
        "id": "SftY6yEXiaWR",
        "outputId": "0c3c3959-dfe0-42c0-c4e0-08fda0697963"
      },
      "execution_count": 7,
      "outputs": [
        {
          "output_type": "stream",
          "name": "stdout",
          "text": [
            "['\\n      1.\\n      Les Évadés\\n(1994)\\n', '\\n      2.\\n      Le Parrain\\n(1972)\\n', '\\n      3.\\n      The Dark Knight : Le Chevalier noir\\n(2008)\\n', '\\n      4.\\n      Le Parrain, 2ᵉ partie\\n(1974)\\n', '\\n      5.\\n      12 Hommes en colère\\n(1957)\\n', '\\n      6.\\n      La liste de Schindler\\n(1993)\\n', '\\n      7.\\n      Le Seigneur des anneaux : Le Retour du roi\\n(2003)\\n', '\\n      8.\\n      Pulp Fiction\\n(1994)\\n', \"\\n      9.\\n      Le Seigneur des anneaux : La Communauté de l'anneau\\n(2001)\\n\", '\\n      10.\\n      Le Bon, la brute, le truand\\n(1966)\\n', '\\n      11.\\n      Forrest Gump\\n(1994)\\n', '\\n      12.\\n      Fight Club\\n(1999)\\n', '\\n      13.\\n      Le Seigneur des anneaux : Les Deux Tours\\n(2002)\\n', '\\n      14.\\n      Inception\\n(2010)\\n', \"\\n      15.\\n      L'Empire contre-attaque\\n(1980)\\n\", '\\n      16.\\n      Matrix\\n(1999)\\n', '\\n      17.\\n      Les affranchis\\n(1990)\\n', \"\\n      18.\\n      Vol au-dessus d'un nid de coucou\\n(1975)\\n\", '\\n      19.\\n      Seven\\n(1995)\\n', '\\n      20.\\n      Les 7 Samouraïs\\n(1954)\\n', '\\n      21.\\n      La vie est belle\\n(1946)\\n', '\\n      22.\\n      Le Silence des agneaux\\n(1991)\\n', '\\n      23.\\n      La cité de Dieu\\n(2002)\\n', '\\n      24.\\n      Il faut sauver le soldat Ryan\\n(1998)\\n', '\\n      25.\\n      La vie est belle\\n(1997)\\n', '\\n      26.\\n      Interstellar\\n(2014)\\n', '\\n      27.\\n      La ligne verte\\n(1999)\\n', '\\n      28.\\n      La guerre des étoiles\\n(1977)\\n', '\\n      29.\\n      Terminator 2 : Le jugement dernier\\n(1991)\\n', '\\n      30.\\n      Retour vers le futur\\n(1985)\\n', '\\n      31.\\n      Le voyage de Chihiro\\n(2001)\\n', '\\n      32.\\n      Psychose\\n(1960)\\n', '\\n      33.\\n      Le pianiste\\n(2002)\\n', '\\n      34.\\n      Parasite\\n(2019)\\n', '\\n      35.\\n      Léon\\n(1994)\\n', '\\n      36.\\n      Le Roi Lion\\n(1994)\\n', '\\n      37.\\n      Gladiator\\n(2000)\\n', '\\n      38.\\n      American History X\\n(1998)\\n', '\\n      39.\\n      Les infiltrés\\n(2006)\\n', '\\n      40.\\n      Usual Suspects\\n(1995)\\n', '\\n      41.\\n      Le Prestige\\n(2006)\\n', '\\n      42.\\n      Whiplash\\n(2014)\\n', '\\n      43.\\n      Casablanca\\n(1942)\\n', '\\n      44.\\n      Harakiri\\n(1962)\\n', '\\n      45.\\n      Le tombeau des lucioles\\n(1988)\\n', '\\n      46.\\n      Intouchables\\n(2011)\\n', '\\n      47.\\n      Les temps modernes\\n(1936)\\n', \"\\n      48.\\n      Il était une fois dans l'Ouest\\n(1968)\\n\", '\\n      49.\\n      Fenêtre sur cour\\n(1954)\\n', '\\n      50.\\n      Cinéma Paradiso\\n(1988)\\n', '\\n      51.\\n      Alien - Le 8ème passager\\n(1979)\\n', '\\n      52.\\n      Les lumières de la ville\\n(1931)\\n', '\\n      53.\\n      Apocalypse Now\\n(1979)\\n', '\\n      54.\\n      Memento\\n(2000)\\n', \"\\n      55.\\n      Les Aventuriers de l'arche perdue\\n(1981)\\n\", '\\n      56.\\n      Django Unchained\\n(2012)\\n', '\\n      57.\\n      WALL·E\\n(2008)\\n', '\\n      58.\\n      La vie des autres\\n(2006)\\n', '\\n      59.\\n      Boulevard du Crépuscule\\n(1950)\\n', '\\n      60.\\n      Les sentiers de la gloire\\n(1957)\\n', '\\n      61.\\n      Shining\\n(1980)\\n', '\\n      62.\\n      Le dictateur\\n(1940)\\n', '\\n      63.\\n      Avengers: Infinity War\\n(2018)\\n', '\\n      64.\\n      Témoin à charge\\n(1957)\\n', '\\n      65.\\n      Aliens : Le Retour\\n(1986)\\n', '\\n      66.\\n      Spider-Man: New Generation\\n(2018)\\n', '\\n      67.\\n      American Beauty\\n(1999)\\n', \"\\n      68.\\n      Dr. Folamour ou : Comment j'ai appris à ne plus m'en faire et à aimer la bombe !\\n(1964)\\n\", '\\n      69.\\n      The Dark Knight Rises\\n(2012)\\n', '\\n      70.\\n      Old Boy\\n(2003)\\n', '\\n      71.\\n      Amadeus\\n(1984)\\n', '\\n      72.\\n      Inglourious Basterds\\n(2009)\\n', '\\n      73.\\n      Coco\\n(2017)\\n', '\\n      74.\\n      Joker\\n(2019)\\n', '\\n      75.\\n      Toy Story\\n(1995)\\n', '\\n      76.\\n      Braveheart\\n(1995)\\n', '\\n      77.\\n      Le Bateau\\n(1981)\\n', '\\n      78.\\n      Avengers: Endgame\\n(2019)\\n', '\\n      79.\\n      Princesse Mononoké\\n(1997)\\n', '\\n      80.\\n      Il était une fois en Amérique\\n(1984)\\n', '\\n      81.\\n      Will Hunting\\n(1997)\\n', '\\n      82.\\n      Your Name.\\n(2016)\\n', '\\n      83.\\n      Requiem for a Dream\\n(2000)\\n', '\\n      84.\\n      Chantons sous la pluie\\n(1952)\\n', '\\n      85.\\n      3 Idiots\\n(2009)\\n', '\\n      86.\\n      Toy Story 3\\n(2010)\\n', \"\\n      87.\\n      Entre le ciel et l'enfer\\n(1963)\\n\", '\\n      88.\\n      Le Retour du Jedi\\n(1983)\\n', '\\n      89.\\n      Capharnaüm\\n(2018)\\n', '\\n      90.\\n      Eternal Sunshine of the Spotless Mind\\n(2004)\\n', \"\\n      91.\\n      2001 : L'Odyssée de l'espace\\n(1968)\\n\", '\\n      92.\\n      Top Gun: Maverick\\n(2022)\\n', '\\n      93.\\n      Reservoir Dogs\\n(1992)\\n', '\\n      94.\\n      La chasse\\n(2012)\\n', '\\n      95.\\n      Requiem pour un massacre - Va et regarde\\n(1985)\\n', '\\n      96.\\n      Citizen Kane\\n(1941)\\n', '\\n      97.\\n      M le maudit\\n(1931)\\n', \"\\n      98.\\n      Lawrence d'Arabie\\n(1962)\\n\", '\\n      99.\\n      La mort aux trousses\\n(1959)\\n', '\\n      100.\\n      Sueurs froides\\n(1958)\\n', \"\\n      101.\\n      Le fabuleux destin d'Amélie Poulain\\n(2001)\\n\", '\\n      102.\\n      La garçonnière\\n(1960)\\n', '\\n      103.\\n      Orange mécanique\\n(1971)\\n', '\\n      104.\\n      Vivre\\n(1952)\\n', '\\n      105.\\n      Assurance sur la mort\\n(1944)\\n', '\\n      106.\\n      Full Metal Jacket\\n(1987)\\n', '\\n      107.\\n      Hamilton\\n(2020)\\n', '\\n      108.\\n      Scarface\\n(1983)\\n', '\\n      109.\\n      Du silence et des ombres...\\n(1962)\\n', \"\\n      110.\\n      L'Arnaque\\n(1973)\\n\", '\\n      111.\\n      Incendies\\n(2010)\\n', '\\n      112.\\n      Heat\\n(1995)\\n', '\\n      113.\\n      Là-haut\\n(2009)\\n', '\\n      114.\\n      Taxi Driver\\n(1976)\\n', '\\n      115.\\n      Une séparation\\n(2011)\\n', '\\n      116.\\n      Metropolis\\n(1927)\\n', '\\n      117.\\n      L.A. Confidential\\n(1997)\\n', '\\n      118.\\n      Piège de cristal\\n(1988)\\n', '\\n      119.\\n      Snatch - Tu braques ou tu raques\\n(2000)\\n', '\\n      120.\\n      Indiana Jones et la dernière croisade\\n(1989)\\n', '\\n      121.\\n      Voleur de bicyclette\\n(1948)\\n', '\\n      122.\\n      Taare Zameen Par\\n(2007)\\n', '\\n      123.\\n      1917\\n(2019)\\n', '\\n      124.\\n      La chute\\n(2004)\\n', '\\n      125.\\n      ...et pour quelques dollars de plus\\n(1965)\\n', '\\n      126.\\n      Dangal\\n(2016)\\n', '\\n      127.\\n      Batman Begins\\n(2005)\\n', '\\n      128.\\n      Le Kid\\n(1921)\\n', \"\\n      129.\\n      Certains l'aiment chaud\\n(1959)\\n\", '\\n      130.\\n      The Father\\n(2020)\\n', '\\n      131.\\n      Ève...\\n(1950)\\n', '\\n      132.\\n      Green Book: Sur les routes du sud\\n(2018)\\n', '\\n      133.\\n      Le loup de Wall Street\\n(2013)\\n', '\\n      134.\\n      Jugement à Nuremberg\\n(1961)\\n', '\\n      135.\\n      Casino\\n(1995)\\n', '\\n      136.\\n      Ran\\n(1985)\\n', '\\n      137.\\n      Le labyrinthe de Pan\\n(2006)\\n', '\\n      138.\\n      Impitoyable\\n(1992)\\n', '\\n      139.\\n      There Will Be Blood\\n(2007)\\n', '\\n      140.\\n      The Truman Show\\n(1998)\\n', '\\n      141.\\n      Sixième sens\\n(1999)\\n', \"\\n      142.\\n      Un homme d'exception\\n(2001)\\n\", '\\n      143.\\n      Shutter Island\\n(2010)\\n', '\\n      144.\\n      Le garde du corps\\n(1961)\\n', '\\n      145.\\n      Le Trésor de la Sierra Madre\\n(1948)\\n', '\\n      146.\\n      Monty Python : Sacré Graal !\\n(1975)\\n', '\\n      147.\\n      Jurassic Park\\n(1993)\\n', '\\n      148.\\n      Spider-Man: No Way Home\\n(2021)\\n', '\\n      149.\\n      La Grande Évasion\\n(1963)\\n', '\\n      150.\\n      Rashomon\\n(1950)\\n', '\\n      151.\\n      No Country for Old Men\\n(2007)\\n', '\\n      152.\\n      Kill Bill: Volume I\\n(2003)\\n', '\\n      153.\\n      The Thing\\n(1982)\\n', '\\n      154.\\n      Le Monde de Nemo\\n(2003)\\n', '\\n      155.\\n      Elephant Man\\n(1980)\\n', '\\n      156.\\n      Chinatown\\n(1974)\\n', '\\n      157.\\n      Raging Bull\\n(1980)\\n', '\\n      158.\\n      V pour vendetta\\n(2005)\\n', '\\n      159.\\n      Autant en emporte le vent\\n(1939)\\n', '\\n      160.\\n      Vice-versa\\n(2015)\\n', '\\n      161.\\n      Arnaques, crimes et botanique\\n(1998)\\n', '\\n      162.\\n      Le crime était presque parfait\\n(1954)\\n', '\\n      163.\\n      Dans ses yeux\\n(2009)\\n', '\\n      164.\\n      Le château ambulant\\n(2004)\\n', '\\n      165.\\n      3 Billboards: Les panneaux de la vengeance\\n(2017)\\n', '\\n      166.\\n      Le pont de la rivière Kwaï\\n(1957)\\n', '\\n      167.\\n      Trainspotting\\n(1996)\\n', '\\n      168.\\n      Warrior\\n(2011)\\n', '\\n      169.\\n      Prisoners\\n(2013)\\n', '\\n      170.\\n      Fargo\\n(1996)\\n', '\\n      171.\\n      Gran Torino\\n(2008)\\n', '\\n      172.\\n      Mon voisin Totoro\\n(1988)\\n', '\\n      173.\\n      Arrête-moi si tu peux\\n(2002)\\n', '\\n      174.\\n      Million Dollar Baby\\n(2004)\\n', '\\n      175.\\n      Les enfants du ciel\\n(1997)\\n', '\\n      176.\\n      Blade Runner\\n(1982)\\n', \"\\n      177.\\n      La ruée vers l'or\\n(1925)\\n\", '\\n      178.\\n      Before Sunrise\\n(1995)\\n', '\\n      179.\\n      Sur les quais...\\n(1954)\\n', '\\n      180.\\n      12 Years a Slave\\n(2013)\\n', '\\n      181.\\n      Harry Potter et les Reliques de la Mort : partie 2\\n(2011)\\n', '\\n      182.\\n      La légende de Klaus\\n(2019)\\n', '\\n      183.\\n      Ben-Hur\\n(1959)\\n', '\\n      184.\\n      Gone Girl\\n(2014)\\n', '\\n      185.\\n      Les fraises sauvages\\n(1957)\\n', '\\n      186.\\n      Le troisième homme\\n(1949)\\n', '\\n      187.\\n      Le mécano de la Générale\\n(1926)\\n', '\\n      188.\\n      The Grand Budapest hotel\\n(2014)\\n', '\\n      189.\\n      Au nom du père\\n(1993)\\n', \"\\n      190.\\n      Voyage au bout de l'enfer\\n(1978)\\n\", '\\n      191.\\n      Barry Lyndon\\n(1975)\\n', '\\n      192.\\n      Le salaire de la peur\\n(1953)\\n', '\\n      193.\\n      Tu ne tueras point\\n(2016)\\n', '\\n      194.\\n      Sherlock Junior\\n(1924)\\n', '\\n      195.\\n      Memories of Murder\\n(2003)\\n', '\\n      196.\\n      Mr. Smith au sénat\\n(1939)\\n', '\\n      197.\\n      Les Nouveaux Sauvages\\n(2014)\\n', '\\n      198.\\n      Mad Max: Fury Road\\n(2015)\\n', '\\n      199.\\n      Le septième sceau\\n(1957)\\n', '\\n      200.\\n      Mary et Max.\\n(2009)\\n', '\\n      201.\\n      Room\\n(2015)\\n', '\\n      202.\\n      Dragons\\n(2010)\\n', '\\n      203.\\n      Monstres & Cie\\n(2001)\\n', '\\n      204.\\n      Les Dents de la mer\\n(1975)\\n', '\\n      205.\\n      The Big Lebowski\\n(1998)\\n', '\\n      206.\\n      Le Cercle des poètes disparus\\n(1989)\\n', \"\\n      207.\\n      La passion de Jeanne d'Arc\\n(1928)\\n\", '\\n      208.\\n      Voyage à Tokyo\\n(1953)\\n', '\\n      209.\\n      Hôtel Rwanda\\n(2004)\\n', \"\\n      210.\\n      Le Mans '66\\n(2019)\\n\", '\\n      211.\\n      Rocky\\n(1976)\\n', '\\n      212.\\n      Platoon\\n(1986)\\n', '\\n      213.\\n      Spotlight\\n(2015)\\n', '\\n      214.\\n      Terminator\\n(1984)\\n', '\\n      215.\\n      Ratatouille\\n(2007)\\n', '\\n      216.\\n      Stand by Me : Compte sur moi\\n(1986)\\n', '\\n      217.\\n      Logan\\n(2017)\\n', '\\n      218.\\n      Rush\\n(2013)\\n', '\\n      219.\\n      Network - Main basse sur la TV\\n(1976)\\n', '\\n      220.\\n      La complainte du sentier\\n(1955)\\n', '\\n      221.\\n      Into the Wild\\n(2007)\\n', \"\\n      222.\\n      Le magicien d'Oz\\n(1939)\\n\", '\\n      223.\\n      Before Sunset\\n(2004)\\n', '\\n      224.\\n      Un jour sans fin\\n(1993)\\n', '\\n      225.\\n      Les Plus Belles Années de notre vie\\n(1946)\\n', \"\\n      226.\\n      L'Exorciste\\n(1973)\\n\", '\\n      227.\\n      Jeu dangereux\\n(1942)\\n', '\\n      228.\\n      Les Indestructibles\\n(2004)\\n', \"\\n      229.\\n      La bataille d'Alger\\n(1966)\\n\", '\\n      230.\\n      La haine\\n(1995)\\n', '\\n      231.\\n      Hatchi\\n(2009)\\n', '\\n      232.\\n      Mon père et mon fils\\n(2005)\\n', '\\n      233.\\n      Jai Bhim\\n(2021)\\n', '\\n      234.\\n      Pirates des Caraïbes : La malédiction du Black Pearl\\n(2003)\\n', '\\n      235.\\n      Les raisins de la colère\\n(1940)\\n', '\\n      236.\\n      Amours chiennes\\n(2000)\\n', '\\n      237.\\n      Rebecca\\n(1940)\\n', '\\n      238.\\n      Luke la main froide\\n(1967)\\n', '\\n      239.\\n      Mademoiselle\\n(2016)\\n', '\\n      240.\\n      Les Quatre Cents Coups\\n(1959)\\n', '\\n      241.\\n      La mélodie du bonheur\\n(1965)\\n', '\\n      242.\\n      New York - Miami\\n(1934)\\n', '\\n      243.\\n      Persona\\n(1966)\\n', '\\n      244.\\n      Monty Python : La Vie de Brian\\n(1979)\\n', '\\n      245.\\n      Dersou Ouzala\\n(1975)\\n', '\\n      246.\\n      Le géant de fer\\n(1999)\\n', '\\n      247.\\n      La couleur des sentiments\\n(2011)\\n', '\\n      248.\\n      Aladdin\\n(1992)\\n', '\\n      249.\\n      Gandhi\\n(1982)\\n', '\\n      250.\\n      Du rififi chez les hommes\\n(1955)\\n']\n"
          ]
        }
      ]
    },
    {
      "cell_type": "code",
      "source": [
        "# Récupérer les notes associés\n",
        "note=[]\n",
        "for x in bs_imdb.findAll(\"td\",{\"class\":\"ratingColumn imdbRating\"}):\n",
        "  text=x.get_text()\n",
        "  note.append(str(text))\n",
        "print(note)"
      ],
      "metadata": {
        "colab": {
          "base_uri": "https://localhost:8080/"
        },
        "id": "nBPVVTxDkSgL",
        "outputId": "1db0acec-d749-439c-d4db-0f6b9e94c63b"
      },
      "execution_count": 8,
      "outputs": [
        {
          "output_type": "stream",
          "name": "stdout",
          "text": [
            "['\\n9,2\\n', '\\n9,2\\n', '\\n9,0\\n', '\\n9,0\\n', '\\n9,0\\n', '\\n8,9\\n', '\\n8,9\\n', '\\n8,8\\n', '\\n8,8\\n', '\\n8,8\\n', '\\n8,8\\n', '\\n8,7\\n', '\\n8,7\\n', '\\n8,7\\n', '\\n8,7\\n', '\\n8,7\\n', '\\n8,7\\n', '\\n8,6\\n', '\\n8,6\\n', '\\n8,6\\n', '\\n8,6\\n', '\\n8,6\\n', '\\n8,6\\n', '\\n8,6\\n', '\\n8,6\\n', '\\n8,6\\n', '\\n8,6\\n', '\\n8,5\\n', '\\n8,5\\n', '\\n8,5\\n', '\\n8,5\\n', '\\n8,5\\n', '\\n8,5\\n', '\\n8,5\\n', '\\n8,5\\n', '\\n8,5\\n', '\\n8,5\\n', '\\n8,5\\n', '\\n8,5\\n', '\\n8,5\\n', '\\n8,5\\n', '\\n8,5\\n', '\\n8,5\\n', '\\n8,5\\n', '\\n8,5\\n', '\\n8,5\\n', '\\n8,4\\n', '\\n8,4\\n', '\\n8,4\\n', '\\n8,4\\n', '\\n8,4\\n', '\\n8,4\\n', '\\n8,4\\n', '\\n8,4\\n', '\\n8,4\\n', '\\n8,4\\n', '\\n8,4\\n', '\\n8,4\\n', '\\n8,4\\n', '\\n8,4\\n', '\\n8,4\\n', '\\n8,4\\n', '\\n8,4\\n', '\\n8,4\\n', '\\n8,3\\n', '\\n8,3\\n', '\\n8,3\\n', '\\n8,3\\n', '\\n8,3\\n', '\\n8,3\\n', '\\n8,3\\n', '\\n8,3\\n', '\\n8,3\\n', '\\n8,3\\n', '\\n8,3\\n', '\\n8,3\\n', '\\n8,3\\n', '\\n8,3\\n', '\\n8,3\\n', '\\n8,3\\n', '\\n8,3\\n', '\\n8,3\\n', '\\n8,3\\n', '\\n8,3\\n', '\\n8,3\\n', '\\n8,3\\n', '\\n8,3\\n', '\\n8,3\\n', '\\n8,3\\n', '\\n8,3\\n', '\\n8,3\\n', '\\n8,3\\n', '\\n8,3\\n', '\\n8,3\\n', '\\n8,3\\n', '\\n8,3\\n', '\\n8,3\\n', '\\n8,3\\n', '\\n8,2\\n', '\\n8,2\\n', '\\n8,2\\n', '\\n8,2\\n', '\\n8,2\\n', '\\n8,2\\n', '\\n8,2\\n', '\\n8,2\\n', '\\n8,2\\n', '\\n8,2\\n', '\\n8,2\\n', '\\n8,2\\n', '\\n8,2\\n', '\\n8,2\\n', '\\n8,2\\n', '\\n8,2\\n', '\\n8,2\\n', '\\n8,2\\n', '\\n8,2\\n', '\\n8,2\\n', '\\n8,2\\n', '\\n8,2\\n', '\\n8,2\\n', '\\n8,2\\n', '\\n8,2\\n', '\\n8,2\\n', '\\n8,2\\n', '\\n8,2\\n', '\\n8,2\\n', '\\n8,2\\n', '\\n8,2\\n', '\\n8,2\\n', '\\n8,2\\n', '\\n8,2\\n', '\\n8,2\\n', '\\n8,2\\n', '\\n8,2\\n', '\\n8,2\\n', '\\n8,2\\n', '\\n8,2\\n', '\\n8,2\\n', '\\n8,2\\n', '\\n8,2\\n', '\\n8,2\\n', '\\n8,2\\n', '\\n8,1\\n', '\\n8,1\\n', '\\n8,1\\n', '\\n8,1\\n', '\\n8,1\\n', '\\n8,1\\n', '\\n8,1\\n', '\\n8,1\\n', '\\n8,1\\n', '\\n8,1\\n', '\\n8,1\\n', '\\n8,1\\n', '\\n8,1\\n', '\\n8,1\\n', '\\n8,1\\n', '\\n8,1\\n', '\\n8,1\\n', '\\n8,1\\n', '\\n8,1\\n', '\\n8,1\\n', '\\n8,1\\n', '\\n8,1\\n', '\\n8,1\\n', '\\n8,1\\n', '\\n8,1\\n', '\\n8,1\\n', '\\n8,1\\n', '\\n8,1\\n', '\\n8,1\\n', '\\n8,1\\n', '\\n8,1\\n', '\\n8,1\\n', '\\n8,1\\n', '\\n8,1\\n', '\\n8,1\\n', '\\n8,1\\n', '\\n8,1\\n', '\\n8,1\\n', '\\n8,1\\n', '\\n8,1\\n', '\\n8,1\\n', '\\n8,1\\n', '\\n8,1\\n', '\\n8,1\\n', '\\n8,1\\n', '\\n8,1\\n', '\\n8,1\\n', '\\n8,1\\n', '\\n8,1\\n', '\\n8,1\\n', '\\n8,1\\n', '\\n8,1\\n', '\\n8,1\\n', '\\n8,1\\n', '\\n8,1\\n', '\\n8,1\\n', '\\n8,1\\n', '\\n8,1\\n', '\\n8,1\\n', '\\n8,1\\n', '\\n8,1\\n', '\\n8,1\\n', '\\n8,1\\n', '\\n8,1\\n', '\\n8,1\\n', '\\n8,1\\n', '\\n8,0\\n', '\\n8,0\\n', '\\n8,0\\n', '\\n8,0\\n', '\\n8,0\\n', '\\n8,0\\n', '\\n8,0\\n', '\\n8,0\\n', '\\n8,0\\n', '\\n8,0\\n', '\\n8,0\\n', '\\n8,0\\n', '\\n8,0\\n', '\\n8,0\\n', '\\n8,0\\n', '\\n8,0\\n', '\\n8,0\\n', '\\n8,0\\n', '\\n8,0\\n', '\\n8,0\\n', '\\n8,0\\n', '\\n8,0\\n', '\\n8,0\\n', '\\n8,0\\n', '\\n8,0\\n', '\\n8,0\\n', '\\n8,0\\n', '\\n8,0\\n', '\\n8,0\\n', '\\n8,0\\n', '\\n8,0\\n', '\\n8,0\\n', '\\n8,0\\n', '\\n8,0\\n', '\\n8,0\\n', '\\n8,0\\n', '\\n8,0\\n', '\\n8,0\\n', '\\n8,0\\n', '\\n8,0\\n', '\\n8,0\\n']\n"
          ]
        }
      ]
    },
    {
      "cell_type": "code",
      "source": [
        "# Nettoyer les listes\n",
        "movies_2=[]\n",
        "notes=[]\n",
        "for i in range(len(movies)):\n",
        "    if i != None :\n",
        "      movies_2.append(i)\n",
        "      notes.append(i)\n",
        "    movies_2[i]= movies[i].replace('\\n',' ')\n",
        "    notes[i]= note[i].replace('\\n',' ')"
      ],
      "metadata": {
        "id": "h7HmD6HPohH4"
      },
      "execution_count": 9,
      "outputs": []
    },
    {
      "cell_type": "code",
      "source": [
        "# Diviser les informations dans différentes listes\n",
        "annee = []\n",
        "rang = []\n",
        "films_imdb = []\n",
        "for i in range(len(movies_2)):\n",
        "  annee.append(movies_2[i][movies_2[i].find(\"(\")+1:movies_2[i].find(\")\")])\n",
        "  rang.append((movies_2[i][movies_2[i].find(\" \")+1:movies_2[i].find(\".\")]).strip())\n",
        "  films_imdb.append((movies_2[i][movies_2[i].find(\".\")+1:movies_2[i].find(\"(\")]).strip())"
      ],
      "metadata": {
        "id": "On0Nkh7npeLu"
      },
      "execution_count": 10,
      "outputs": []
    },
    {
      "cell_type": "code",
      "source": [
        "# En naviguant dans le sous-arbre films_imdb afficher le titre du premier film"
      ],
      "metadata": {
        "id": "I9Coe_gh_uLI"
      },
      "execution_count": 11,
      "outputs": []
    },
    {
      "cell_type": "code",
      "source": [
        "print(\"le titre du premier film est :\", films_imdb[0])\n",
        "# Ou\n",
        "for x in bs_imdb.findAll(\"a\",{\"title\":\"Frank Darabont (dir.), Tim Robbins, Morgan Freeman\"}):\n",
        "  print(\"le titre du premier film est :\",x.get_text())"
      ],
      "metadata": {
        "colab": {
          "base_uri": "https://localhost:8080/"
        },
        "id": "fxdB9Rw0v44T",
        "outputId": "59491dda-978e-4bfa-908e-8bd1edaf86fc"
      },
      "execution_count": 12,
      "outputs": [
        {
          "output_type": "stream",
          "name": "stdout",
          "text": [
            "le titre du premier film est : Les Évadés\n",
            "le titre du premier film est : Les Évadés\n"
          ]
        }
      ]
    },
    {
      "cell_type": "code",
      "source": [
        "# Afficher le rang du premier film. Il faudra nettoyer le code pour récupérer une donnée propre."
      ],
      "metadata": {
        "id": "9LFc7xOCwFaf"
      },
      "execution_count": 13,
      "outputs": []
    },
    {
      "cell_type": "code",
      "source": [
        "print(\"le rang du premier film est :\", rang[0])"
      ],
      "metadata": {
        "colab": {
          "base_uri": "https://localhost:8080/"
        },
        "id": "8YikPjiEwJMl",
        "outputId": "8115a60d-acec-4012-b42c-e56718a44dd8"
      },
      "execution_count": 14,
      "outputs": [
        {
          "output_type": "stream",
          "name": "stdout",
          "text": [
            "le rang du premier film est : 1\n"
          ]
        }
      ]
    },
    {
      "cell_type": "code",
      "source": [
        "# Afficher l'année de sortie du premier film. Penser à supprimer les caractères parasites (s'il y en a)."
      ],
      "metadata": {
        "id": "OStfDCfvwPfO"
      },
      "execution_count": 15,
      "outputs": []
    },
    {
      "cell_type": "code",
      "source": [
        "print(\"l'année de sortir du premier film est :\", annee[0])"
      ],
      "metadata": {
        "colab": {
          "base_uri": "https://localhost:8080/"
        },
        "id": "A3CaNo3rwTJl",
        "outputId": "f990aa50-d84d-4757-89bf-47e605eb77a7"
      },
      "execution_count": 16,
      "outputs": [
        {
          "output_type": "stream",
          "name": "stdout",
          "text": [
            "l'année de sortir du premier film est : 1994\n"
          ]
        }
      ]
    },
    {
      "cell_type": "code",
      "source": [
        "# Identifier les éléments contenant la note des films. Récupérer le code source dans une variable notes et afficher la note du premier film."
      ],
      "metadata": {
        "id": "gsfrKwiHwize"
      },
      "execution_count": 17,
      "outputs": []
    },
    {
      "cell_type": "code",
      "source": [
        "print(\"La note du premier film est :\", notes[0])"
      ],
      "metadata": {
        "colab": {
          "base_uri": "https://localhost:8080/"
        },
        "id": "meIQWkSEwlJ-",
        "outputId": "09a89f9f-8d4a-41aa-d0b3-2b19670caf98"
      },
      "execution_count": 18,
      "outputs": [
        {
          "output_type": "stream",
          "name": "stdout",
          "text": [
            "La note du premier film est :  9,2 \n"
          ]
        }
      ]
    },
    {
      "cell_type": "code",
      "source": [
        "# Importer la librarie pandas"
      ],
      "metadata": {
        "id": "dJ3Fhfwlwuup"
      },
      "execution_count": 19,
      "outputs": []
    },
    {
      "cell_type": "code",
      "source": [
        "import pandas as pd"
      ],
      "metadata": {
        "id": "jaOYopFUwwrY"
      },
      "execution_count": 20,
      "outputs": []
    },
    {
      "cell_type": "code",
      "source": [
        "# A l'aide d'une boucle for, récupérer tous les titres, rangs, années de sortie et notes pour tous les films, dans un Dataframe df_imdb."
      ],
      "metadata": {
        "id": "UY2RFnCww0MR"
      },
      "execution_count": 21,
      "outputs": []
    },
    {
      "cell_type": "code",
      "source": [
        "df_imdb = {'titre' : films_imdb, 'rang' : rang, 'annee' : annee, 'notes spectateurs' : notes}\n",
        "df_imdb = pd.DataFrame(data=df_imdb)"
      ],
      "metadata": {
        "id": "pfOnM2a01Sw8"
      },
      "execution_count": 22,
      "outputs": []
    },
    {
      "cell_type": "code",
      "source": [
        "# Afficher les premières lignes de df_imdb."
      ],
      "metadata": {
        "id": "TPRG0kOJ1pw3"
      },
      "execution_count": 23,
      "outputs": []
    },
    {
      "cell_type": "code",
      "source": [
        "df_imdb.head()"
      ],
      "metadata": {
        "colab": {
          "base_uri": "https://localhost:8080/",
          "height": 206
        },
        "id": "6qblDMTf1sba",
        "outputId": "f8f88f09-bbb6-4ffb-e8db-17c4c930bb24"
      },
      "execution_count": 24,
      "outputs": [
        {
          "output_type": "execute_result",
          "data": {
            "text/plain": [
              "                                 titre rang annee notes spectateurs\n",
              "0                           Les Évadés    1  1994              9,2 \n",
              "1                           Le Parrain    2  1972              9,2 \n",
              "2  The Dark Knight : Le Chevalier noir    3  2008              9,0 \n",
              "3                Le Parrain, 2ᵉ partie    4  1974              9,0 \n",
              "4                  12 Hommes en colère    5  1957              9,0 "
            ],
            "text/html": [
              "\n",
              "  <div id=\"df-4593d960-fbde-4095-8f5f-cb87d25dab5d\" class=\"colab-df-container\">\n",
              "    <div>\n",
              "<style scoped>\n",
              "    .dataframe tbody tr th:only-of-type {\n",
              "        vertical-align: middle;\n",
              "    }\n",
              "\n",
              "    .dataframe tbody tr th {\n",
              "        vertical-align: top;\n",
              "    }\n",
              "\n",
              "    .dataframe thead th {\n",
              "        text-align: right;\n",
              "    }\n",
              "</style>\n",
              "<table border=\"1\" class=\"dataframe\">\n",
              "  <thead>\n",
              "    <tr style=\"text-align: right;\">\n",
              "      <th></th>\n",
              "      <th>titre</th>\n",
              "      <th>rang</th>\n",
              "      <th>annee</th>\n",
              "      <th>notes spectateurs</th>\n",
              "    </tr>\n",
              "  </thead>\n",
              "  <tbody>\n",
              "    <tr>\n",
              "      <th>0</th>\n",
              "      <td>Les Évadés</td>\n",
              "      <td>1</td>\n",
              "      <td>1994</td>\n",
              "      <td>9,2</td>\n",
              "    </tr>\n",
              "    <tr>\n",
              "      <th>1</th>\n",
              "      <td>Le Parrain</td>\n",
              "      <td>2</td>\n",
              "      <td>1972</td>\n",
              "      <td>9,2</td>\n",
              "    </tr>\n",
              "    <tr>\n",
              "      <th>2</th>\n",
              "      <td>The Dark Knight : Le Chevalier noir</td>\n",
              "      <td>3</td>\n",
              "      <td>2008</td>\n",
              "      <td>9,0</td>\n",
              "    </tr>\n",
              "    <tr>\n",
              "      <th>3</th>\n",
              "      <td>Le Parrain, 2ᵉ partie</td>\n",
              "      <td>4</td>\n",
              "      <td>1974</td>\n",
              "      <td>9,0</td>\n",
              "    </tr>\n",
              "    <tr>\n",
              "      <th>4</th>\n",
              "      <td>12 Hommes en colère</td>\n",
              "      <td>5</td>\n",
              "      <td>1957</td>\n",
              "      <td>9,0</td>\n",
              "    </tr>\n",
              "  </tbody>\n",
              "</table>\n",
              "</div>\n",
              "    <div class=\"colab-df-buttons\">\n",
              "\n",
              "  <div class=\"colab-df-container\">\n",
              "    <button class=\"colab-df-convert\" onclick=\"convertToInteractive('df-4593d960-fbde-4095-8f5f-cb87d25dab5d')\"\n",
              "            title=\"Convert this dataframe to an interactive table.\"\n",
              "            style=\"display:none;\">\n",
              "\n",
              "  <svg xmlns=\"http://www.w3.org/2000/svg\" height=\"24px\" viewBox=\"0 -960 960 960\">\n",
              "    <path d=\"M120-120v-720h720v720H120Zm60-500h600v-160H180v160Zm220 220h160v-160H400v160Zm0 220h160v-160H400v160ZM180-400h160v-160H180v160Zm440 0h160v-160H620v160ZM180-180h160v-160H180v160Zm440 0h160v-160H620v160Z\"/>\n",
              "  </svg>\n",
              "    </button>\n",
              "\n",
              "  <style>\n",
              "    .colab-df-container {\n",
              "      display:flex;\n",
              "      gap: 12px;\n",
              "    }\n",
              "\n",
              "    .colab-df-convert {\n",
              "      background-color: #E8F0FE;\n",
              "      border: none;\n",
              "      border-radius: 50%;\n",
              "      cursor: pointer;\n",
              "      display: none;\n",
              "      fill: #1967D2;\n",
              "      height: 32px;\n",
              "      padding: 0 0 0 0;\n",
              "      width: 32px;\n",
              "    }\n",
              "\n",
              "    .colab-df-convert:hover {\n",
              "      background-color: #E2EBFA;\n",
              "      box-shadow: 0px 1px 2px rgba(60, 64, 67, 0.3), 0px 1px 3px 1px rgba(60, 64, 67, 0.15);\n",
              "      fill: #174EA6;\n",
              "    }\n",
              "\n",
              "    .colab-df-buttons div {\n",
              "      margin-bottom: 4px;\n",
              "    }\n",
              "\n",
              "    [theme=dark] .colab-df-convert {\n",
              "      background-color: #3B4455;\n",
              "      fill: #D2E3FC;\n",
              "    }\n",
              "\n",
              "    [theme=dark] .colab-df-convert:hover {\n",
              "      background-color: #434B5C;\n",
              "      box-shadow: 0px 1px 3px 1px rgba(0, 0, 0, 0.15);\n",
              "      filter: drop-shadow(0px 1px 2px rgba(0, 0, 0, 0.3));\n",
              "      fill: #FFFFFF;\n",
              "    }\n",
              "  </style>\n",
              "\n",
              "    <script>\n",
              "      const buttonEl =\n",
              "        document.querySelector('#df-4593d960-fbde-4095-8f5f-cb87d25dab5d button.colab-df-convert');\n",
              "      buttonEl.style.display =\n",
              "        google.colab.kernel.accessAllowed ? 'block' : 'none';\n",
              "\n",
              "      async function convertToInteractive(key) {\n",
              "        const element = document.querySelector('#df-4593d960-fbde-4095-8f5f-cb87d25dab5d');\n",
              "        const dataTable =\n",
              "          await google.colab.kernel.invokeFunction('convertToInteractive',\n",
              "                                                    [key], {});\n",
              "        if (!dataTable) return;\n",
              "\n",
              "        const docLinkHtml = 'Like what you see? Visit the ' +\n",
              "          '<a target=\"_blank\" href=https://colab.research.google.com/notebooks/data_table.ipynb>data table notebook</a>'\n",
              "          + ' to learn more about interactive tables.';\n",
              "        element.innerHTML = '';\n",
              "        dataTable['output_type'] = 'display_data';\n",
              "        await google.colab.output.renderOutput(dataTable, element);\n",
              "        const docLink = document.createElement('div');\n",
              "        docLink.innerHTML = docLinkHtml;\n",
              "        element.appendChild(docLink);\n",
              "      }\n",
              "    </script>\n",
              "  </div>\n",
              "\n",
              "\n",
              "<div id=\"df-eb6851f1-b34c-4cbb-8790-ce7e255f8f29\">\n",
              "  <button class=\"colab-df-quickchart\" onclick=\"quickchart('df-eb6851f1-b34c-4cbb-8790-ce7e255f8f29')\"\n",
              "            title=\"Suggest charts\"\n",
              "            style=\"display:none;\">\n",
              "\n",
              "<svg xmlns=\"http://www.w3.org/2000/svg\" height=\"24px\"viewBox=\"0 0 24 24\"\n",
              "     width=\"24px\">\n",
              "    <g>\n",
              "        <path d=\"M19 3H5c-1.1 0-2 .9-2 2v14c0 1.1.9 2 2 2h14c1.1 0 2-.9 2-2V5c0-1.1-.9-2-2-2zM9 17H7v-7h2v7zm4 0h-2V7h2v10zm4 0h-2v-4h2v4z\"/>\n",
              "    </g>\n",
              "</svg>\n",
              "  </button>\n",
              "\n",
              "<style>\n",
              "  .colab-df-quickchart {\n",
              "      --bg-color: #E8F0FE;\n",
              "      --fill-color: #1967D2;\n",
              "      --hover-bg-color: #E2EBFA;\n",
              "      --hover-fill-color: #174EA6;\n",
              "      --disabled-fill-color: #AAA;\n",
              "      --disabled-bg-color: #DDD;\n",
              "  }\n",
              "\n",
              "  [theme=dark] .colab-df-quickchart {\n",
              "      --bg-color: #3B4455;\n",
              "      --fill-color: #D2E3FC;\n",
              "      --hover-bg-color: #434B5C;\n",
              "      --hover-fill-color: #FFFFFF;\n",
              "      --disabled-bg-color: #3B4455;\n",
              "      --disabled-fill-color: #666;\n",
              "  }\n",
              "\n",
              "  .colab-df-quickchart {\n",
              "    background-color: var(--bg-color);\n",
              "    border: none;\n",
              "    border-radius: 50%;\n",
              "    cursor: pointer;\n",
              "    display: none;\n",
              "    fill: var(--fill-color);\n",
              "    height: 32px;\n",
              "    padding: 0;\n",
              "    width: 32px;\n",
              "  }\n",
              "\n",
              "  .colab-df-quickchart:hover {\n",
              "    background-color: var(--hover-bg-color);\n",
              "    box-shadow: 0 1px 2px rgba(60, 64, 67, 0.3), 0 1px 3px 1px rgba(60, 64, 67, 0.15);\n",
              "    fill: var(--button-hover-fill-color);\n",
              "  }\n",
              "\n",
              "  .colab-df-quickchart-complete:disabled,\n",
              "  .colab-df-quickchart-complete:disabled:hover {\n",
              "    background-color: var(--disabled-bg-color);\n",
              "    fill: var(--disabled-fill-color);\n",
              "    box-shadow: none;\n",
              "  }\n",
              "\n",
              "  .colab-df-spinner {\n",
              "    border: 2px solid var(--fill-color);\n",
              "    border-color: transparent;\n",
              "    border-bottom-color: var(--fill-color);\n",
              "    animation:\n",
              "      spin 1s steps(1) infinite;\n",
              "  }\n",
              "\n",
              "  @keyframes spin {\n",
              "    0% {\n",
              "      border-color: transparent;\n",
              "      border-bottom-color: var(--fill-color);\n",
              "      border-left-color: var(--fill-color);\n",
              "    }\n",
              "    20% {\n",
              "      border-color: transparent;\n",
              "      border-left-color: var(--fill-color);\n",
              "      border-top-color: var(--fill-color);\n",
              "    }\n",
              "    30% {\n",
              "      border-color: transparent;\n",
              "      border-left-color: var(--fill-color);\n",
              "      border-top-color: var(--fill-color);\n",
              "      border-right-color: var(--fill-color);\n",
              "    }\n",
              "    40% {\n",
              "      border-color: transparent;\n",
              "      border-right-color: var(--fill-color);\n",
              "      border-top-color: var(--fill-color);\n",
              "    }\n",
              "    60% {\n",
              "      border-color: transparent;\n",
              "      border-right-color: var(--fill-color);\n",
              "    }\n",
              "    80% {\n",
              "      border-color: transparent;\n",
              "      border-right-color: var(--fill-color);\n",
              "      border-bottom-color: var(--fill-color);\n",
              "    }\n",
              "    90% {\n",
              "      border-color: transparent;\n",
              "      border-bottom-color: var(--fill-color);\n",
              "    }\n",
              "  }\n",
              "</style>\n",
              "\n",
              "  <script>\n",
              "    async function quickchart(key) {\n",
              "      const quickchartButtonEl =\n",
              "        document.querySelector('#' + key + ' button');\n",
              "      quickchartButtonEl.disabled = true;  // To prevent multiple clicks.\n",
              "      quickchartButtonEl.classList.add('colab-df-spinner');\n",
              "      try {\n",
              "        const charts = await google.colab.kernel.invokeFunction(\n",
              "            'suggestCharts', [key], {});\n",
              "      } catch (error) {\n",
              "        console.error('Error during call to suggestCharts:', error);\n",
              "      }\n",
              "      quickchartButtonEl.classList.remove('colab-df-spinner');\n",
              "      quickchartButtonEl.classList.add('colab-df-quickchart-complete');\n",
              "    }\n",
              "    (() => {\n",
              "      let quickchartButtonEl =\n",
              "        document.querySelector('#df-eb6851f1-b34c-4cbb-8790-ce7e255f8f29 button');\n",
              "      quickchartButtonEl.style.display =\n",
              "        google.colab.kernel.accessAllowed ? 'block' : 'none';\n",
              "    })();\n",
              "  </script>\n",
              "</div>\n",
              "    </div>\n",
              "  </div>\n"
            ],
            "application/vnd.google.colaboratory.intrinsic+json": {
              "type": "dataframe",
              "variable_name": "df_imdb",
              "summary": "{\n  \"name\": \"df_imdb\",\n  \"rows\": 250,\n  \"fields\": [\n    {\n      \"column\": \"titre\",\n      \"properties\": {\n        \"dtype\": \"string\",\n        \"num_unique_values\": 249,\n        \"samples\": [\n          \"There Will Be Blood\",\n          \"Le Seigneur des anneaux : Le Retour du roi\",\n          \"La mort aux trousses\"\n        ],\n        \"semantic_type\": \"\",\n        \"description\": \"\"\n      }\n    },\n    {\n      \"column\": \"rang\",\n      \"properties\": {\n        \"dtype\": \"string\",\n        \"num_unique_values\": 250,\n        \"samples\": [\n          \"143\",\n          \"7\",\n          \"98\"\n        ],\n        \"semantic_type\": \"\",\n        \"description\": \"\"\n      }\n    },\n    {\n      \"column\": \"annee\",\n      \"properties\": {\n        \"dtype\": \"object\",\n        \"num_unique_values\": 86,\n        \"samples\": [\n          \"1996\",\n          \"1994\",\n          \"1961\"\n        ],\n        \"semantic_type\": \"\",\n        \"description\": \"\"\n      }\n    },\n    {\n      \"column\": \"notes spectateurs\",\n      \"properties\": {\n        \"dtype\": \"category\",\n        \"num_unique_values\": 12,\n        \"samples\": [\n          \" 8,1 \",\n          \" 8,2 \",\n          \" 9,2 \"\n        ],\n        \"semantic_type\": \"\",\n        \"description\": \"\"\n      }\n    }\n  ]\n}"
            }
          },
          "metadata": {},
          "execution_count": 24
        }
      ]
    },
    {
      "cell_type": "markdown",
      "source": [
        "2. **Deuxième site : Allociné**"
      ],
      "metadata": {
        "id": "EBBS8GUhcKDy"
      }
    },
    {
      "cell_type": "code",
      "source": [
        "from bs4 import BeautifulSoup as bs\n",
        "import requests"
      ],
      "metadata": {
        "id": "vsRPdomScMzB"
      },
      "execution_count": 25,
      "outputs": []
    },
    {
      "cell_type": "code",
      "source": [
        "url_allocine = 'https://assets-datascientest.s3.eu-west-1.amazonaws.com/AlloCin%C3%A9.html'\n",
        "page_allocine = requests.get(url_allocine)\n",
        "bs_allocine = bs(page_allocine.content,\"lxml\")\n",
        "print(bs_allocine.prettify().splitlines()[0:30])"
      ],
      "metadata": {
        "colab": {
          "base_uri": "https://localhost:8080/"
        },
        "id": "EjcrS-Sicvs6",
        "outputId": "bfe2553d-36ed-4486-89fe-d0da37049bb6"
      },
      "execution_count": 26,
      "outputs": [
        {
          "output_type": "stream",
          "name": "stdout",
          "text": [
            "['<!DOCTYPE html>', '<html lang=\"fr\">', ' <head>', '  <meta content=\"IE=edge,chrome=1\" http-equiv=\"X-UA-Compatible\"/>', '  <meta charset=\"utf-8\"/>', '  <meta content=\"width=device-width, initial-scale=1.0, maximum-scale=1.0, minimum-scale=1.0, user-scalable=no\" name=\"viewport\"/>', '  <meta content=\"index,follow,max-snippet:-1\" name=\"robots\"/>', '  <title>', '   Meilleurs films de tous les temps - AlloCiné', '  </title>', '  <meta content=\"\" name=\"keywords\"/>', '  <meta content=\"noarchive\" name=\"Googlebot\"/>', '  <meta content=\"global\" name=\"distribution\"/>', '  <meta content=\"AlloCine\" name=\"author\"/>', '  <meta content=\"France\" name=\"country\"/>', '  <meta content=\"48.87078;2.30447\" name=\"geo.position\"/>', '  <meta content=\"FR\" name=\"geo.country\"/>', '  <meta content=\"48.87078;2.30447\" name=\"ICBM\"/>', '  <meta content=\"#FECC00\" name=\"theme-color\"/>', '  <meta content=\"Quels sont les meilleurs films? Découvrez les 300 meilleurs films de tous les temps sur AlloCiné\" name=\"description\"/>', '  <meta content=\"AlloCiné\" property=\"og:site_name\"/>', '  <meta content=\"Meilleurs films de tous les temps\" property=\"og:title\"/>', '  <meta content=\"Quels sont les meilleurs films? Découvrez les 300 meilleurs films de tous les temps sur AlloCiné\" property=\"og:description\"/>', '  <meta content=\"99197768694\" property=\"fb:app_id\"/>', '  <meta content=\"summary\" name=\"twitter:card\"/>', '  <meta content=\"@allocine\" name=\"twitter:site\"/>', '  <meta content=\"Meilleurs films de tous les temps\" name=\"twitter:title\"/>', '  <meta content=\"Quels sont les meilleurs films? Découvrez les 300 meilleurs films de tous les temps sur AlloCiné\" name=\"twitter:description\"/>', '  <meta content=\"\" name=\"twitter:image\"/>', '  <meta content=\"allocine\" name=\"twitter:app:name:iphone\"/>']\n"
          ]
        }
      ]
    },
    {
      "cell_type": "markdown",
      "source": [
        "•\t(c) Récupérer le code HTML contenant le titre et les notes des films dans une variable nommée films_allocine.\n",
        "•\t(d) Afficher le nombre de films récupérés."
      ],
      "metadata": {
        "id": "JffZuENWc6ad"
      }
    },
    {
      "cell_type": "code",
      "source": [
        "# Récupérer le code HTML contenant le titre et les notes des films dans une variable nommée films_allocine\n",
        "films=[]\n",
        "for x in bs_allocine.findAll(\"a\",{\"class\":\"meta-title-link\"}):\n",
        "  text=x.get_text()\n",
        "  films.append(str(text))\n",
        "print(films)"
      ],
      "metadata": {
        "colab": {
          "base_uri": "https://localhost:8080/"
        },
        "id": "DW7ti_Yfc1Ik",
        "outputId": "7c6f23d0-90a7-41a8-d90b-2570d4962117"
      },
      "execution_count": 27,
      "outputs": [
        {
          "output_type": "stream",
          "name": "stdout",
          "text": [
            "['Forrest Gump', 'La Liste de Schindler', 'La Ligne verte', '12 hommes en colère', 'Le Parrain', 'Les Evadés', 'Le Seigneur des anneaux : le retour du roi', 'Le Roi Lion', \"Vol au-dessus d'un nid de coucou\", 'The Dark Knight, Le Chevalier Noir']\n"
          ]
        }
      ]
    },
    {
      "cell_type": "code",
      "source": [
        "notes_allocine = []\n",
        "for x in bs_allocine.findAll(\"div\",{\"class\":\"rating-item-content\"}):\n",
        "  text=x.get_text()\n",
        "  notes_allocine.append(str(text))\n",
        "print(notes_allocine)"
      ],
      "metadata": {
        "colab": {
          "base_uri": "https://localhost:8080/"
        },
        "id": "5Li8lgp1fs2q",
        "outputId": "db1bb503-5087-4f31-d631-9c77bcad45a6"
      },
      "execution_count": 28,
      "outputs": [
        {
          "output_type": "stream",
          "name": "stdout",
          "text": [
            "['\\n Presse \\n2,6\\n', '\\n Spectateurs \\n4,6\\n', '\\nMes amis \\n--\\n', '\\n Presse \\n4,2\\n', '\\n Spectateurs \\n4,6\\n', '\\nMes amis \\n--\\n', '\\n Presse \\n2,8\\n', '\\n Spectateurs \\n4,6\\n', '\\nMes amis \\n--\\n', '\\n Presse \\n5,0\\n', '\\n Spectateurs \\n4,6\\n', '\\nMes amis \\n--\\n', '\\n Presse \\n4,6\\n', '\\n Spectateurs \\n4,5\\n', '\\nMes amis \\n--\\n', '\\n Presse \\n3,2\\n', '\\n Spectateurs \\n4,5\\n', '\\nMes amis \\n--\\n', '\\n Presse \\n3,8\\n', '\\n Spectateurs \\n4,5\\n', '\\nMes amis \\n--\\n', '\\n Presse \\n3,4\\n', '\\n Spectateurs \\n4,5\\n', '\\nMes amis \\n--\\n', '\\n Presse \\n5,0\\n', '\\n Spectateurs \\n4,5\\n', '\\nMes amis \\n--\\n', '\\n Presse \\n4,0\\n', '\\n Spectateurs \\n4,5\\n', '\\nMes amis \\n--\\n']\n"
          ]
        }
      ]
    },
    {
      "cell_type": "code",
      "source": [
        "# Nettoyer les listes\n",
        "notes_allocine_presse=[]\n",
        "notes_allocine_spectateurs=[]\n",
        "for i in range(len(notes_allocine)):\n",
        "    notes_allocine.append(notes_allocine[i].replace('\\n',' '))\n",
        "    if \"Presse\" in str(notes_allocine[i]):\n",
        "      notes_allocine_presse.append(notes_allocine[i][notes_allocine[i].find(\",\")-1:notes_allocine[i].find(\",\")+2])\n",
        "    elif \"Spectateurs\" in str(notes_allocine[i]):\n",
        "      notes_allocine_spectateurs.append(notes_allocine[i][notes_allocine[i].find(\",\")-1:notes_allocine[i].find(\",\")+2])"
      ],
      "metadata": {
        "id": "-HLNFc9DhwjO"
      },
      "execution_count": 29,
      "outputs": []
    },
    {
      "cell_type": "code",
      "source": [
        "notes_allocine_presse_ = []\n",
        "notes_allocine_spectateurs_ = []\n",
        "for i in range(len(films)):\n",
        "  notes_allocine_presse_.append(notes_allocine_presse[i])\n",
        "  notes_allocine_spectateurs_.append(notes_allocine_spectateurs[i])"
      ],
      "metadata": {
        "id": "aQrS2eOjnTkI"
      },
      "execution_count": 30,
      "outputs": []
    },
    {
      "cell_type": "markdown",
      "source": [
        "Nettoyer et afficher le titre du premier film."
      ],
      "metadata": {
        "id": "-D6xgCfpgGY0"
      }
    },
    {
      "cell_type": "code",
      "source": [
        "# Nettoyer et afficher le titre du premier film.\n",
        "print(\"le titre du premier film est :\", films[0])"
      ],
      "metadata": {
        "colab": {
          "base_uri": "https://localhost:8080/"
        },
        "id": "udOrARMagFmE",
        "outputId": "8bdf1d67-d1bc-4a07-c337-5d2ef6eb3b6d"
      },
      "execution_count": 31,
      "outputs": [
        {
          "output_type": "stream",
          "name": "stdout",
          "text": [
            "le titre du premier film est : Forrest Gump\n"
          ]
        }
      ]
    },
    {
      "cell_type": "markdown",
      "source": [
        "Afficher la note de presse du premier film."
      ],
      "metadata": {
        "id": "CTpQto22gXw8"
      }
    },
    {
      "cell_type": "code",
      "source": [
        "# Afficher la note de presse du premier film.\n",
        "print(\"la note de presse du premier film est :\", notes_allocine_presse[0])"
      ],
      "metadata": {
        "colab": {
          "base_uri": "https://localhost:8080/"
        },
        "id": "c45zeNe_gXON",
        "outputId": "4cc7d7b9-45e8-4f14-fc59-a3e0aada1d30"
      },
      "execution_count": 32,
      "outputs": [
        {
          "output_type": "stream",
          "name": "stdout",
          "text": [
            "la note de presse du premier film est : 2,6\n"
          ]
        }
      ]
    },
    {
      "cell_type": "markdown",
      "source": [
        "Afficher la note de spectateur du premier film."
      ],
      "metadata": {
        "id": "dnFAOAiDk_D_"
      }
    },
    {
      "cell_type": "code",
      "source": [
        "# Afficher la note de spectateurs du premier film.\n",
        "print(\"la note de presse du premier film est :\", notes_allocine_spectateurs[0])"
      ],
      "metadata": {
        "colab": {
          "base_uri": "https://localhost:8080/"
        },
        "id": "VYaZOQwFk-ZC",
        "outputId": "e26189bb-a48c-413a-c024-fb30c27f572c"
      },
      "execution_count": 33,
      "outputs": [
        {
          "output_type": "stream",
          "name": "stdout",
          "text": [
            "la note de presse du premier film est : 4,6\n"
          ]
        }
      ]
    },
    {
      "cell_type": "markdown",
      "source": [
        "Récupérer tous les titres et les notes pour tous les films, dans un DataFrame df_allocine. Afficher les premières lignes."
      ],
      "metadata": {
        "id": "OS6xIV8PlesE"
      }
    },
    {
      "cell_type": "code",
      "source": [
        "# Récupérer tous les titres et les notes pour tous les films, dans un DataFrame df_allocine. Afficher les premières lignes.\n",
        "df_allocine = {'titre' : films, 'notes presse' : notes_allocine_presse_, 'notes spectateurs' : notes_allocine_spectateurs_}\n",
        "df_allocine = pd.DataFrame(data=df_allocine)"
      ],
      "metadata": {
        "id": "_bTtufYTlfYP"
      },
      "execution_count": 34,
      "outputs": []
    },
    {
      "cell_type": "code",
      "source": [
        "df_allocine.head()"
      ],
      "metadata": {
        "colab": {
          "base_uri": "https://localhost:8080/",
          "height": 206
        },
        "id": "PRAWxoAgl380",
        "outputId": "3301ad9b-2f59-48cf-b4ef-9b37db7fa3ac"
      },
      "execution_count": 35,
      "outputs": [
        {
          "output_type": "execute_result",
          "data": {
            "text/plain": [
              "                   titre notes presse notes spectateurs\n",
              "0           Forrest Gump          2,6               4,6\n",
              "1  La Liste de Schindler          4,2               4,6\n",
              "2         La Ligne verte          2,8               4,6\n",
              "3    12 hommes en colère          5,0               4,6\n",
              "4             Le Parrain          4,6               4,5"
            ],
            "text/html": [
              "\n",
              "  <div id=\"df-8e927542-3c11-4825-81f7-43696e129b14\" class=\"colab-df-container\">\n",
              "    <div>\n",
              "<style scoped>\n",
              "    .dataframe tbody tr th:only-of-type {\n",
              "        vertical-align: middle;\n",
              "    }\n",
              "\n",
              "    .dataframe tbody tr th {\n",
              "        vertical-align: top;\n",
              "    }\n",
              "\n",
              "    .dataframe thead th {\n",
              "        text-align: right;\n",
              "    }\n",
              "</style>\n",
              "<table border=\"1\" class=\"dataframe\">\n",
              "  <thead>\n",
              "    <tr style=\"text-align: right;\">\n",
              "      <th></th>\n",
              "      <th>titre</th>\n",
              "      <th>notes presse</th>\n",
              "      <th>notes spectateurs</th>\n",
              "    </tr>\n",
              "  </thead>\n",
              "  <tbody>\n",
              "    <tr>\n",
              "      <th>0</th>\n",
              "      <td>Forrest Gump</td>\n",
              "      <td>2,6</td>\n",
              "      <td>4,6</td>\n",
              "    </tr>\n",
              "    <tr>\n",
              "      <th>1</th>\n",
              "      <td>La Liste de Schindler</td>\n",
              "      <td>4,2</td>\n",
              "      <td>4,6</td>\n",
              "    </tr>\n",
              "    <tr>\n",
              "      <th>2</th>\n",
              "      <td>La Ligne verte</td>\n",
              "      <td>2,8</td>\n",
              "      <td>4,6</td>\n",
              "    </tr>\n",
              "    <tr>\n",
              "      <th>3</th>\n",
              "      <td>12 hommes en colère</td>\n",
              "      <td>5,0</td>\n",
              "      <td>4,6</td>\n",
              "    </tr>\n",
              "    <tr>\n",
              "      <th>4</th>\n",
              "      <td>Le Parrain</td>\n",
              "      <td>4,6</td>\n",
              "      <td>4,5</td>\n",
              "    </tr>\n",
              "  </tbody>\n",
              "</table>\n",
              "</div>\n",
              "    <div class=\"colab-df-buttons\">\n",
              "\n",
              "  <div class=\"colab-df-container\">\n",
              "    <button class=\"colab-df-convert\" onclick=\"convertToInteractive('df-8e927542-3c11-4825-81f7-43696e129b14')\"\n",
              "            title=\"Convert this dataframe to an interactive table.\"\n",
              "            style=\"display:none;\">\n",
              "\n",
              "  <svg xmlns=\"http://www.w3.org/2000/svg\" height=\"24px\" viewBox=\"0 -960 960 960\">\n",
              "    <path d=\"M120-120v-720h720v720H120Zm60-500h600v-160H180v160Zm220 220h160v-160H400v160Zm0 220h160v-160H400v160ZM180-400h160v-160H180v160Zm440 0h160v-160H620v160ZM180-180h160v-160H180v160Zm440 0h160v-160H620v160Z\"/>\n",
              "  </svg>\n",
              "    </button>\n",
              "\n",
              "  <style>\n",
              "    .colab-df-container {\n",
              "      display:flex;\n",
              "      gap: 12px;\n",
              "    }\n",
              "\n",
              "    .colab-df-convert {\n",
              "      background-color: #E8F0FE;\n",
              "      border: none;\n",
              "      border-radius: 50%;\n",
              "      cursor: pointer;\n",
              "      display: none;\n",
              "      fill: #1967D2;\n",
              "      height: 32px;\n",
              "      padding: 0 0 0 0;\n",
              "      width: 32px;\n",
              "    }\n",
              "\n",
              "    .colab-df-convert:hover {\n",
              "      background-color: #E2EBFA;\n",
              "      box-shadow: 0px 1px 2px rgba(60, 64, 67, 0.3), 0px 1px 3px 1px rgba(60, 64, 67, 0.15);\n",
              "      fill: #174EA6;\n",
              "    }\n",
              "\n",
              "    .colab-df-buttons div {\n",
              "      margin-bottom: 4px;\n",
              "    }\n",
              "\n",
              "    [theme=dark] .colab-df-convert {\n",
              "      background-color: #3B4455;\n",
              "      fill: #D2E3FC;\n",
              "    }\n",
              "\n",
              "    [theme=dark] .colab-df-convert:hover {\n",
              "      background-color: #434B5C;\n",
              "      box-shadow: 0px 1px 3px 1px rgba(0, 0, 0, 0.15);\n",
              "      filter: drop-shadow(0px 1px 2px rgba(0, 0, 0, 0.3));\n",
              "      fill: #FFFFFF;\n",
              "    }\n",
              "  </style>\n",
              "\n",
              "    <script>\n",
              "      const buttonEl =\n",
              "        document.querySelector('#df-8e927542-3c11-4825-81f7-43696e129b14 button.colab-df-convert');\n",
              "      buttonEl.style.display =\n",
              "        google.colab.kernel.accessAllowed ? 'block' : 'none';\n",
              "\n",
              "      async function convertToInteractive(key) {\n",
              "        const element = document.querySelector('#df-8e927542-3c11-4825-81f7-43696e129b14');\n",
              "        const dataTable =\n",
              "          await google.colab.kernel.invokeFunction('convertToInteractive',\n",
              "                                                    [key], {});\n",
              "        if (!dataTable) return;\n",
              "\n",
              "        const docLinkHtml = 'Like what you see? Visit the ' +\n",
              "          '<a target=\"_blank\" href=https://colab.research.google.com/notebooks/data_table.ipynb>data table notebook</a>'\n",
              "          + ' to learn more about interactive tables.';\n",
              "        element.innerHTML = '';\n",
              "        dataTable['output_type'] = 'display_data';\n",
              "        await google.colab.output.renderOutput(dataTable, element);\n",
              "        const docLink = document.createElement('div');\n",
              "        docLink.innerHTML = docLinkHtml;\n",
              "        element.appendChild(docLink);\n",
              "      }\n",
              "    </script>\n",
              "  </div>\n",
              "\n",
              "\n",
              "<div id=\"df-2ff1a358-ee62-4140-9b54-bf73e5f6af6d\">\n",
              "  <button class=\"colab-df-quickchart\" onclick=\"quickchart('df-2ff1a358-ee62-4140-9b54-bf73e5f6af6d')\"\n",
              "            title=\"Suggest charts\"\n",
              "            style=\"display:none;\">\n",
              "\n",
              "<svg xmlns=\"http://www.w3.org/2000/svg\" height=\"24px\"viewBox=\"0 0 24 24\"\n",
              "     width=\"24px\">\n",
              "    <g>\n",
              "        <path d=\"M19 3H5c-1.1 0-2 .9-2 2v14c0 1.1.9 2 2 2h14c1.1 0 2-.9 2-2V5c0-1.1-.9-2-2-2zM9 17H7v-7h2v7zm4 0h-2V7h2v10zm4 0h-2v-4h2v4z\"/>\n",
              "    </g>\n",
              "</svg>\n",
              "  </button>\n",
              "\n",
              "<style>\n",
              "  .colab-df-quickchart {\n",
              "      --bg-color: #E8F0FE;\n",
              "      --fill-color: #1967D2;\n",
              "      --hover-bg-color: #E2EBFA;\n",
              "      --hover-fill-color: #174EA6;\n",
              "      --disabled-fill-color: #AAA;\n",
              "      --disabled-bg-color: #DDD;\n",
              "  }\n",
              "\n",
              "  [theme=dark] .colab-df-quickchart {\n",
              "      --bg-color: #3B4455;\n",
              "      --fill-color: #D2E3FC;\n",
              "      --hover-bg-color: #434B5C;\n",
              "      --hover-fill-color: #FFFFFF;\n",
              "      --disabled-bg-color: #3B4455;\n",
              "      --disabled-fill-color: #666;\n",
              "  }\n",
              "\n",
              "  .colab-df-quickchart {\n",
              "    background-color: var(--bg-color);\n",
              "    border: none;\n",
              "    border-radius: 50%;\n",
              "    cursor: pointer;\n",
              "    display: none;\n",
              "    fill: var(--fill-color);\n",
              "    height: 32px;\n",
              "    padding: 0;\n",
              "    width: 32px;\n",
              "  }\n",
              "\n",
              "  .colab-df-quickchart:hover {\n",
              "    background-color: var(--hover-bg-color);\n",
              "    box-shadow: 0 1px 2px rgba(60, 64, 67, 0.3), 0 1px 3px 1px rgba(60, 64, 67, 0.15);\n",
              "    fill: var(--button-hover-fill-color);\n",
              "  }\n",
              "\n",
              "  .colab-df-quickchart-complete:disabled,\n",
              "  .colab-df-quickchart-complete:disabled:hover {\n",
              "    background-color: var(--disabled-bg-color);\n",
              "    fill: var(--disabled-fill-color);\n",
              "    box-shadow: none;\n",
              "  }\n",
              "\n",
              "  .colab-df-spinner {\n",
              "    border: 2px solid var(--fill-color);\n",
              "    border-color: transparent;\n",
              "    border-bottom-color: var(--fill-color);\n",
              "    animation:\n",
              "      spin 1s steps(1) infinite;\n",
              "  }\n",
              "\n",
              "  @keyframes spin {\n",
              "    0% {\n",
              "      border-color: transparent;\n",
              "      border-bottom-color: var(--fill-color);\n",
              "      border-left-color: var(--fill-color);\n",
              "    }\n",
              "    20% {\n",
              "      border-color: transparent;\n",
              "      border-left-color: var(--fill-color);\n",
              "      border-top-color: var(--fill-color);\n",
              "    }\n",
              "    30% {\n",
              "      border-color: transparent;\n",
              "      border-left-color: var(--fill-color);\n",
              "      border-top-color: var(--fill-color);\n",
              "      border-right-color: var(--fill-color);\n",
              "    }\n",
              "    40% {\n",
              "      border-color: transparent;\n",
              "      border-right-color: var(--fill-color);\n",
              "      border-top-color: var(--fill-color);\n",
              "    }\n",
              "    60% {\n",
              "      border-color: transparent;\n",
              "      border-right-color: var(--fill-color);\n",
              "    }\n",
              "    80% {\n",
              "      border-color: transparent;\n",
              "      border-right-color: var(--fill-color);\n",
              "      border-bottom-color: var(--fill-color);\n",
              "    }\n",
              "    90% {\n",
              "      border-color: transparent;\n",
              "      border-bottom-color: var(--fill-color);\n",
              "    }\n",
              "  }\n",
              "</style>\n",
              "\n",
              "  <script>\n",
              "    async function quickchart(key) {\n",
              "      const quickchartButtonEl =\n",
              "        document.querySelector('#' + key + ' button');\n",
              "      quickchartButtonEl.disabled = true;  // To prevent multiple clicks.\n",
              "      quickchartButtonEl.classList.add('colab-df-spinner');\n",
              "      try {\n",
              "        const charts = await google.colab.kernel.invokeFunction(\n",
              "            'suggestCharts', [key], {});\n",
              "      } catch (error) {\n",
              "        console.error('Error during call to suggestCharts:', error);\n",
              "      }\n",
              "      quickchartButtonEl.classList.remove('colab-df-spinner');\n",
              "      quickchartButtonEl.classList.add('colab-df-quickchart-complete');\n",
              "    }\n",
              "    (() => {\n",
              "      let quickchartButtonEl =\n",
              "        document.querySelector('#df-2ff1a358-ee62-4140-9b54-bf73e5f6af6d button');\n",
              "      quickchartButtonEl.style.display =\n",
              "        google.colab.kernel.accessAllowed ? 'block' : 'none';\n",
              "    })();\n",
              "  </script>\n",
              "</div>\n",
              "    </div>\n",
              "  </div>\n"
            ],
            "application/vnd.google.colaboratory.intrinsic+json": {
              "type": "dataframe",
              "variable_name": "df_allocine",
              "summary": "{\n  \"name\": \"df_allocine\",\n  \"rows\": 10,\n  \"fields\": [\n    {\n      \"column\": \"titre\",\n      \"properties\": {\n        \"dtype\": \"string\",\n        \"num_unique_values\": 10,\n        \"samples\": [\n          \"Vol au-dessus d'un nid de coucou\",\n          \"La Liste de Schindler\",\n          \"Les Evad\\u00e9s\"\n        ],\n        \"semantic_type\": \"\",\n        \"description\": \"\"\n      }\n    },\n    {\n      \"column\": \"notes presse\",\n      \"properties\": {\n        \"dtype\": \"string\",\n        \"num_unique_values\": 9,\n        \"samples\": [\n          \"3,4\",\n          \"4,2\",\n          \"3,2\"\n        ],\n        \"semantic_type\": \"\",\n        \"description\": \"\"\n      }\n    },\n    {\n      \"column\": \"notes spectateurs\",\n      \"properties\": {\n        \"dtype\": \"category\",\n        \"num_unique_values\": 2,\n        \"samples\": [\n          \"4,5\",\n          \"4,6\"\n        ],\n        \"semantic_type\": \"\",\n        \"description\": \"\"\n      }\n    }\n  ]\n}"
            }
          },
          "metadata": {},
          "execution_count": 35
        }
      ]
    },
    {
      "cell_type": "markdown",
      "source": [
        "3. **Comparaison**"
      ],
      "metadata": {
        "id": "I4SSs8tdn8Hc"
      }
    },
    {
      "cell_type": "markdown",
      "source": [
        "Utiliser la méthode str.upper() pour mettre en majuscule l'intégralité de la colonne Titre des deux DataFrames."
      ],
      "metadata": {
        "id": "dAz78g7gn_M_"
      }
    },
    {
      "cell_type": "code",
      "source": [
        "df_allocine['titre'] = df_allocine['titre'].str.upper()\n",
        "df_imdb['titre'] = df_imdb['titre'].str.upper()"
      ],
      "metadata": {
        "id": "oc5jZwgxocb2"
      },
      "execution_count": 36,
      "outputs": []
    },
    {
      "cell_type": "markdown",
      "source": [
        "Fusionner les DataFrames df_imdb et df_allocine dans un nouveau DataFrame df en gardant seulement les films en commun."
      ],
      "metadata": {
        "id": "TNP0Ft9do-OJ"
      }
    },
    {
      "cell_type": "code",
      "source": [
        "df = pd.concat([df_allocine,df_imdb])"
      ],
      "metadata": {
        "id": "AaOsQVBHo-qp"
      },
      "execution_count": 37,
      "outputs": []
    },
    {
      "cell_type": "code",
      "source": [
        "df"
      ],
      "metadata": {
        "colab": {
          "base_uri": "https://localhost:8080/",
          "height": 424
        },
        "id": "oSDPvrEVpHPk",
        "outputId": "969f2d95-cf0f-4de4-b1d1-ccdae6ab3da7"
      },
      "execution_count": 38,
      "outputs": [
        {
          "output_type": "execute_result",
          "data": {
            "text/plain": [
              "                         titre notes presse notes spectateurs rang annee\n",
              "0                 FORREST GUMP          2,6               4,6  NaN   NaN\n",
              "1        LA LISTE DE SCHINDLER          4,2               4,6  NaN   NaN\n",
              "2               LA LIGNE VERTE          2,8               4,6  NaN   NaN\n",
              "3          12 HOMMES EN COLÈRE          5,0               4,6  NaN   NaN\n",
              "4                   LE PARRAIN          4,6               4,5  NaN   NaN\n",
              "..                         ...          ...               ...  ...   ...\n",
              "245            LE GÉANT DE FER          NaN              8,0   246  1999\n",
              "246  LA COULEUR DES SENTIMENTS          NaN              8,0   247  2011\n",
              "247                    ALADDIN          NaN              8,0   248  1992\n",
              "248                     GANDHI          NaN              8,0   249  1982\n",
              "249  DU RIFIFI CHEZ LES HOMMES          NaN              8,0   250  1955\n",
              "\n",
              "[260 rows x 5 columns]"
            ],
            "text/html": [
              "\n",
              "  <div id=\"df-7e468640-4ddf-4ac3-a182-322fafb392b0\" class=\"colab-df-container\">\n",
              "    <div>\n",
              "<style scoped>\n",
              "    .dataframe tbody tr th:only-of-type {\n",
              "        vertical-align: middle;\n",
              "    }\n",
              "\n",
              "    .dataframe tbody tr th {\n",
              "        vertical-align: top;\n",
              "    }\n",
              "\n",
              "    .dataframe thead th {\n",
              "        text-align: right;\n",
              "    }\n",
              "</style>\n",
              "<table border=\"1\" class=\"dataframe\">\n",
              "  <thead>\n",
              "    <tr style=\"text-align: right;\">\n",
              "      <th></th>\n",
              "      <th>titre</th>\n",
              "      <th>notes presse</th>\n",
              "      <th>notes spectateurs</th>\n",
              "      <th>rang</th>\n",
              "      <th>annee</th>\n",
              "    </tr>\n",
              "  </thead>\n",
              "  <tbody>\n",
              "    <tr>\n",
              "      <th>0</th>\n",
              "      <td>FORREST GUMP</td>\n",
              "      <td>2,6</td>\n",
              "      <td>4,6</td>\n",
              "      <td>NaN</td>\n",
              "      <td>NaN</td>\n",
              "    </tr>\n",
              "    <tr>\n",
              "      <th>1</th>\n",
              "      <td>LA LISTE DE SCHINDLER</td>\n",
              "      <td>4,2</td>\n",
              "      <td>4,6</td>\n",
              "      <td>NaN</td>\n",
              "      <td>NaN</td>\n",
              "    </tr>\n",
              "    <tr>\n",
              "      <th>2</th>\n",
              "      <td>LA LIGNE VERTE</td>\n",
              "      <td>2,8</td>\n",
              "      <td>4,6</td>\n",
              "      <td>NaN</td>\n",
              "      <td>NaN</td>\n",
              "    </tr>\n",
              "    <tr>\n",
              "      <th>3</th>\n",
              "      <td>12 HOMMES EN COLÈRE</td>\n",
              "      <td>5,0</td>\n",
              "      <td>4,6</td>\n",
              "      <td>NaN</td>\n",
              "      <td>NaN</td>\n",
              "    </tr>\n",
              "    <tr>\n",
              "      <th>4</th>\n",
              "      <td>LE PARRAIN</td>\n",
              "      <td>4,6</td>\n",
              "      <td>4,5</td>\n",
              "      <td>NaN</td>\n",
              "      <td>NaN</td>\n",
              "    </tr>\n",
              "    <tr>\n",
              "      <th>...</th>\n",
              "      <td>...</td>\n",
              "      <td>...</td>\n",
              "      <td>...</td>\n",
              "      <td>...</td>\n",
              "      <td>...</td>\n",
              "    </tr>\n",
              "    <tr>\n",
              "      <th>245</th>\n",
              "      <td>LE GÉANT DE FER</td>\n",
              "      <td>NaN</td>\n",
              "      <td>8,0</td>\n",
              "      <td>246</td>\n",
              "      <td>1999</td>\n",
              "    </tr>\n",
              "    <tr>\n",
              "      <th>246</th>\n",
              "      <td>LA COULEUR DES SENTIMENTS</td>\n",
              "      <td>NaN</td>\n",
              "      <td>8,0</td>\n",
              "      <td>247</td>\n",
              "      <td>2011</td>\n",
              "    </tr>\n",
              "    <tr>\n",
              "      <th>247</th>\n",
              "      <td>ALADDIN</td>\n",
              "      <td>NaN</td>\n",
              "      <td>8,0</td>\n",
              "      <td>248</td>\n",
              "      <td>1992</td>\n",
              "    </tr>\n",
              "    <tr>\n",
              "      <th>248</th>\n",
              "      <td>GANDHI</td>\n",
              "      <td>NaN</td>\n",
              "      <td>8,0</td>\n",
              "      <td>249</td>\n",
              "      <td>1982</td>\n",
              "    </tr>\n",
              "    <tr>\n",
              "      <th>249</th>\n",
              "      <td>DU RIFIFI CHEZ LES HOMMES</td>\n",
              "      <td>NaN</td>\n",
              "      <td>8,0</td>\n",
              "      <td>250</td>\n",
              "      <td>1955</td>\n",
              "    </tr>\n",
              "  </tbody>\n",
              "</table>\n",
              "<p>260 rows × 5 columns</p>\n",
              "</div>\n",
              "    <div class=\"colab-df-buttons\">\n",
              "\n",
              "  <div class=\"colab-df-container\">\n",
              "    <button class=\"colab-df-convert\" onclick=\"convertToInteractive('df-7e468640-4ddf-4ac3-a182-322fafb392b0')\"\n",
              "            title=\"Convert this dataframe to an interactive table.\"\n",
              "            style=\"display:none;\">\n",
              "\n",
              "  <svg xmlns=\"http://www.w3.org/2000/svg\" height=\"24px\" viewBox=\"0 -960 960 960\">\n",
              "    <path d=\"M120-120v-720h720v720H120Zm60-500h600v-160H180v160Zm220 220h160v-160H400v160Zm0 220h160v-160H400v160ZM180-400h160v-160H180v160Zm440 0h160v-160H620v160ZM180-180h160v-160H180v160Zm440 0h160v-160H620v160Z\"/>\n",
              "  </svg>\n",
              "    </button>\n",
              "\n",
              "  <style>\n",
              "    .colab-df-container {\n",
              "      display:flex;\n",
              "      gap: 12px;\n",
              "    }\n",
              "\n",
              "    .colab-df-convert {\n",
              "      background-color: #E8F0FE;\n",
              "      border: none;\n",
              "      border-radius: 50%;\n",
              "      cursor: pointer;\n",
              "      display: none;\n",
              "      fill: #1967D2;\n",
              "      height: 32px;\n",
              "      padding: 0 0 0 0;\n",
              "      width: 32px;\n",
              "    }\n",
              "\n",
              "    .colab-df-convert:hover {\n",
              "      background-color: #E2EBFA;\n",
              "      box-shadow: 0px 1px 2px rgba(60, 64, 67, 0.3), 0px 1px 3px 1px rgba(60, 64, 67, 0.15);\n",
              "      fill: #174EA6;\n",
              "    }\n",
              "\n",
              "    .colab-df-buttons div {\n",
              "      margin-bottom: 4px;\n",
              "    }\n",
              "\n",
              "    [theme=dark] .colab-df-convert {\n",
              "      background-color: #3B4455;\n",
              "      fill: #D2E3FC;\n",
              "    }\n",
              "\n",
              "    [theme=dark] .colab-df-convert:hover {\n",
              "      background-color: #434B5C;\n",
              "      box-shadow: 0px 1px 3px 1px rgba(0, 0, 0, 0.15);\n",
              "      filter: drop-shadow(0px 1px 2px rgba(0, 0, 0, 0.3));\n",
              "      fill: #FFFFFF;\n",
              "    }\n",
              "  </style>\n",
              "\n",
              "    <script>\n",
              "      const buttonEl =\n",
              "        document.querySelector('#df-7e468640-4ddf-4ac3-a182-322fafb392b0 button.colab-df-convert');\n",
              "      buttonEl.style.display =\n",
              "        google.colab.kernel.accessAllowed ? 'block' : 'none';\n",
              "\n",
              "      async function convertToInteractive(key) {\n",
              "        const element = document.querySelector('#df-7e468640-4ddf-4ac3-a182-322fafb392b0');\n",
              "        const dataTable =\n",
              "          await google.colab.kernel.invokeFunction('convertToInteractive',\n",
              "                                                    [key], {});\n",
              "        if (!dataTable) return;\n",
              "\n",
              "        const docLinkHtml = 'Like what you see? Visit the ' +\n",
              "          '<a target=\"_blank\" href=https://colab.research.google.com/notebooks/data_table.ipynb>data table notebook</a>'\n",
              "          + ' to learn more about interactive tables.';\n",
              "        element.innerHTML = '';\n",
              "        dataTable['output_type'] = 'display_data';\n",
              "        await google.colab.output.renderOutput(dataTable, element);\n",
              "        const docLink = document.createElement('div');\n",
              "        docLink.innerHTML = docLinkHtml;\n",
              "        element.appendChild(docLink);\n",
              "      }\n",
              "    </script>\n",
              "  </div>\n",
              "\n",
              "\n",
              "<div id=\"df-5d893356-13c6-4739-adb2-046a2e003acd\">\n",
              "  <button class=\"colab-df-quickchart\" onclick=\"quickchart('df-5d893356-13c6-4739-adb2-046a2e003acd')\"\n",
              "            title=\"Suggest charts\"\n",
              "            style=\"display:none;\">\n",
              "\n",
              "<svg xmlns=\"http://www.w3.org/2000/svg\" height=\"24px\"viewBox=\"0 0 24 24\"\n",
              "     width=\"24px\">\n",
              "    <g>\n",
              "        <path d=\"M19 3H5c-1.1 0-2 .9-2 2v14c0 1.1.9 2 2 2h14c1.1 0 2-.9 2-2V5c0-1.1-.9-2-2-2zM9 17H7v-7h2v7zm4 0h-2V7h2v10zm4 0h-2v-4h2v4z\"/>\n",
              "    </g>\n",
              "</svg>\n",
              "  </button>\n",
              "\n",
              "<style>\n",
              "  .colab-df-quickchart {\n",
              "      --bg-color: #E8F0FE;\n",
              "      --fill-color: #1967D2;\n",
              "      --hover-bg-color: #E2EBFA;\n",
              "      --hover-fill-color: #174EA6;\n",
              "      --disabled-fill-color: #AAA;\n",
              "      --disabled-bg-color: #DDD;\n",
              "  }\n",
              "\n",
              "  [theme=dark] .colab-df-quickchart {\n",
              "      --bg-color: #3B4455;\n",
              "      --fill-color: #D2E3FC;\n",
              "      --hover-bg-color: #434B5C;\n",
              "      --hover-fill-color: #FFFFFF;\n",
              "      --disabled-bg-color: #3B4455;\n",
              "      --disabled-fill-color: #666;\n",
              "  }\n",
              "\n",
              "  .colab-df-quickchart {\n",
              "    background-color: var(--bg-color);\n",
              "    border: none;\n",
              "    border-radius: 50%;\n",
              "    cursor: pointer;\n",
              "    display: none;\n",
              "    fill: var(--fill-color);\n",
              "    height: 32px;\n",
              "    padding: 0;\n",
              "    width: 32px;\n",
              "  }\n",
              "\n",
              "  .colab-df-quickchart:hover {\n",
              "    background-color: var(--hover-bg-color);\n",
              "    box-shadow: 0 1px 2px rgba(60, 64, 67, 0.3), 0 1px 3px 1px rgba(60, 64, 67, 0.15);\n",
              "    fill: var(--button-hover-fill-color);\n",
              "  }\n",
              "\n",
              "  .colab-df-quickchart-complete:disabled,\n",
              "  .colab-df-quickchart-complete:disabled:hover {\n",
              "    background-color: var(--disabled-bg-color);\n",
              "    fill: var(--disabled-fill-color);\n",
              "    box-shadow: none;\n",
              "  }\n",
              "\n",
              "  .colab-df-spinner {\n",
              "    border: 2px solid var(--fill-color);\n",
              "    border-color: transparent;\n",
              "    border-bottom-color: var(--fill-color);\n",
              "    animation:\n",
              "      spin 1s steps(1) infinite;\n",
              "  }\n",
              "\n",
              "  @keyframes spin {\n",
              "    0% {\n",
              "      border-color: transparent;\n",
              "      border-bottom-color: var(--fill-color);\n",
              "      border-left-color: var(--fill-color);\n",
              "    }\n",
              "    20% {\n",
              "      border-color: transparent;\n",
              "      border-left-color: var(--fill-color);\n",
              "      border-top-color: var(--fill-color);\n",
              "    }\n",
              "    30% {\n",
              "      border-color: transparent;\n",
              "      border-left-color: var(--fill-color);\n",
              "      border-top-color: var(--fill-color);\n",
              "      border-right-color: var(--fill-color);\n",
              "    }\n",
              "    40% {\n",
              "      border-color: transparent;\n",
              "      border-right-color: var(--fill-color);\n",
              "      border-top-color: var(--fill-color);\n",
              "    }\n",
              "    60% {\n",
              "      border-color: transparent;\n",
              "      border-right-color: var(--fill-color);\n",
              "    }\n",
              "    80% {\n",
              "      border-color: transparent;\n",
              "      border-right-color: var(--fill-color);\n",
              "      border-bottom-color: var(--fill-color);\n",
              "    }\n",
              "    90% {\n",
              "      border-color: transparent;\n",
              "      border-bottom-color: var(--fill-color);\n",
              "    }\n",
              "  }\n",
              "</style>\n",
              "\n",
              "  <script>\n",
              "    async function quickchart(key) {\n",
              "      const quickchartButtonEl =\n",
              "        document.querySelector('#' + key + ' button');\n",
              "      quickchartButtonEl.disabled = true;  // To prevent multiple clicks.\n",
              "      quickchartButtonEl.classList.add('colab-df-spinner');\n",
              "      try {\n",
              "        const charts = await google.colab.kernel.invokeFunction(\n",
              "            'suggestCharts', [key], {});\n",
              "      } catch (error) {\n",
              "        console.error('Error during call to suggestCharts:', error);\n",
              "      }\n",
              "      quickchartButtonEl.classList.remove('colab-df-spinner');\n",
              "      quickchartButtonEl.classList.add('colab-df-quickchart-complete');\n",
              "    }\n",
              "    (() => {\n",
              "      let quickchartButtonEl =\n",
              "        document.querySelector('#df-5d893356-13c6-4739-adb2-046a2e003acd button');\n",
              "      quickchartButtonEl.style.display =\n",
              "        google.colab.kernel.accessAllowed ? 'block' : 'none';\n",
              "    })();\n",
              "  </script>\n",
              "</div>\n",
              "    </div>\n",
              "  </div>\n"
            ],
            "application/vnd.google.colaboratory.intrinsic+json": {
              "type": "dataframe",
              "variable_name": "df",
              "summary": "{\n  \"name\": \"df\",\n  \"rows\": 260,\n  \"fields\": [\n    {\n      \"column\": \"titre\",\n      \"properties\": {\n        \"dtype\": \"string\",\n        \"num_unique_values\": 251,\n        \"samples\": [\n          \"ELEPHANT MAN\",\n          \"LE SEIGNEUR DES ANNEAUX : LE RETOUR DU ROI\",\n          \"LE CH\\u00c2TEAU AMBULANT\"\n        ],\n        \"semantic_type\": \"\",\n        \"description\": \"\"\n      }\n    },\n    {\n      \"column\": \"notes presse\",\n      \"properties\": {\n        \"dtype\": \"category\",\n        \"num_unique_values\": 9,\n        \"samples\": [\n          \"3,4\",\n          \"4,2\",\n          \"3,2\"\n        ],\n        \"semantic_type\": \"\",\n        \"description\": \"\"\n      }\n    },\n    {\n      \"column\": \"notes spectateurs\",\n      \"properties\": {\n        \"dtype\": \"category\",\n        \"num_unique_values\": 14,\n        \"samples\": [\n          \" 8,4 \",\n          \" 8,2 \",\n          \"4,6\"\n        ],\n        \"semantic_type\": \"\",\n        \"description\": \"\"\n      }\n    },\n    {\n      \"column\": \"rang\",\n      \"properties\": {\n        \"dtype\": \"string\",\n        \"num_unique_values\": 250,\n        \"samples\": [\n          \"143\",\n          \"7\",\n          \"98\"\n        ],\n        \"semantic_type\": \"\",\n        \"description\": \"\"\n      }\n    },\n    {\n      \"column\": \"annee\",\n      \"properties\": {\n        \"dtype\": \"date\",\n        \"min\": \"1921-01-01 00:00:00\",\n        \"max\": \"2022-01-01 00:00:00\",\n        \"num_unique_values\": 86,\n        \"samples\": [\n          \"1996\",\n          \"1994\",\n          \"1961\"\n        ],\n        \"semantic_type\": \"\",\n        \"description\": \"\"\n      }\n    }\n  ]\n}"
            }
          },
          "metadata": {},
          "execution_count": 38
        }
      ]
    },
    {
      "cell_type": "markdown",
      "source": [
        "Selon les spectateurs, quel site a les meilleures notes ?"
      ],
      "metadata": {
        "id": "jhhO387IqQ5K"
      }
    },
    {
      "cell_type": "code",
      "source": [
        "df = df.sort_values(by=['notes spectateurs'])"
      ],
      "metadata": {
        "id": "3_BFlmXZqjXw"
      },
      "execution_count": 39,
      "outputs": []
    },
    {
      "cell_type": "code",
      "source": [
        "print(df.head(1))"
      ],
      "metadata": {
        "colab": {
          "base_uri": "https://localhost:8080/"
        },
        "id": "pbxPBC1CqRcA",
        "outputId": "b4115903-259e-49bf-98de-a15ed96f6313"
      },
      "execution_count": 40,
      "outputs": [
        {
          "output_type": "stream",
          "name": "stdout",
          "text": [
            "                         titre notes presse notes spectateurs rang annee\n",
            "249  DU RIFIFI CHEZ LES HOMMES          NaN              8,0   250  1955\n"
          ]
        }
      ]
    }
  ]
}